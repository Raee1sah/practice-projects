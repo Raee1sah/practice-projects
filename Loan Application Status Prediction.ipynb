{
 "cells": [
  {
   "cell_type": "code",
   "execution_count": 71,
   "id": "42c6e8cb",
   "metadata": {},
   "outputs": [],
   "source": [
    "import pandas as pd\n",
    "import numpy as np\n",
    "import matplotlib.pyplot as plt\n",
    "import seaborn as sns"
   ]
  },
  {
   "cell_type": "code",
   "execution_count": 72,
   "id": "fda683b1",
   "metadata": {},
   "outputs": [],
   "source": [
    "df=pd.read_csv(\"https://raw.githubusercontent.com/dsrscientist/DSData/master/loan_prediction.csv\")"
   ]
  },
  {
   "cell_type": "code",
   "execution_count": 73,
   "id": "6a0249ec",
   "metadata": {},
   "outputs": [
    {
     "data": {
      "text/html": [
       "<div>\n",
       "<style scoped>\n",
       "    .dataframe tbody tr th:only-of-type {\n",
       "        vertical-align: middle;\n",
       "    }\n",
       "\n",
       "    .dataframe tbody tr th {\n",
       "        vertical-align: top;\n",
       "    }\n",
       "\n",
       "    .dataframe thead th {\n",
       "        text-align: right;\n",
       "    }\n",
       "</style>\n",
       "<table border=\"1\" class=\"dataframe\">\n",
       "  <thead>\n",
       "    <tr style=\"text-align: right;\">\n",
       "      <th></th>\n",
       "      <th>Loan_ID</th>\n",
       "      <th>Gender</th>\n",
       "      <th>Married</th>\n",
       "      <th>Dependents</th>\n",
       "      <th>Education</th>\n",
       "      <th>Self_Employed</th>\n",
       "      <th>ApplicantIncome</th>\n",
       "      <th>CoapplicantIncome</th>\n",
       "      <th>LoanAmount</th>\n",
       "      <th>Loan_Amount_Term</th>\n",
       "      <th>Credit_History</th>\n",
       "      <th>Property_Area</th>\n",
       "      <th>Loan_Status</th>\n",
       "    </tr>\n",
       "  </thead>\n",
       "  <tbody>\n",
       "    <tr>\n",
       "      <th>0</th>\n",
       "      <td>LP001002</td>\n",
       "      <td>Male</td>\n",
       "      <td>No</td>\n",
       "      <td>0</td>\n",
       "      <td>Graduate</td>\n",
       "      <td>No</td>\n",
       "      <td>5849</td>\n",
       "      <td>0.0</td>\n",
       "      <td>NaN</td>\n",
       "      <td>360.0</td>\n",
       "      <td>1.0</td>\n",
       "      <td>Urban</td>\n",
       "      <td>Y</td>\n",
       "    </tr>\n",
       "    <tr>\n",
       "      <th>1</th>\n",
       "      <td>LP001003</td>\n",
       "      <td>Male</td>\n",
       "      <td>Yes</td>\n",
       "      <td>1</td>\n",
       "      <td>Graduate</td>\n",
       "      <td>No</td>\n",
       "      <td>4583</td>\n",
       "      <td>1508.0</td>\n",
       "      <td>128.0</td>\n",
       "      <td>360.0</td>\n",
       "      <td>1.0</td>\n",
       "      <td>Rural</td>\n",
       "      <td>N</td>\n",
       "    </tr>\n",
       "    <tr>\n",
       "      <th>2</th>\n",
       "      <td>LP001005</td>\n",
       "      <td>Male</td>\n",
       "      <td>Yes</td>\n",
       "      <td>0</td>\n",
       "      <td>Graduate</td>\n",
       "      <td>Yes</td>\n",
       "      <td>3000</td>\n",
       "      <td>0.0</td>\n",
       "      <td>66.0</td>\n",
       "      <td>360.0</td>\n",
       "      <td>1.0</td>\n",
       "      <td>Urban</td>\n",
       "      <td>Y</td>\n",
       "    </tr>\n",
       "    <tr>\n",
       "      <th>3</th>\n",
       "      <td>LP001006</td>\n",
       "      <td>Male</td>\n",
       "      <td>Yes</td>\n",
       "      <td>0</td>\n",
       "      <td>Not Graduate</td>\n",
       "      <td>No</td>\n",
       "      <td>2583</td>\n",
       "      <td>2358.0</td>\n",
       "      <td>120.0</td>\n",
       "      <td>360.0</td>\n",
       "      <td>1.0</td>\n",
       "      <td>Urban</td>\n",
       "      <td>Y</td>\n",
       "    </tr>\n",
       "    <tr>\n",
       "      <th>4</th>\n",
       "      <td>LP001008</td>\n",
       "      <td>Male</td>\n",
       "      <td>No</td>\n",
       "      <td>0</td>\n",
       "      <td>Graduate</td>\n",
       "      <td>No</td>\n",
       "      <td>6000</td>\n",
       "      <td>0.0</td>\n",
       "      <td>141.0</td>\n",
       "      <td>360.0</td>\n",
       "      <td>1.0</td>\n",
       "      <td>Urban</td>\n",
       "      <td>Y</td>\n",
       "    </tr>\n",
       "    <tr>\n",
       "      <th>...</th>\n",
       "      <td>...</td>\n",
       "      <td>...</td>\n",
       "      <td>...</td>\n",
       "      <td>...</td>\n",
       "      <td>...</td>\n",
       "      <td>...</td>\n",
       "      <td>...</td>\n",
       "      <td>...</td>\n",
       "      <td>...</td>\n",
       "      <td>...</td>\n",
       "      <td>...</td>\n",
       "      <td>...</td>\n",
       "      <td>...</td>\n",
       "    </tr>\n",
       "    <tr>\n",
       "      <th>609</th>\n",
       "      <td>LP002978</td>\n",
       "      <td>Female</td>\n",
       "      <td>No</td>\n",
       "      <td>0</td>\n",
       "      <td>Graduate</td>\n",
       "      <td>No</td>\n",
       "      <td>2900</td>\n",
       "      <td>0.0</td>\n",
       "      <td>71.0</td>\n",
       "      <td>360.0</td>\n",
       "      <td>1.0</td>\n",
       "      <td>Rural</td>\n",
       "      <td>Y</td>\n",
       "    </tr>\n",
       "    <tr>\n",
       "      <th>610</th>\n",
       "      <td>LP002979</td>\n",
       "      <td>Male</td>\n",
       "      <td>Yes</td>\n",
       "      <td>3+</td>\n",
       "      <td>Graduate</td>\n",
       "      <td>No</td>\n",
       "      <td>4106</td>\n",
       "      <td>0.0</td>\n",
       "      <td>40.0</td>\n",
       "      <td>180.0</td>\n",
       "      <td>1.0</td>\n",
       "      <td>Rural</td>\n",
       "      <td>Y</td>\n",
       "    </tr>\n",
       "    <tr>\n",
       "      <th>611</th>\n",
       "      <td>LP002983</td>\n",
       "      <td>Male</td>\n",
       "      <td>Yes</td>\n",
       "      <td>1</td>\n",
       "      <td>Graduate</td>\n",
       "      <td>No</td>\n",
       "      <td>8072</td>\n",
       "      <td>240.0</td>\n",
       "      <td>253.0</td>\n",
       "      <td>360.0</td>\n",
       "      <td>1.0</td>\n",
       "      <td>Urban</td>\n",
       "      <td>Y</td>\n",
       "    </tr>\n",
       "    <tr>\n",
       "      <th>612</th>\n",
       "      <td>LP002984</td>\n",
       "      <td>Male</td>\n",
       "      <td>Yes</td>\n",
       "      <td>2</td>\n",
       "      <td>Graduate</td>\n",
       "      <td>No</td>\n",
       "      <td>7583</td>\n",
       "      <td>0.0</td>\n",
       "      <td>187.0</td>\n",
       "      <td>360.0</td>\n",
       "      <td>1.0</td>\n",
       "      <td>Urban</td>\n",
       "      <td>Y</td>\n",
       "    </tr>\n",
       "    <tr>\n",
       "      <th>613</th>\n",
       "      <td>LP002990</td>\n",
       "      <td>Female</td>\n",
       "      <td>No</td>\n",
       "      <td>0</td>\n",
       "      <td>Graduate</td>\n",
       "      <td>Yes</td>\n",
       "      <td>4583</td>\n",
       "      <td>0.0</td>\n",
       "      <td>133.0</td>\n",
       "      <td>360.0</td>\n",
       "      <td>0.0</td>\n",
       "      <td>Semiurban</td>\n",
       "      <td>N</td>\n",
       "    </tr>\n",
       "  </tbody>\n",
       "</table>\n",
       "<p>614 rows × 13 columns</p>\n",
       "</div>"
      ],
      "text/plain": [
       "      Loan_ID  Gender Married Dependents     Education Self_Employed  \\\n",
       "0    LP001002    Male      No          0      Graduate            No   \n",
       "1    LP001003    Male     Yes          1      Graduate            No   \n",
       "2    LP001005    Male     Yes          0      Graduate           Yes   \n",
       "3    LP001006    Male     Yes          0  Not Graduate            No   \n",
       "4    LP001008    Male      No          0      Graduate            No   \n",
       "..        ...     ...     ...        ...           ...           ...   \n",
       "609  LP002978  Female      No          0      Graduate            No   \n",
       "610  LP002979    Male     Yes         3+      Graduate            No   \n",
       "611  LP002983    Male     Yes          1      Graduate            No   \n",
       "612  LP002984    Male     Yes          2      Graduate            No   \n",
       "613  LP002990  Female      No          0      Graduate           Yes   \n",
       "\n",
       "     ApplicantIncome  CoapplicantIncome  LoanAmount  Loan_Amount_Term  \\\n",
       "0               5849                0.0         NaN             360.0   \n",
       "1               4583             1508.0       128.0             360.0   \n",
       "2               3000                0.0        66.0             360.0   \n",
       "3               2583             2358.0       120.0             360.0   \n",
       "4               6000                0.0       141.0             360.0   \n",
       "..               ...                ...         ...               ...   \n",
       "609             2900                0.0        71.0             360.0   \n",
       "610             4106                0.0        40.0             180.0   \n",
       "611             8072              240.0       253.0             360.0   \n",
       "612             7583                0.0       187.0             360.0   \n",
       "613             4583                0.0       133.0             360.0   \n",
       "\n",
       "     Credit_History Property_Area Loan_Status  \n",
       "0               1.0         Urban           Y  \n",
       "1               1.0         Rural           N  \n",
       "2               1.0         Urban           Y  \n",
       "3               1.0         Urban           Y  \n",
       "4               1.0         Urban           Y  \n",
       "..              ...           ...         ...  \n",
       "609             1.0         Rural           Y  \n",
       "610             1.0         Rural           Y  \n",
       "611             1.0         Urban           Y  \n",
       "612             1.0         Urban           Y  \n",
       "613             0.0     Semiurban           N  \n",
       "\n",
       "[614 rows x 13 columns]"
      ]
     },
     "execution_count": 73,
     "metadata": {},
     "output_type": "execute_result"
    }
   ],
   "source": [
    "df"
   ]
  },
  {
   "cell_type": "code",
   "execution_count": 4,
   "id": "c7522fe5",
   "metadata": {},
   "outputs": [
    {
     "data": {
      "text/plain": [
       "(614, 13)"
      ]
     },
     "execution_count": 4,
     "metadata": {},
     "output_type": "execute_result"
    }
   ],
   "source": [
    "df.shape"
   ]
  },
  {
   "cell_type": "code",
   "execution_count": 5,
   "id": "fe14baca",
   "metadata": {},
   "outputs": [
    {
     "data": {
      "text/plain": [
       "Index(['Loan_ID', 'Gender', 'Married', 'Dependents', 'Education',\n",
       "       'Self_Employed', 'ApplicantIncome', 'CoapplicantIncome', 'LoanAmount',\n",
       "       'Loan_Amount_Term', 'Credit_History', 'Property_Area', 'Loan_Status'],\n",
       "      dtype='object')"
      ]
     },
     "execution_count": 5,
     "metadata": {},
     "output_type": "execute_result"
    }
   ],
   "source": [
    "df.columns"
   ]
  },
  {
   "cell_type": "code",
   "execution_count": 6,
   "id": "7f6dbd13",
   "metadata": {},
   "outputs": [
    {
     "data": {
      "text/plain": [
       "Loan_ID               object\n",
       "Gender                object\n",
       "Married               object\n",
       "Dependents            object\n",
       "Education             object\n",
       "Self_Employed         object\n",
       "ApplicantIncome        int64\n",
       "CoapplicantIncome    float64\n",
       "LoanAmount           float64\n",
       "Loan_Amount_Term     float64\n",
       "Credit_History       float64\n",
       "Property_Area         object\n",
       "Loan_Status           object\n",
       "dtype: object"
      ]
     },
     "execution_count": 6,
     "metadata": {},
     "output_type": "execute_result"
    }
   ],
   "source": [
    "df.dtypes"
   ]
  },
  {
   "cell_type": "code",
   "execution_count": 8,
   "id": "3b8ab973",
   "metadata": {},
   "outputs": [
    {
     "data": {
      "text/html": [
       "<div>\n",
       "<style scoped>\n",
       "    .dataframe tbody tr th:only-of-type {\n",
       "        vertical-align: middle;\n",
       "    }\n",
       "\n",
       "    .dataframe tbody tr th {\n",
       "        vertical-align: top;\n",
       "    }\n",
       "\n",
       "    .dataframe thead th {\n",
       "        text-align: right;\n",
       "    }\n",
       "</style>\n",
       "<table border=\"1\" class=\"dataframe\">\n",
       "  <thead>\n",
       "    <tr style=\"text-align: right;\">\n",
       "      <th></th>\n",
       "      <th>ApplicantIncome</th>\n",
       "      <th>CoapplicantIncome</th>\n",
       "      <th>LoanAmount</th>\n",
       "      <th>Loan_Amount_Term</th>\n",
       "      <th>Credit_History</th>\n",
       "    </tr>\n",
       "  </thead>\n",
       "  <tbody>\n",
       "    <tr>\n",
       "      <th>count</th>\n",
       "      <td>614.000000</td>\n",
       "      <td>614.000000</td>\n",
       "      <td>592.000000</td>\n",
       "      <td>600.00000</td>\n",
       "      <td>564.000000</td>\n",
       "    </tr>\n",
       "    <tr>\n",
       "      <th>mean</th>\n",
       "      <td>5403.459283</td>\n",
       "      <td>1621.245798</td>\n",
       "      <td>146.412162</td>\n",
       "      <td>342.00000</td>\n",
       "      <td>0.842199</td>\n",
       "    </tr>\n",
       "    <tr>\n",
       "      <th>std</th>\n",
       "      <td>6109.041673</td>\n",
       "      <td>2926.248369</td>\n",
       "      <td>85.587325</td>\n",
       "      <td>65.12041</td>\n",
       "      <td>0.364878</td>\n",
       "    </tr>\n",
       "    <tr>\n",
       "      <th>min</th>\n",
       "      <td>150.000000</td>\n",
       "      <td>0.000000</td>\n",
       "      <td>9.000000</td>\n",
       "      <td>12.00000</td>\n",
       "      <td>0.000000</td>\n",
       "    </tr>\n",
       "    <tr>\n",
       "      <th>25%</th>\n",
       "      <td>2877.500000</td>\n",
       "      <td>0.000000</td>\n",
       "      <td>100.000000</td>\n",
       "      <td>360.00000</td>\n",
       "      <td>1.000000</td>\n",
       "    </tr>\n",
       "    <tr>\n",
       "      <th>50%</th>\n",
       "      <td>3812.500000</td>\n",
       "      <td>1188.500000</td>\n",
       "      <td>128.000000</td>\n",
       "      <td>360.00000</td>\n",
       "      <td>1.000000</td>\n",
       "    </tr>\n",
       "    <tr>\n",
       "      <th>75%</th>\n",
       "      <td>5795.000000</td>\n",
       "      <td>2297.250000</td>\n",
       "      <td>168.000000</td>\n",
       "      <td>360.00000</td>\n",
       "      <td>1.000000</td>\n",
       "    </tr>\n",
       "    <tr>\n",
       "      <th>max</th>\n",
       "      <td>81000.000000</td>\n",
       "      <td>41667.000000</td>\n",
       "      <td>700.000000</td>\n",
       "      <td>480.00000</td>\n",
       "      <td>1.000000</td>\n",
       "    </tr>\n",
       "  </tbody>\n",
       "</table>\n",
       "</div>"
      ],
      "text/plain": [
       "       ApplicantIncome  CoapplicantIncome  LoanAmount  Loan_Amount_Term  \\\n",
       "count       614.000000         614.000000  592.000000         600.00000   \n",
       "mean       5403.459283        1621.245798  146.412162         342.00000   \n",
       "std        6109.041673        2926.248369   85.587325          65.12041   \n",
       "min         150.000000           0.000000    9.000000          12.00000   \n",
       "25%        2877.500000           0.000000  100.000000         360.00000   \n",
       "50%        3812.500000        1188.500000  128.000000         360.00000   \n",
       "75%        5795.000000        2297.250000  168.000000         360.00000   \n",
       "max       81000.000000       41667.000000  700.000000         480.00000   \n",
       "\n",
       "       Credit_History  \n",
       "count      564.000000  \n",
       "mean         0.842199  \n",
       "std          0.364878  \n",
       "min          0.000000  \n",
       "25%          1.000000  \n",
       "50%          1.000000  \n",
       "75%          1.000000  \n",
       "max          1.000000  "
      ]
     },
     "execution_count": 8,
     "metadata": {},
     "output_type": "execute_result"
    }
   ],
   "source": [
    "df.describe()"
   ]
  },
  {
   "cell_type": "code",
   "execution_count": 9,
   "id": "e2b17b2f",
   "metadata": {},
   "outputs": [
    {
     "name": "stdout",
     "output_type": "stream",
     "text": [
      "<class 'pandas.core.frame.DataFrame'>\n",
      "RangeIndex: 614 entries, 0 to 613\n",
      "Data columns (total 13 columns):\n",
      " #   Column             Non-Null Count  Dtype  \n",
      "---  ------             --------------  -----  \n",
      " 0   Loan_ID            614 non-null    object \n",
      " 1   Gender             601 non-null    object \n",
      " 2   Married            611 non-null    object \n",
      " 3   Dependents         599 non-null    object \n",
      " 4   Education          614 non-null    object \n",
      " 5   Self_Employed      582 non-null    object \n",
      " 6   ApplicantIncome    614 non-null    int64  \n",
      " 7   CoapplicantIncome  614 non-null    float64\n",
      " 8   LoanAmount         592 non-null    float64\n",
      " 9   Loan_Amount_Term   600 non-null    float64\n",
      " 10  Credit_History     564 non-null    float64\n",
      " 11  Property_Area      614 non-null    object \n",
      " 12  Loan_Status        614 non-null    object \n",
      "dtypes: float64(4), int64(1), object(8)\n",
      "memory usage: 62.5+ KB\n"
     ]
    }
   ],
   "source": [
    "df.info()"
   ]
  },
  {
   "cell_type": "code",
   "execution_count": 10,
   "id": "19e99964",
   "metadata": {},
   "outputs": [
    {
     "data": {
      "text/plain": [
       "Loan_ID              False\n",
       "Gender               False\n",
       "Married              False\n",
       "Dependents           False\n",
       "Education            False\n",
       "Self_Employed        False\n",
       "ApplicantIncome      False\n",
       "CoapplicantIncome    False\n",
       "LoanAmount           False\n",
       "Loan_Amount_Term     False\n",
       "Credit_History       False\n",
       "Property_Area        False\n",
       "Loan_Status          False\n",
       "dtype: bool"
      ]
     },
     "execution_count": 10,
     "metadata": {},
     "output_type": "execute_result"
    }
   ],
   "source": [
    "df.isna().all()"
   ]
  },
  {
   "cell_type": "code",
   "execution_count": 11,
   "id": "36e32af8",
   "metadata": {},
   "outputs": [
    {
     "data": {
      "text/plain": [
       "Loan_ID               0\n",
       "Gender               13\n",
       "Married               3\n",
       "Dependents           15\n",
       "Education             0\n",
       "Self_Employed        32\n",
       "ApplicantIncome       0\n",
       "CoapplicantIncome     0\n",
       "LoanAmount           22\n",
       "Loan_Amount_Term     14\n",
       "Credit_History       50\n",
       "Property_Area         0\n",
       "Loan_Status           0\n",
       "dtype: int64"
      ]
     },
     "execution_count": 11,
     "metadata": {},
     "output_type": "execute_result"
    }
   ],
   "source": [
    "df.isna().sum()"
   ]
  },
  {
   "cell_type": "code",
   "execution_count": 13,
   "id": "f4f76ebb",
   "metadata": {},
   "outputs": [
    {
     "data": {
      "text/plain": [
       "<bound method DataFrame.sort_values of      Loan_ID  Gender  Married  Dependents  Education  Self_Employed  \\\n",
       "0      False   False    False       False      False          False   \n",
       "1      False   False    False       False      False          False   \n",
       "2      False   False    False       False      False          False   \n",
       "3      False   False    False       False      False          False   \n",
       "4      False   False    False       False      False          False   \n",
       "..       ...     ...      ...         ...        ...            ...   \n",
       "609    False   False    False       False      False          False   \n",
       "610    False   False    False       False      False          False   \n",
       "611    False   False    False       False      False          False   \n",
       "612    False   False    False       False      False          False   \n",
       "613    False   False    False       False      False          False   \n",
       "\n",
       "     ApplicantIncome  CoapplicantIncome  LoanAmount  Loan_Amount_Term  \\\n",
       "0              False              False        True             False   \n",
       "1              False              False       False             False   \n",
       "2              False              False       False             False   \n",
       "3              False              False       False             False   \n",
       "4              False              False       False             False   \n",
       "..               ...                ...         ...               ...   \n",
       "609            False              False       False             False   \n",
       "610            False              False       False             False   \n",
       "611            False              False       False             False   \n",
       "612            False              False       False             False   \n",
       "613            False              False       False             False   \n",
       "\n",
       "     Credit_History  Property_Area  Loan_Status  \n",
       "0             False          False        False  \n",
       "1             False          False        False  \n",
       "2             False          False        False  \n",
       "3             False          False        False  \n",
       "4             False          False        False  \n",
       "..              ...            ...          ...  \n",
       "609           False          False        False  \n",
       "610           False          False        False  \n",
       "611           False          False        False  \n",
       "612           False          False        False  \n",
       "613           False          False        False  \n",
       "\n",
       "[614 rows x 13 columns]>"
      ]
     },
     "execution_count": 13,
     "metadata": {},
     "output_type": "execute_result"
    }
   ],
   "source": [
    "df.isnull().sort_values"
   ]
  },
  {
   "cell_type": "code",
   "execution_count": 17,
   "id": "099af1fe",
   "metadata": {},
   "outputs": [
    {
     "data": {
      "text/plain": [
       "<AxesSubplot:>"
      ]
     },
     "execution_count": 17,
     "metadata": {},
     "output_type": "execute_result"
    },
    {
     "data": {
      "image/png": "[encoded data removed]",
      "text/plain": [
       "<Figure size 432x288 with 2 Axes>"
      ]
     },
     "metadata": {
      "needs_background": "light"
     },
     "output_type": "display_data"
    }
   ],
   "source": [
    "sns.heatmap(df.isnull())"
   ]
  },
  {
   "cell_type": "code",
   "execution_count": 43,
   "id": "913d9e28",
   "metadata": {},
   "outputs": [],
   "source": [
    "#replacing missing values \n",
    "df['Dependents'].fillna(df['Dependents'].mode()[0],inplace=True)\n",
    "df['Gender'].fillna(df['Gender'].mode()[0],inplace=True)\n",
    "df['Credit_History'].fillna(df['Credit_History'].mode()[0],inplace=True)\n",
    "df['Married'].fillna(df['Married'].mode()[0],inplace=True)\n",
    "df['Self_Employed'].fillna(df['Self_Employed'].mode()[0],inplace=True)\n",
    "df['Loan_Amount_Term'].fillna(df['Loan_Amount_Term'].mode()[0],inplace=True)\n",
    "df['LoanAmount'].fillna(df['LoanAmount'].mode()[0],inplace=True)"
   ]
  },
  {
   "cell_type": "code",
   "execution_count": 14,
   "id": "0d383b32",
   "metadata": {},
   "outputs": [
    {
     "data": {
      "text/html": [
       "<div>\n",
       "<style scoped>\n",
       "    .dataframe tbody tr th:only-of-type {\n",
       "        vertical-align: middle;\n",
       "    }\n",
       "\n",
       "    .dataframe tbody tr th {\n",
       "        vertical-align: top;\n",
       "    }\n",
       "\n",
       "    .dataframe thead th {\n",
       "        text-align: right;\n",
       "    }\n",
       "</style>\n",
       "<table border=\"1\" class=\"dataframe\">\n",
       "  <thead>\n",
       "    <tr style=\"text-align: right;\">\n",
       "      <th></th>\n",
       "      <th>ApplicantIncome</th>\n",
       "      <th>CoapplicantIncome</th>\n",
       "      <th>LoanAmount</th>\n",
       "      <th>Loan_Amount_Term</th>\n",
       "      <th>Credit_History</th>\n",
       "    </tr>\n",
       "  </thead>\n",
       "  <tbody>\n",
       "    <tr>\n",
       "      <th>ApplicantIncome</th>\n",
       "      <td>1.000000</td>\n",
       "      <td>-0.116605</td>\n",
       "      <td>0.570909</td>\n",
       "      <td>-0.045306</td>\n",
       "      <td>-0.014715</td>\n",
       "    </tr>\n",
       "    <tr>\n",
       "      <th>CoapplicantIncome</th>\n",
       "      <td>-0.116605</td>\n",
       "      <td>1.000000</td>\n",
       "      <td>0.188619</td>\n",
       "      <td>-0.059878</td>\n",
       "      <td>-0.002056</td>\n",
       "    </tr>\n",
       "    <tr>\n",
       "      <th>LoanAmount</th>\n",
       "      <td>0.570909</td>\n",
       "      <td>0.188619</td>\n",
       "      <td>1.000000</td>\n",
       "      <td>0.039447</td>\n",
       "      <td>-0.008433</td>\n",
       "    </tr>\n",
       "    <tr>\n",
       "      <th>Loan_Amount_Term</th>\n",
       "      <td>-0.045306</td>\n",
       "      <td>-0.059878</td>\n",
       "      <td>0.039447</td>\n",
       "      <td>1.000000</td>\n",
       "      <td>0.001470</td>\n",
       "    </tr>\n",
       "    <tr>\n",
       "      <th>Credit_History</th>\n",
       "      <td>-0.014715</td>\n",
       "      <td>-0.002056</td>\n",
       "      <td>-0.008433</td>\n",
       "      <td>0.001470</td>\n",
       "      <td>1.000000</td>\n",
       "    </tr>\n",
       "  </tbody>\n",
       "</table>\n",
       "</div>"
      ],
      "text/plain": [
       "                   ApplicantIncome  CoapplicantIncome  LoanAmount  \\\n",
       "ApplicantIncome           1.000000          -0.116605    0.570909   \n",
       "CoapplicantIncome        -0.116605           1.000000    0.188619   \n",
       "LoanAmount                0.570909           0.188619    1.000000   \n",
       "Loan_Amount_Term         -0.045306          -0.059878    0.039447   \n",
       "Credit_History           -0.014715          -0.002056   -0.008433   \n",
       "\n",
       "                   Loan_Amount_Term  Credit_History  \n",
       "ApplicantIncome           -0.045306       -0.014715  \n",
       "CoapplicantIncome         -0.059878       -0.002056  \n",
       "LoanAmount                 0.039447       -0.008433  \n",
       "Loan_Amount_Term           1.000000        0.001470  \n",
       "Credit_History             0.001470        1.000000  "
      ]
     },
     "execution_count": 14,
     "metadata": {},
     "output_type": "execute_result"
    }
   ],
   "source": [
    "df.corr()"
   ]
  },
  {
   "cell_type": "code",
   "execution_count": 16,
   "id": "3251928c",
   "metadata": {},
   "outputs": [
    {
     "data": {
      "text/plain": [
       "<AxesSubplot:>"
      ]
     },
     "execution_count": 16,
     "metadata": {},
     "output_type": "execute_result"
    },
    {
     "data": {
      "image/png": "[encoded data removed]",
      "text/plain": [
       "<Figure size 432x288 with 2 Axes>"
      ]
     },
     "metadata": {
      "needs_background": "light"
     },
     "output_type": "display_data"
    }
   ],
   "source": [
    "sns.heatmap(df.corr(), annot=True)"
   ]
  },
  {
   "cell_type": "code",
   "execution_count": 18,
   "id": "185ce894",
   "metadata": {},
   "outputs": [
    {
     "data": {
      "text/plain": [
       "array([[<AxesSubplot:title={'center':'ApplicantIncome'}>,\n",
       "        <AxesSubplot:title={'center':'CoapplicantIncome'}>],\n",
       "       [<AxesSubplot:title={'center':'LoanAmount'}>,\n",
       "        <AxesSubplot:title={'center':'Loan_Amount_Term'}>],\n",
       "       [<AxesSubplot:title={'center':'Credit_History'}>, <AxesSubplot:>]],\n",
       "      dtype=object)"
      ]
     },
     "execution_count": 18,
     "metadata": {},
     "output_type": "execute_result"
    },
    {
     "data": {
      "image/png": "[encoded data removed]",
      "text/plain": [
       "<Figure size 1440x1080 with 6 Axes>"
      ]
     },
     "metadata": {
      "needs_background": "light"
     },
     "output_type": "display_data"
    }
   ],
   "source": [
    "df.hist(grid=False,figsize=(20,15),bins=30)"
   ]
  },
  {
   "cell_type": "code",
   "execution_count": 24,
   "id": "c9405678",
   "metadata": {},
   "outputs": [
    {
     "data": {
      "text/plain": [
       "array([[<AxesSubplot:xlabel='ApplicantIncome', ylabel='ApplicantIncome'>,\n",
       "        <AxesSubplot:xlabel='CoapplicantIncome', ylabel='ApplicantIncome'>,\n",
       "        <AxesSubplot:xlabel='LoanAmount', ylabel='ApplicantIncome'>,\n",
       "        <AxesSubplot:xlabel='Loan_Amount_Term', ylabel='ApplicantIncome'>,\n",
       "        <AxesSubplot:xlabel='Credit_History', ylabel='ApplicantIncome'>],\n",
       "       [<AxesSubplot:xlabel='ApplicantIncome', ylabel='CoapplicantIncome'>,\n",
       "        <AxesSubplot:xlabel='CoapplicantIncome', ylabel='CoapplicantIncome'>,\n",
       "        <AxesSubplot:xlabel='LoanAmount', ylabel='CoapplicantIncome'>,\n",
       "        <AxesSubplot:xlabel='Loan_Amount_Term', ylabel='CoapplicantIncome'>,\n",
       "        <AxesSubplot:xlabel='Credit_History', ylabel='CoapplicantIncome'>],\n",
       "       [<AxesSubplot:xlabel='ApplicantIncome', ylabel='LoanAmount'>,\n",
       "        <AxesSubplot:xlabel='CoapplicantIncome', ylabel='LoanAmount'>,\n",
       "        <AxesSubplot:xlabel='LoanAmount', ylabel='LoanAmount'>,\n",
       "        <AxesSubplot:xlabel='Loan_Amount_Term', ylabel='LoanAmount'>,\n",
       "        <AxesSubplot:xlabel='Credit_History', ylabel='LoanAmount'>],\n",
       "       [<AxesSubplot:xlabel='ApplicantIncome', ylabel='Loan_Amount_Term'>,\n",
       "        <AxesSubplot:xlabel='CoapplicantIncome', ylabel='Loan_Amount_Term'>,\n",
       "        <AxesSubplot:xlabel='LoanAmount', ylabel='Loan_Amount_Term'>,\n",
       "        <AxesSubplot:xlabel='Loan_Amount_Term', ylabel='Loan_Amount_Term'>,\n",
       "        <AxesSubplot:xlabel='Credit_History', ylabel='Loan_Amount_Term'>],\n",
       "       [<AxesSubplot:xlabel='ApplicantIncome', ylabel='Credit_History'>,\n",
       "        <AxesSubplot:xlabel='CoapplicantIncome', ylabel='Credit_History'>,\n",
       "        <AxesSubplot:xlabel='LoanAmount', ylabel='Credit_History'>,\n",
       "        <AxesSubplot:xlabel='Loan_Amount_Term', ylabel='Credit_History'>,\n",
       "        <AxesSubplot:xlabel='Credit_History', ylabel='Credit_History'>]],\n",
       "      dtype=object)"
      ]
     },
     "execution_count": 24,
     "metadata": {},
     "output_type": "execute_result"
    },
    {
     "data": {
      "image/png": "[encoded data removed]",
      "text/plain": [
       "<Figure size 1440x1440 with 25 Axes>"
      ]
     },
     "metadata": {
      "needs_background": "light"
     },
     "output_type": "display_data"
    }
   ],
   "source": [
    "pd.plotting.scatter_matrix(df,figsize=(20,20))"
   ]
  },
  {
   "cell_type": "code",
   "execution_count": 25,
   "id": "460eb2a1",
   "metadata": {},
   "outputs": [
    {
     "name": "stderr",
     "output_type": "stream",
     "text": [
      "C:\\Users\\HP\\anaconda3\\lib\\site-packages\\seaborn\\_decorators.py:36: FutureWarning: Pass the following variable as a keyword arg: x. From version 0.12, the only valid positional argument will be `data`, and passing other arguments without an explicit keyword will result in an error or misinterpretation.\n",
      "  warnings.warn(\n"
     ]
    },
    {
     "data": {
      "text/plain": [
       "<AxesSubplot:xlabel='Gender', ylabel='count'>"
      ]
     },
     "execution_count": 25,
     "metadata": {},
     "output_type": "execute_result"
    },
    {
     "data": {
      "image/png": "[encoded data removed]",
      "text/plain": [
       "<Figure size 432x288 with 1 Axes>"
      ]
     },
     "metadata": {
      "needs_background": "light"
     },
     "output_type": "display_data"
    }
   ],
   "source": [
    "sns.countplot(df.Gender)"
   ]
  },
  {
   "cell_type": "code",
   "execution_count": 26,
   "id": "71562e61",
   "metadata": {},
   "outputs": [
    {
     "data": {
      "text/plain": [
       "Male      502\n",
       "Female    112\n",
       "Name: Gender, dtype: int64"
      ]
     },
     "execution_count": 26,
     "metadata": {},
     "output_type": "execute_result"
    }
   ],
   "source": [
    "df['Gender'].value_counts()"
   ]
  },
  {
   "cell_type": "code",
   "execution_count": 27,
   "id": "cc442d6a",
   "metadata": {},
   "outputs": [
    {
     "name": "stderr",
     "output_type": "stream",
     "text": [
      "C:\\Users\\HP\\anaconda3\\lib\\site-packages\\seaborn\\_decorators.py:36: FutureWarning: Pass the following variable as a keyword arg: x. From version 0.12, the only valid positional argument will be `data`, and passing other arguments without an explicit keyword will result in an error or misinterpretation.\n",
      "  warnings.warn(\n"
     ]
    },
    {
     "data": {
      "text/plain": [
       "Yes    401\n",
       "No     213\n",
       "Name: Married, dtype: int64"
      ]
     },
     "execution_count": 27,
     "metadata": {},
     "output_type": "execute_result"
    },
    {
     "data": {
      "image/png": "[encoded data removed]",
      "text/plain": [
       "<Figure size 432x288 with 1 Axes>"
      ]
     },
     "metadata": {
      "needs_background": "light"
     },
     "output_type": "display_data"
    }
   ],
   "source": [
    "sns.countplot(df.Married)\n",
    "df['Married'].value_counts()"
   ]
  },
  {
   "cell_type": "code",
   "execution_count": 28,
   "id": "e0f1a1e5",
   "metadata": {},
   "outputs": [
    {
     "name": "stderr",
     "output_type": "stream",
     "text": [
      "C:\\Users\\HP\\anaconda3\\lib\\site-packages\\seaborn\\_decorators.py:36: FutureWarning: Pass the following variable as a keyword arg: x. From version 0.12, the only valid positional argument will be `data`, and passing other arguments without an explicit keyword will result in an error or misinterpretation.\n",
      "  warnings.warn(\n"
     ]
    },
    {
     "data": {
      "text/plain": [
       "0     360\n",
       "1     102\n",
       "2     101\n",
       "3+     51\n",
       "Name: Dependents, dtype: int64"
      ]
     },
     "execution_count": 28,
     "metadata": {},
     "output_type": "execute_result"
    },
    {
     "data": {
      "image/png": "[encoded data removed]",
      "text/plain": [
       "<Figure size 432x288 with 1 Axes>"
      ]
     },
     "metadata": {
      "needs_background": "light"
     },
     "output_type": "display_data"
    }
   ],
   "source": [
    "sns.countplot(df.Dependents)\n",
    "df['Dependents'].value_counts()"
   ]
  },
  {
   "cell_type": "code",
   "execution_count": 29,
   "id": "c8f92e99",
   "metadata": {},
   "outputs": [
    {
     "name": "stderr",
     "output_type": "stream",
     "text": [
      "C:\\Users\\HP\\anaconda3\\lib\\site-packages\\seaborn\\_decorators.py:36: FutureWarning: Pass the following variable as a keyword arg: x. From version 0.12, the only valid positional argument will be `data`, and passing other arguments without an explicit keyword will result in an error or misinterpretation.\n",
      "  warnings.warn(\n"
     ]
    },
    {
     "data": {
      "text/plain": [
       "Graduate        480\n",
       "Not Graduate    134\n",
       "Name: Education, dtype: int64"
      ]
     },
     "execution_count": 29,
     "metadata": {},
     "output_type": "execute_result"
    },
    {
     "data": {
      "image/png": "[encoded data removed]",
      "text/plain": [
       "<Figure size 432x288 with 1 Axes>"
      ]
     },
     "metadata": {
      "needs_background": "light"
     },
     "output_type": "display_data"
    }
   ],
   "source": [
    "sns.countplot(df.Education)\n",
    "df['Education'].value_counts()"
   ]
  },
  {
   "cell_type": "code",
   "execution_count": 30,
   "id": "ac222b05",
   "metadata": {},
   "outputs": [
    {
     "name": "stderr",
     "output_type": "stream",
     "text": [
      "C:\\Users\\HP\\anaconda3\\lib\\site-packages\\seaborn\\_decorators.py:36: FutureWarning: Pass the following variable as a keyword arg: x. From version 0.12, the only valid positional argument will be `data`, and passing other arguments without an explicit keyword will result in an error or misinterpretation.\n",
      "  warnings.warn(\n"
     ]
    },
    {
     "data": {
      "text/plain": [
       "No     532\n",
       "Yes     82\n",
       "Name: Self_Employed, dtype: int64"
      ]
     },
     "execution_count": 30,
     "metadata": {},
     "output_type": "execute_result"
    },
    {
     "data": {
      "image/png": "[encoded data removed]",
      "text/plain": [
       "<Figure size 432x288 with 1 Axes>"
      ]
     },
     "metadata": {
      "needs_background": "light"
     },
     "output_type": "display_data"
    }
   ],
   "source": [
    "sns.countplot(df.Self_Employed)\n",
    "df['Self_Employed'].value_counts()"
   ]
  },
  {
   "cell_type": "code",
   "execution_count": 32,
   "id": "98ab0d69",
   "metadata": {},
   "outputs": [
    {
     "name": "stderr",
     "output_type": "stream",
     "text": [
      "C:\\Users\\HP\\anaconda3\\lib\\site-packages\\seaborn\\_decorators.py:36: FutureWarning: Pass the following variable as a keyword arg: x. From version 0.12, the only valid positional argument will be `data`, and passing other arguments without an explicit keyword will result in an error or misinterpretation.\n",
      "  warnings.warn(\n"
     ]
    },
    {
     "data": {
      "text/plain": [
       "LP001002    1\n",
       "LP002328    1\n",
       "LP002305    1\n",
       "LP002308    1\n",
       "LP002314    1\n",
       "           ..\n",
       "LP001692    1\n",
       "LP001693    1\n",
       "LP001698    1\n",
       "LP001699    1\n",
       "LP002990    1\n",
       "Name: Loan_ID, Length: 614, dtype: int64"
      ]
     },
     "execution_count": 32,
     "metadata": {},
     "output_type": "execute_result"
    },
    {
     "data": {
      "image/png": "[encoded data removed]",
      "text/plain": [
       "<Figure size 432x288 with 1 Axes>"
      ]
     },
     "metadata": {
      "needs_background": "light"
     },
     "output_type": "display_data"
    }
   ],
   "source": [
    "sns.countplot(df.Loan_ID)\n",
    "df['Loan_ID'].value_counts()"
   ]
  },
  {
   "cell_type": "code",
   "execution_count": 33,
   "id": "2c1f76b0",
   "metadata": {},
   "outputs": [
    {
     "name": "stderr",
     "output_type": "stream",
     "text": [
      "C:\\Users\\HP\\anaconda3\\lib\\site-packages\\seaborn\\_decorators.py:36: FutureWarning: Pass the following variable as a keyword arg: x. From version 0.12, the only valid positional argument will be `data`, and passing other arguments without an explicit keyword will result in an error or misinterpretation.\n",
      "  warnings.warn(\n"
     ]
    },
    {
     "data": {
      "text/plain": [
       "Y    422\n",
       "N    192\n",
       "Name: Loan_Status, dtype: int64"
      ]
     },
     "execution_count": 33,
     "metadata": {},
     "output_type": "execute_result"
    },
    {
     "data": {
      "image/png": "[encoded data removed]",
      "text/plain": [
       "<Figure size 432x288 with 1 Axes>"
      ]
     },
     "metadata": {
      "needs_background": "light"
     },
     "output_type": "display_data"
    }
   ],
   "source": [
    "sns.countplot(df.Loan_Status)\n",
    "df['Loan_Status'].value_counts()"
   ]
  },
  {
   "cell_type": "code",
   "execution_count": 35,
   "id": "cf89587f",
   "metadata": {},
   "outputs": [
    {
     "name": "stderr",
     "output_type": "stream",
     "text": [
      "C:\\Users\\HP\\anaconda3\\lib\\site-packages\\seaborn\\_decorators.py:36: FutureWarning: Pass the following variable as a keyword arg: x. From version 0.12, the only valid positional argument will be `data`, and passing other arguments without an explicit keyword will result in an error or misinterpretation.\n",
      "  warnings.warn(\n"
     ]
    },
    {
     "data": {
      "text/plain": [
       "Semiurban    233\n",
       "Urban        202\n",
       "Rural        179\n",
       "Name: Property_Area, dtype: int64"
      ]
     },
     "execution_count": 35,
     "metadata": {},
     "output_type": "execute_result"
    },
    {
     "data": {
      "image/png": "[encoded data removed]",
      "text/plain": [
       "<Figure size 432x288 with 1 Axes>"
      ]
     },
     "metadata": {
      "needs_background": "light"
     },
     "output_type": "display_data"
    }
   ],
   "source": [
    "sns.countplot(df.Property_Area)\n",
    "df['Property_Area'].value_counts()"
   ]
  },
  {
   "cell_type": "code",
   "execution_count": 41,
   "id": "ab343529",
   "metadata": {},
   "outputs": [
    {
     "data": {
      "text/plain": [
       "<AxesSubplot:ylabel='Count'>"
      ]
     },
     "execution_count": 41,
     "metadata": {},
     "output_type": "execute_result"
    },
    {
     "data": {
      "image/png": "[encoded data removed]",
      "text/plain": [
       "<Figure size 432x288 with 1 Axes>"
      ]
     },
     "metadata": {
      "needs_background": "light"
     },
     "output_type": "display_data"
    }
   ],
   "source": [
    "sns.histplot(data=df)"
   ]
  },
  {
   "cell_type": "code",
   "execution_count": 44,
   "id": "78b4f732",
   "metadata": {},
   "outputs": [
    {
     "data": {
      "text/plain": [
       "Loan_ID              0\n",
       "Gender               0\n",
       "Married              0\n",
       "Dependents           0\n",
       "Education            0\n",
       "Self_Employed        0\n",
       "ApplicantIncome      0\n",
       "CoapplicantIncome    0\n",
       "LoanAmount           0\n",
       "Loan_Amount_Term     0\n",
       "Credit_History       0\n",
       "Property_Area        0\n",
       "Loan_Status          0\n",
       "dtype: int64"
      ]
     },
     "execution_count": 44,
     "metadata": {},
     "output_type": "execute_result"
    }
   ],
   "source": [
    "df.isnull().sum()"
   ]
  },
  {
   "cell_type": "code",
   "execution_count": 45,
   "id": "6f78af9a",
   "metadata": {},
   "outputs": [
    {
     "data": {
      "text/plain": [
       "<AxesSubplot:>"
      ]
     },
     "execution_count": 45,
     "metadata": {},
     "output_type": "execute_result"
    },
    {
     "data": {
      "image/png": "[encoded data removed]",
      "text/plain": [
       "<Figure size 432x288 with 2 Axes>"
      ]
     },
     "metadata": {
      "needs_background": "light"
     },
     "output_type": "display_data"
    }
   ],
   "source": [
    "sns.heatmap(df.isnull())"
   ]
  },
  {
   "cell_type": "markdown",
   "id": "e39932fd",
   "metadata": {},
   "source": [
    "We have succesfully eliminated all null values "
   ]
  },
  {
   "cell_type": "code",
   "execution_count": 46,
   "id": "d8d010e6",
   "metadata": {},
   "outputs": [
    {
     "name": "stderr",
     "output_type": "stream",
     "text": [
      "C:\\Users\\HP\\AppData\\Local\\Temp/ipykernel_32160/2559805109.py:2: FutureWarning: Dropping of nuisance columns in DataFrame reductions (with 'numeric_only=None') is deprecated; in a future version this will raise TypeError.  Select only valid columns before calling the reduction.\n",
      "  df.skew()\n"
     ]
    },
    {
     "data": {
      "text/plain": [
       "ApplicantIncome      6.539513\n",
       "CoapplicantIncome    7.491531\n",
       "LoanAmount           2.745407\n",
       "Loan_Amount_Term    -2.402112\n",
       "Credit_History      -2.021971\n",
       "dtype: float64"
      ]
     },
     "execution_count": 46,
     "metadata": {},
     "output_type": "execute_result"
    }
   ],
   "source": [
    "#checking fo skewness\n",
    "df.skew()"
   ]
  },
  {
   "cell_type": "markdown",
   "id": "dd412c2b",
   "metadata": {},
   "source": [
    "to remove skewness, we'll use root square method "
   ]
  },
  {
   "cell_type": "code",
   "execution_count": 74,
   "id": "6c5deeca",
   "metadata": {},
   "outputs": [],
   "source": [
    "df['ApplicantIncome']=np.sqrt(df['ApplicantIncome'])\n",
    "df['LoanAmount']=np.sqrt(df['LoanAmount'])\n",
    "df['CoapplicantIncome']=np.sqrt(df['CoapplicantIncome'])\n",
    "df['Loan_Amount_Term']=np.sqrt(df['Loan_Amount_Term'])\n",
    "df['Credit_History']=np.sqrt(df['Credit_History'])"
   ]
  },
  {
   "cell_type": "code",
   "execution_count": 75,
   "id": "ef831358",
   "metadata": {},
   "outputs": [
    {
     "name": "stderr",
     "output_type": "stream",
     "text": [
      "C:\\Users\\HP\\AppData\\Local\\Temp/ipykernel_32160/1665899112.py:1: FutureWarning: Dropping of nuisance columns in DataFrame reductions (with 'numeric_only=None') is deprecated; in a future version this will raise TypeError.  Select only valid columns before calling the reduction.\n",
      "  df.skew()\n"
     ]
    },
    {
     "data": {
      "text/plain": [
       "ApplicantIncome      2.967286\n",
       "CoapplicantIncome    0.979561\n",
       "LoanAmount           1.305382\n",
       "Loan_Amount_Term    -3.135345\n",
       "Credit_History      -1.882361\n",
       "dtype: float64"
      ]
     },
     "execution_count": 75,
     "metadata": {},
     "output_type": "execute_result"
    }
   ],
   "source": [
    "df.skew()"
   ]
  },
  {
   "cell_type": "markdown",
   "id": "bd4ff055",
   "metadata": {},
   "source": [
    "As, we can see, we have reduced the skewness a great deal "
   ]
  },
  {
   "cell_type": "code",
   "execution_count": 76,
   "id": "42b28be0",
   "metadata": {},
   "outputs": [
    {
     "data": {
      "image/png": "[encoded data removed]",
      "text/plain": [
       "<Figure size 720x1440 with 1 Axes>"
      ]
     },
     "metadata": {
      "needs_background": "light"
     },
     "output_type": "display_data"
    }
   ],
   "source": [
    "#checking for outliers \n",
    "df.iloc[:,0:30].boxplot(figsize=[10,20])\n",
    "plt.subplots_adjust(bottom=0.5)\n",
    "plt.title(\"Outliers\")\n",
    "plt.show()"
   ]
  },
  {
   "cell_type": "code",
   "execution_count": 77,
   "id": "164eca5f",
   "metadata": {},
   "outputs": [],
   "source": [
    "#transforming the data \n",
    "\n",
    "from sklearn.preprocessing import LabelEncoder\n",
    "le=LabelEncoder()\n",
    "df['Education']=le.fit_transform(df['Education'])\n",
    "df['Married']=le.fit_transform(df['Married'])\n",
    "df['Dependents']=le.fit_transform(df['Dependents'])\n",
    "df['Credit_History']=le.fit_transform(df['Credit_History'])\n",
    "df['Self_Employed']=le.fit_transform(df['Self_Employed'])\n",
    "df['Loan_Amount_Term']=le.fit_transform(df['Loan_Amount_Term'])\n",
    "df['LoanAmount']=le.fit_transform(df['LoanAmount'])\n",
    "df['Loan_ID']=le.fit_transform(df['Loan_ID'])\n",
    "df['Loan_Status']=le.fit_transform(df['Loan_Status'])\n",
    "df['Property_Area']=le.fit_transform(df['Property_Area'])\n",
    "df['CoapplicantIncome']=le.fit_transform(df['CoapplicantIncome'])\n",
    "df['Gender']=le.fit_transform(df['Gender'])\n",
    "df['ApplicantIncome']=le.fit_transform(df['ApplicantIncome'])"
   ]
  },
  {
   "cell_type": "code",
   "execution_count": 78,
   "id": "b432909b",
   "metadata": {},
   "outputs": [
    {
     "data": {
      "text/html": [
       "<div>\n",
       "<style scoped>\n",
       "    .dataframe tbody tr th:only-of-type {\n",
       "        vertical-align: middle;\n",
       "    }\n",
       "\n",
       "    .dataframe tbody tr th {\n",
       "        vertical-align: top;\n",
       "    }\n",
       "\n",
       "    .dataframe thead th {\n",
       "        text-align: right;\n",
       "    }\n",
       "</style>\n",
       "<table border=\"1\" class=\"dataframe\">\n",
       "  <thead>\n",
       "    <tr style=\"text-align: right;\">\n",
       "      <th></th>\n",
       "      <th>Loan_ID</th>\n",
       "      <th>Gender</th>\n",
       "      <th>Married</th>\n",
       "      <th>Dependents</th>\n",
       "      <th>Education</th>\n",
       "      <th>Self_Employed</th>\n",
       "      <th>ApplicantIncome</th>\n",
       "      <th>CoapplicantIncome</th>\n",
       "      <th>LoanAmount</th>\n",
       "      <th>Loan_Amount_Term</th>\n",
       "      <th>Credit_History</th>\n",
       "      <th>Property_Area</th>\n",
       "      <th>Loan_Status</th>\n",
       "    </tr>\n",
       "  </thead>\n",
       "  <tbody>\n",
       "    <tr>\n",
       "      <th>0</th>\n",
       "      <td>0</td>\n",
       "      <td>1</td>\n",
       "      <td>0</td>\n",
       "      <td>0</td>\n",
       "      <td>0</td>\n",
       "      <td>0</td>\n",
       "      <td>376</td>\n",
       "      <td>0</td>\n",
       "      <td>203</td>\n",
       "      <td>8</td>\n",
       "      <td>1</td>\n",
       "      <td>2</td>\n",
       "      <td>1</td>\n",
       "    </tr>\n",
       "    <tr>\n",
       "      <th>1</th>\n",
       "      <td>1</td>\n",
       "      <td>1</td>\n",
       "      <td>1</td>\n",
       "      <td>1</td>\n",
       "      <td>0</td>\n",
       "      <td>0</td>\n",
       "      <td>306</td>\n",
       "      <td>60</td>\n",
       "      <td>81</td>\n",
       "      <td>8</td>\n",
       "      <td>1</td>\n",
       "      <td>0</td>\n",
       "      <td>0</td>\n",
       "    </tr>\n",
       "    <tr>\n",
       "      <th>2</th>\n",
       "      <td>2</td>\n",
       "      <td>1</td>\n",
       "      <td>1</td>\n",
       "      <td>0</td>\n",
       "      <td>0</td>\n",
       "      <td>1</td>\n",
       "      <td>139</td>\n",
       "      <td>0</td>\n",
       "      <td>26</td>\n",
       "      <td>8</td>\n",
       "      <td>1</td>\n",
       "      <td>2</td>\n",
       "      <td>1</td>\n",
       "    </tr>\n",
       "    <tr>\n",
       "      <th>3</th>\n",
       "      <td>3</td>\n",
       "      <td>1</td>\n",
       "      <td>1</td>\n",
       "      <td>0</td>\n",
       "      <td>1</td>\n",
       "      <td>0</td>\n",
       "      <td>90</td>\n",
       "      <td>160</td>\n",
       "      <td>73</td>\n",
       "      <td>8</td>\n",
       "      <td>1</td>\n",
       "      <td>2</td>\n",
       "      <td>1</td>\n",
       "    </tr>\n",
       "    <tr>\n",
       "      <th>4</th>\n",
       "      <td>4</td>\n",
       "      <td>1</td>\n",
       "      <td>0</td>\n",
       "      <td>0</td>\n",
       "      <td>0</td>\n",
       "      <td>0</td>\n",
       "      <td>381</td>\n",
       "      <td>0</td>\n",
       "      <td>94</td>\n",
       "      <td>8</td>\n",
       "      <td>1</td>\n",
       "      <td>2</td>\n",
       "      <td>1</td>\n",
       "    </tr>\n",
       "    <tr>\n",
       "      <th>...</th>\n",
       "      <td>...</td>\n",
       "      <td>...</td>\n",
       "      <td>...</td>\n",
       "      <td>...</td>\n",
       "      <td>...</td>\n",
       "      <td>...</td>\n",
       "      <td>...</td>\n",
       "      <td>...</td>\n",
       "      <td>...</td>\n",
       "      <td>...</td>\n",
       "      <td>...</td>\n",
       "      <td>...</td>\n",
       "      <td>...</td>\n",
       "    </tr>\n",
       "    <tr>\n",
       "      <th>609</th>\n",
       "      <td>609</td>\n",
       "      <td>0</td>\n",
       "      <td>0</td>\n",
       "      <td>0</td>\n",
       "      <td>0</td>\n",
       "      <td>0</td>\n",
       "      <td>125</td>\n",
       "      <td>0</td>\n",
       "      <td>29</td>\n",
       "      <td>8</td>\n",
       "      <td>1</td>\n",
       "      <td>0</td>\n",
       "      <td>1</td>\n",
       "    </tr>\n",
       "    <tr>\n",
       "      <th>610</th>\n",
       "      <td>610</td>\n",
       "      <td>1</td>\n",
       "      <td>1</td>\n",
       "      <td>3</td>\n",
       "      <td>0</td>\n",
       "      <td>0</td>\n",
       "      <td>275</td>\n",
       "      <td>0</td>\n",
       "      <td>7</td>\n",
       "      <td>5</td>\n",
       "      <td>1</td>\n",
       "      <td>0</td>\n",
       "      <td>1</td>\n",
       "    </tr>\n",
       "    <tr>\n",
       "      <th>611</th>\n",
       "      <td>611</td>\n",
       "      <td>1</td>\n",
       "      <td>1</td>\n",
       "      <td>1</td>\n",
       "      <td>0</td>\n",
       "      <td>0</td>\n",
       "      <td>431</td>\n",
       "      <td>3</td>\n",
       "      <td>162</td>\n",
       "      <td>8</td>\n",
       "      <td>1</td>\n",
       "      <td>2</td>\n",
       "      <td>1</td>\n",
       "    </tr>\n",
       "    <tr>\n",
       "      <th>612</th>\n",
       "      <td>612</td>\n",
       "      <td>1</td>\n",
       "      <td>1</td>\n",
       "      <td>2</td>\n",
       "      <td>0</td>\n",
       "      <td>0</td>\n",
       "      <td>422</td>\n",
       "      <td>0</td>\n",
       "      <td>132</td>\n",
       "      <td>8</td>\n",
       "      <td>1</td>\n",
       "      <td>2</td>\n",
       "      <td>1</td>\n",
       "    </tr>\n",
       "    <tr>\n",
       "      <th>613</th>\n",
       "      <td>613</td>\n",
       "      <td>0</td>\n",
       "      <td>0</td>\n",
       "      <td>0</td>\n",
       "      <td>0</td>\n",
       "      <td>1</td>\n",
       "      <td>306</td>\n",
       "      <td>0</td>\n",
       "      <td>86</td>\n",
       "      <td>8</td>\n",
       "      <td>0</td>\n",
       "      <td>1</td>\n",
       "      <td>0</td>\n",
       "    </tr>\n",
       "  </tbody>\n",
       "</table>\n",
       "<p>614 rows × 13 columns</p>\n",
       "</div>"
      ],
      "text/plain": [
       "     Loan_ID  Gender  Married  Dependents  Education  Self_Employed  \\\n",
       "0          0       1        0           0          0              0   \n",
       "1          1       1        1           1          0              0   \n",
       "2          2       1        1           0          0              1   \n",
       "3          3       1        1           0          1              0   \n",
       "4          4       1        0           0          0              0   \n",
       "..       ...     ...      ...         ...        ...            ...   \n",
       "609      609       0        0           0          0              0   \n",
       "610      610       1        1           3          0              0   \n",
       "611      611       1        1           1          0              0   \n",
       "612      612       1        1           2          0              0   \n",
       "613      613       0        0           0          0              1   \n",
       "\n",
       "     ApplicantIncome  CoapplicantIncome  LoanAmount  Loan_Amount_Term  \\\n",
       "0                376                  0         203                 8   \n",
       "1                306                 60          81                 8   \n",
       "2                139                  0          26                 8   \n",
       "3                 90                160          73                 8   \n",
       "4                381                  0          94                 8   \n",
       "..               ...                ...         ...               ...   \n",
       "609              125                  0          29                 8   \n",
       "610              275                  0           7                 5   \n",
       "611              431                  3         162                 8   \n",
       "612              422                  0         132                 8   \n",
       "613              306                  0          86                 8   \n",
       "\n",
       "     Credit_History  Property_Area  Loan_Status  \n",
       "0                 1              2            1  \n",
       "1                 1              0            0  \n",
       "2                 1              2            1  \n",
       "3                 1              2            1  \n",
       "4                 1              2            1  \n",
       "..              ...            ...          ...  \n",
       "609               1              0            1  \n",
       "610               1              0            1  \n",
       "611               1              2            1  \n",
       "612               1              2            1  \n",
       "613               0              1            0  \n",
       "\n",
       "[614 rows x 13 columns]"
      ]
     },
     "execution_count": 78,
     "metadata": {},
     "output_type": "execute_result"
    }
   ],
   "source": [
    "df"
   ]
  },
  {
   "cell_type": "code",
   "execution_count": 79,
   "id": "2f721b8f",
   "metadata": {},
   "outputs": [],
   "source": [
    "#dividing the data \n",
    "x=df.drop('Loan_Status',axis=1)\n",
    "y=df['Loan_Status']"
   ]
  },
  {
   "cell_type": "code",
   "execution_count": 84,
   "id": "26291bdd",
   "metadata": {},
   "outputs": [],
   "source": [
    "#training the data \n",
    "from sklearn.preprocessing import MinMaxScaler\n",
    "from sklearn.linear_model import LinearRegression \n",
    "from sklearn.model_selection import train_test_split\n",
    "from sklearn.model_selection import cross_val_score\n",
    "from sklearn.svm import SVC\n",
    "from sklearn.metrics import r2_score\n",
    "from sklearn.model_selection import GridSearchCV\n",
    "from sklearn.linear_model import Lasso\n",
    "from sklearn.ensemble import RandomForestRegressor\n",
    "from sklearn.linear_model import LogisticRegression "
   ]
  },
  {
   "cell_type": "code",
   "execution_count": 85,
   "id": "35411d5b",
   "metadata": {},
   "outputs": [
    {
     "name": "stdout",
     "output_type": "stream",
     "text": [
      "At random state 0,the training accuracy is = 0.21002758984820113\n",
      "At random state 0,the testing accuracy is = 0.15161163932859834\n",
      "\n",
      "\n",
      "At random state 1,the training accuracy is = 0.20172635436752806\n",
      "At random state 1,the testing accuracy is = 0.19502142287953772\n",
      "\n",
      "\n",
      "At random state 2,the training accuracy is = 0.23270789025030458\n",
      "At random state 2,the testing accuracy is = 0.065667794941633\n",
      "\n",
      "\n",
      "At random state 3,the training accuracy is = 0.2008257044672498\n",
      "At random state 3,the testing accuracy is = 0.1510964356320531\n",
      "\n",
      "\n",
      "At random state 4,the training accuracy is = 0.23621374824931785\n",
      "At random state 4,the testing accuracy is = 0.05536561133597606\n",
      "\n",
      "\n",
      "At random state 5,the training accuracy is = 0.199228123211184\n",
      "At random state 5,the testing accuracy is = 0.21074427461176504\n",
      "\n",
      "\n",
      "At random state 6,the training accuracy is = 0.20339523090954748\n",
      "At random state 6,the testing accuracy is = 0.18947584877466672\n",
      "\n",
      "\n",
      "At random state 7,the training accuracy is = 0.19531741569444794\n",
      "At random state 7,the testing accuracy is = 0.22920079257849046\n",
      "\n",
      "\n",
      "At random state 8,the training accuracy is = 0.1930896861010888\n",
      "At random state 8,the testing accuracy is = 0.21557664957077505\n",
      "\n",
      "\n",
      "At random state 9,the training accuracy is = 0.22557152252317092\n",
      "At random state 9,the testing accuracy is = 0.07480876047073648\n",
      "\n",
      "\n",
      "At random state 10,the training accuracy is = 0.21811802817496495\n",
      "At random state 10,the testing accuracy is = 0.13566584347288635\n",
      "\n",
      "\n",
      "At random state 11,the training accuracy is = 0.17673607875906294\n",
      "At random state 11,the testing accuracy is = 0.28875617943951104\n",
      "\n",
      "\n",
      "At random state 12,the training accuracy is = 0.21878170339308178\n",
      "At random state 12,the testing accuracy is = 0.1283906932457347\n",
      "\n",
      "\n",
      "At random state 13,the training accuracy is = 0.22163658838481493\n",
      "At random state 13,the testing accuracy is = 0.09765402156255809\n",
      "\n",
      "\n",
      "At random state 14,the training accuracy is = 0.1675971682106111\n",
      "At random state 14,the testing accuracy is = 0.288237795247417\n",
      "\n",
      "\n",
      "At random state 15,the training accuracy is = 0.1897550589079009\n",
      "At random state 15,the testing accuracy is = 0.2104599620792721\n",
      "\n",
      "\n",
      "At random state 16,the training accuracy is = 0.2221863129650321\n",
      "At random state 16,the testing accuracy is = 0.11171791296563005\n",
      "\n",
      "\n",
      "At random state 17,the training accuracy is = 0.19612379809982994\n",
      "At random state 17,the testing accuracy is = 0.22137632296404053\n",
      "\n",
      "\n",
      "At random state 18,the training accuracy is = 0.23431659890072165\n",
      "At random state 18,the testing accuracy is = 0.06629541283668328\n",
      "\n",
      "\n",
      "At random state 19,the training accuracy is = 0.1798749338125577\n",
      "At random state 19,the testing accuracy is = 0.291470748255956\n",
      "\n",
      "\n",
      "At random state 20,the training accuracy is = 0.2124760955995253\n",
      "At random state 20,the testing accuracy is = 0.1062135543980739\n",
      "\n",
      "\n",
      "At random state 21,the training accuracy is = 0.20896833040779772\n",
      "At random state 21,the testing accuracy is = 0.16156230839301566\n",
      "\n",
      "\n",
      "At random state 22,the training accuracy is = 0.20594119931708021\n",
      "At random state 22,the testing accuracy is = 0.19058963185379596\n",
      "\n",
      "\n",
      "At random state 23,the training accuracy is = 0.20953738466063787\n",
      "At random state 23,the testing accuracy is = 0.14773241507316903\n",
      "\n",
      "\n",
      "At random state 24,the training accuracy is = 0.19678446902490676\n",
      "At random state 24,the testing accuracy is = 0.20439921917643977\n",
      "\n",
      "\n",
      "At random state 25,the training accuracy is = 0.19268856659117417\n",
      "At random state 25,the testing accuracy is = 0.22629463135762562\n",
      "\n",
      "\n",
      "At random state 26,the training accuracy is = 0.24646074990906064\n",
      "At random state 26,the testing accuracy is = -0.051131390005288546\n",
      "\n",
      "\n",
      "At random state 27,the training accuracy is = 0.21024551059949925\n",
      "At random state 27,the testing accuracy is = 0.167688920833844\n",
      "\n",
      "\n",
      "At random state 28,the training accuracy is = 0.18535298457621452\n",
      "At random state 28,the testing accuracy is = 0.2364036996734281\n",
      "\n",
      "\n",
      "At random state 29,the training accuracy is = 0.20701156772158358\n",
      "At random state 29,the testing accuracy is = 0.16872680722798705\n",
      "\n",
      "\n",
      "At random state 30,the training accuracy is = 0.21826827457603792\n",
      "At random state 30,the testing accuracy is = 0.133154047442696\n",
      "\n",
      "\n",
      "At random state 31,the training accuracy is = 0.2068584606092727\n",
      "At random state 31,the testing accuracy is = 0.14913458883486697\n",
      "\n",
      "\n",
      "At random state 32,the training accuracy is = 0.21176329273947248\n",
      "At random state 32,the testing accuracy is = 0.158099240521705\n",
      "\n",
      "\n",
      "At random state 33,the training accuracy is = 0.21201641542898852\n",
      "At random state 33,the testing accuracy is = 0.15262963546793107\n",
      "\n",
      "\n",
      "At random state 34,the training accuracy is = 0.22972449566094155\n",
      "At random state 34,the testing accuracy is = 0.05793055954199422\n",
      "\n",
      "\n",
      "At random state 35,the training accuracy is = 0.20193593330455506\n",
      "At random state 35,the testing accuracy is = 0.1886797286034234\n",
      "\n",
      "\n",
      "At random state 36,the training accuracy is = 0.1985982743736907\n",
      "At random state 36,the testing accuracy is = 0.203962879009151\n",
      "\n",
      "\n",
      "At random state 37,the training accuracy is = 0.22324528779806696\n",
      "At random state 37,the testing accuracy is = 0.11127038566494873\n",
      "\n",
      "\n",
      "At random state 38,the training accuracy is = 0.2430665784638949\n",
      "At random state 38,the testing accuracy is = -0.0023775802693162262\n",
      "\n",
      "\n",
      "At random state 39,the training accuracy is = 0.2051886838670991\n",
      "At random state 39,the testing accuracy is = 0.17606886891053375\n",
      "\n",
      "\n",
      "At random state 40,the training accuracy is = 0.21251372726192996\n",
      "At random state 40,the testing accuracy is = 0.12719239743320276\n",
      "\n",
      "\n",
      "At random state 41,the training accuracy is = 0.18827408435434123\n",
      "At random state 41,the testing accuracy is = 0.24235978172424844\n",
      "\n",
      "\n",
      "At random state 42,the training accuracy is = 0.21417022930011842\n",
      "At random state 42,the testing accuracy is = 0.14681640161781428\n",
      "\n",
      "\n",
      "At random state 43,the training accuracy is = 0.20589407989876596\n",
      "At random state 43,the testing accuracy is = 0.1802409343315471\n",
      "\n",
      "\n",
      "At random state 44,the training accuracy is = 0.21233894802295739\n",
      "At random state 44,the testing accuracy is = 0.11872640829224368\n",
      "\n",
      "\n",
      "At random state 45,the training accuracy is = 0.20761983940692563\n",
      "At random state 45,the testing accuracy is = 0.1690975173902598\n",
      "\n",
      "\n",
      "At random state 46,the training accuracy is = 0.2100644863233715\n",
      "At random state 46,the testing accuracy is = 0.15752875867931104\n",
      "\n",
      "\n",
      "At random state 47,the training accuracy is = 0.2087059206847719\n",
      "At random state 47,the testing accuracy is = 0.16098755685520616\n",
      "\n",
      "\n",
      "At random state 48,the training accuracy is = 0.22733523826767632\n",
      "At random state 48,the testing accuracy is = 0.09579653867815618\n",
      "\n",
      "\n",
      "At random state 49,the training accuracy is = 0.20230839447153326\n",
      "At random state 49,the testing accuracy is = 0.20322324072174847\n",
      "\n",
      "\n",
      "At random state 50,the training accuracy is = 0.2086734031719485\n",
      "At random state 50,the testing accuracy is = 0.15372045699857428\n",
      "\n",
      "\n",
      "At random state 51,the training accuracy is = 0.18905771309209474\n",
      "At random state 51,the testing accuracy is = 0.2549336245920498\n",
      "\n",
      "\n",
      "At random state 52,the training accuracy is = 0.1992350954617229\n",
      "At random state 52,the testing accuracy is = 0.20247919392149472\n",
      "\n",
      "\n",
      "At random state 53,the training accuracy is = 0.2055961037775731\n",
      "At random state 53,the testing accuracy is = 0.14396837055444955\n",
      "\n",
      "\n",
      "At random state 54,the training accuracy is = 0.2245341642858144\n",
      "At random state 54,the testing accuracy is = 0.08997201920803477\n",
      "\n",
      "\n",
      "At random state 55,the training accuracy is = 0.23806541781036528\n",
      "At random state 55,the testing accuracy is = 0.04987603143671426\n",
      "\n",
      "\n",
      "At random state 56,the training accuracy is = 0.21807447103831457\n",
      "At random state 56,the testing accuracy is = 0.08519704836468656\n",
      "\n",
      "\n",
      "At random state 57,the training accuracy is = 0.21645332203775536\n",
      "At random state 57,the testing accuracy is = 0.13820593363655764\n",
      "\n",
      "\n",
      "At random state 58,the training accuracy is = 0.1932181364140737\n",
      "At random state 58,the testing accuracy is = 0.2193697305936897\n",
      "\n",
      "\n",
      "At random state 59,the training accuracy is = 0.2258998230846242\n",
      "At random state 59,the testing accuracy is = 0.08400323377183161\n",
      "\n",
      "\n",
      "At random state 60,the training accuracy is = 0.20263980400911175\n",
      "At random state 60,the testing accuracy is = 0.18899129393553682\n",
      "\n",
      "\n",
      "At random state 61,the training accuracy is = 0.22739804346626935\n",
      "At random state 61,the testing accuracy is = 0.045668787260453536\n",
      "\n",
      "\n",
      "At random state 62,the training accuracy is = 0.19219432502616884\n",
      "At random state 62,the testing accuracy is = 0.22097214042643087\n",
      "\n",
      "\n",
      "At random state 63,the training accuracy is = 0.17807663865997214\n",
      "At random state 63,the testing accuracy is = 0.26606775802743843\n",
      "\n",
      "\n",
      "At random state 64,the training accuracy is = 0.20398451356534686\n",
      "At random state 64,the testing accuracy is = 0.1798665819583246\n",
      "\n",
      "\n",
      "At random state 65,the training accuracy is = 0.20072475674167234\n",
      "At random state 65,the testing accuracy is = 0.1941492623003067\n",
      "\n",
      "\n",
      "At random state 66,the training accuracy is = 0.21139102586368974\n",
      "At random state 66,the testing accuracy is = 0.15890045646827533\n",
      "\n",
      "\n",
      "At random state 67,the training accuracy is = 0.20224233969364458\n",
      "At random state 67,the testing accuracy is = 0.14204475558570073\n",
      "\n",
      "\n",
      "At random state 68,the training accuracy is = 0.21498958043966587\n",
      "At random state 68,the testing accuracy is = 0.13516946529484242\n",
      "\n",
      "\n",
      "At random state 69,the training accuracy is = 0.17924298205945677\n",
      "At random state 69,the testing accuracy is = 0.28720991794259865\n",
      "\n",
      "\n",
      "At random state 70,the training accuracy is = 0.20936767177562765\n",
      "At random state 70,the testing accuracy is = 0.16668543778155331\n",
      "\n",
      "\n",
      "At random state 71,the training accuracy is = 0.2696185907206836\n",
      "At random state 71,the testing accuracy is = -0.12433977529515028\n",
      "\n",
      "\n",
      "At random state 72,the training accuracy is = 0.19108165711369451\n",
      "At random state 72,the testing accuracy is = 0.23333399519694675\n",
      "\n",
      "\n",
      "At random state 73,the training accuracy is = 0.19980925305536124\n",
      "At random state 73,the testing accuracy is = 0.20235760844787332\n",
      "\n",
      "\n",
      "At random state 74,the training accuracy is = 0.2231385907922968\n",
      "At random state 74,the testing accuracy is = 0.09460250823634375\n",
      "\n",
      "\n",
      "At random state 75,the training accuracy is = 0.2151561584891869\n",
      "At random state 75,the testing accuracy is = 0.13685514536810317\n",
      "\n",
      "\n",
      "At random state 76,the training accuracy is = 0.22029288934163394\n",
      "At random state 76,the testing accuracy is = 0.11213343771178819\n",
      "\n",
      "\n",
      "At random state 77,the training accuracy is = 0.2044011363460546\n",
      "At random state 77,the testing accuracy is = 0.1859458495486287\n",
      "\n",
      "\n",
      "At random state 78,the training accuracy is = 0.23193087365175835\n",
      "At random state 78,the testing accuracy is = 0.03444252699100481\n",
      "\n",
      "\n",
      "At random state 79,the training accuracy is = 0.24459905547709404\n",
      "At random state 79,the testing accuracy is = -0.006789872615851733\n",
      "\n",
      "\n",
      "At random state 80,the training accuracy is = 0.21994442090328603\n",
      "At random state 80,the testing accuracy is = 0.1235846842420677\n",
      "\n",
      "\n",
      "At random state 81,the training accuracy is = 0.21865723566906625\n",
      "At random state 81,the testing accuracy is = 0.10533262545153654\n",
      "\n",
      "\n",
      "At random state 82,the training accuracy is = 0.19532438806402574\n",
      "At random state 82,the testing accuracy is = 0.22465618648643515\n",
      "\n",
      "\n",
      "At random state 83,the training accuracy is = 0.20784257007855556\n",
      "At random state 83,the testing accuracy is = 0.135281693452715\n",
      "\n",
      "\n",
      "At random state 84,the training accuracy is = 0.2123121606799797\n",
      "At random state 84,the testing accuracy is = 0.1495460731729643\n",
      "\n",
      "\n",
      "At random state 85,the training accuracy is = 0.19455037770176542\n",
      "At random state 85,the testing accuracy is = 0.20415279838221312\n",
      "\n",
      "\n",
      "At random state 86,the training accuracy is = 0.22704495670780112\n",
      "At random state 86,the testing accuracy is = 0.07623577827994865\n",
      "\n",
      "\n",
      "At random state 87,the training accuracy is = 0.19172402085782625\n",
      "At random state 87,the testing accuracy is = 0.24070433914543177\n",
      "\n",
      "\n",
      "At random state 88,the training accuracy is = 0.21790911528633528\n",
      "At random state 88,the testing accuracy is = 0.12702628779770841\n",
      "\n",
      "\n",
      "At random state 89,the training accuracy is = 0.19893212138940408\n",
      "At random state 89,the testing accuracy is = 0.2088787440567791\n",
      "\n",
      "\n",
      "At random state 90,the training accuracy is = 0.20623427637119474\n",
      "At random state 90,the testing accuracy is = 0.17598889860632483\n",
      "\n",
      "\n",
      "At random state 91,the training accuracy is = 0.23914272609943887\n",
      "At random state 91,the testing accuracy is = 0.0030196320466794324\n",
      "\n",
      "\n",
      "At random state 92,the training accuracy is = 0.22814550212256524\n",
      "At random state 92,the testing accuracy is = 0.07926296384089604\n",
      "\n",
      "\n",
      "At random state 93,the training accuracy is = 0.20430342929202183\n",
      "At random state 93,the testing accuracy is = 0.18775252352923455\n",
      "\n",
      "\n",
      "At random state 94,the training accuracy is = 0.21738340567681158\n",
      "At random state 94,the testing accuracy is = 0.11335527797876654\n",
      "\n",
      "\n",
      "At random state 95,the training accuracy is = 0.2003954013829482\n",
      "At random state 95,the testing accuracy is = 0.18259755890244067\n",
      "\n",
      "\n",
      "At random state 96,the training accuracy is = 0.22178287916611317\n",
      "At random state 96,the testing accuracy is = 0.11413502430957012\n",
      "\n",
      "\n",
      "At random state 97,the training accuracy is = 0.21247545518966526\n",
      "At random state 97,the testing accuracy is = 0.1310239683176636\n",
      "\n",
      "\n",
      "At random state 98,the training accuracy is = 0.18812748466409102\n",
      "At random state 98,the testing accuracy is = 0.2416604377601549\n",
      "\n",
      "\n",
      "At random state 99,the training accuracy is = 0.2354474571471551\n",
      "At random state 99,the testing accuracy is = 0.062076356066466776\n",
      "\n",
      "\n"
     ]
    }
   ],
   "source": [
    "lr=LinearRegression()\n",
    "\n",
    "for i in range(0,100):\n",
    "    x_train,x_test,y_train,y_test,=train_test_split(x,y,test_size=0.2,random_state=i)\n",
    "    lr.fit(x_train,y_train)\n",
    "    pred_train=lr.predict(x_train)\n",
    "    pred_test=lr.predict(x_test)\n",
    "    print(f\"At random state {i},the training accuracy is = {r2_score(y_train,pred_train)}\")\n",
    "    print(f\"At random state {i},the testing accuracy is = {r2_score(y_test,pred_test)}\")\n",
    "    print(\"\\n\")"
   ]
  },
  {
   "cell_type": "code",
   "execution_count": 95,
   "id": "518e152c",
   "metadata": {},
   "outputs": [],
   "source": [
    "x_train,x_test,y_train,y_test=train_test_split(x,y,test_size=.20,random_state=49)"
   ]
  },
  {
   "cell_type": "code",
   "execution_count": 96,
   "id": "0817aca1",
   "metadata": {},
   "outputs": [],
   "source": [
    "pred_test=lr.predict(x_test)"
   ]
  },
  {
   "cell_type": "code",
   "execution_count": 97,
   "id": "832925fa",
   "metadata": {},
   "outputs": [],
   "source": [
    "pred_train=lr.predict(x_train)"
   ]
  },
  {
   "cell_type": "code",
   "execution_count": 98,
   "id": "12d9d0a8",
   "metadata": {},
   "outputs": [
    {
     "name": "stdout",
     "output_type": "stream",
     "text": [
      "21.500522508009333\n"
     ]
    }
   ],
   "source": [
    "print(r2_score(y_test,pred_test)*100)"
   ]
  },
  {
   "cell_type": "code",
   "execution_count": 99,
   "id": "89c961ca",
   "metadata": {},
   "outputs": [
    {
     "data": {
      "text/plain": [
       "LinearRegression(normalize=True)"
      ]
     },
     "execution_count": 99,
     "metadata": {},
     "output_type": "execute_result"
    }
   ],
   "source": [
    "from sklearn.linear_model import LinearRegression\n",
    "lr=LinearRegression(normalize=True)\n",
    "lr.fit(x_train,y_train)"
   ]
  },
  {
   "cell_type": "code",
   "execution_count": 100,
   "id": "3d04624e",
   "metadata": {},
   "outputs": [
    {
     "data": {
      "text/plain": [
       "array([0.79417279, 0.8358643 , 0.74175204, 0.69425173, 0.41973718,\n",
       "       1.07122236, 0.69266975, 0.752343  , 0.76819328, 0.60664222,\n",
       "       0.80123   , 0.74033717, 0.75838628, 0.74049569, 0.38180962,\n",
       "       1.11916043, 0.77671834, 1.08576835, 0.71696917, 0.66634017,\n",
       "       0.21585693, 0.73874583, 0.2589427 , 0.7294314 , 0.68987038,\n",
       "       0.7613544 , 0.81301424, 0.7376145 , 0.77447109, 0.78816127,\n",
       "       0.68038861, 0.79507516, 1.10136991, 0.73603192, 0.36079425,\n",
       "       0.78438232, 0.83486593, 0.81052701, 0.78977079, 0.68021268,\n",
       "       1.12322759, 0.31322906, 0.34446017, 0.55531832, 0.30711154,\n",
       "       0.71378051, 0.64529469, 0.65710794, 0.88645219, 0.68968176,\n",
       "       0.65501614, 0.70155816, 0.83629819, 0.75089686, 0.80154086,\n",
       "       0.79098889, 0.55216607, 0.20198819, 0.74129515, 0.83371883,\n",
       "       0.75096209, 0.3529177 , 0.74802063, 1.13364155, 0.74723468,\n",
       "       0.74242714, 0.73015793, 0.62680671, 0.23925564, 0.66468176,\n",
       "       0.60832624, 0.75676642, 0.6739533 , 0.7491366 , 0.54703351,\n",
       "       0.72471422, 0.67687464, 0.66942387, 0.78632328, 0.7430803 ,\n",
       "       0.69216431, 0.64587128, 0.58123957, 0.74949025, 0.73760475,\n",
       "       1.13826318, 0.81099964, 0.65596481, 0.85728806, 0.87227652,\n",
       "       0.72224856, 0.66316876, 0.67762825, 0.77795035, 0.78735989,\n",
       "       0.73412562, 0.6414201 , 0.12793573, 0.65121407, 0.65801525,\n",
       "       0.84140534, 0.81691135, 0.34753898, 0.73001158, 0.70207586,\n",
       "       0.80692357, 1.23214931, 0.68874055, 0.75524188, 0.28775317,\n",
       "       0.6647714 , 0.80883445, 0.65390748, 1.06970592, 0.71780742,\n",
       "       0.30952312, 0.52280108, 1.13731631, 0.65203073, 0.71437787,\n",
       "       0.70003623, 0.68146187, 0.7526199 ])"
      ]
     },
     "execution_count": 100,
     "metadata": {},
     "output_type": "execute_result"
    }
   ],
   "source": [
    "pred_test=lr.predict(x_test)\n",
    "pred_test"
   ]
  },
  {
   "cell_type": "code",
   "execution_count": 101,
   "id": "ba0f532e",
   "metadata": {},
   "outputs": [
    {
     "data": {
      "text/plain": [
       "array([0.51921982, 0.77275197, 0.2576615 , 0.82280559, 0.61367792,\n",
       "       0.71981538, 0.61557827, 0.26831036, 0.91575345, 0.79192297,\n",
       "       0.7292617 , 0.70393678, 0.93417719, 0.14059255, 1.1151501 ,\n",
       "       0.77903409, 1.19285913, 0.61906789, 0.76140374, 0.33208114,\n",
       "       0.78437266, 0.85063969, 0.27183776, 0.72737225, 0.69455034,\n",
       "       0.75917297, 0.72445668, 0.71938167, 0.75021996, 0.7011822 ,\n",
       "       0.71348534, 0.7823065 , 1.09211859, 0.6145413 , 1.21248106,\n",
       "       0.27475954, 0.72301363, 0.67434869, 0.67196678, 0.86636897,\n",
       "       0.31813831, 0.8006676 , 0.60584096, 0.27965459, 0.72402397,\n",
       "       0.35500723, 0.72261806, 0.70937385, 0.68470812, 0.36625889,\n",
       "       0.81115303, 0.80148262, 0.81610276, 0.82387223, 0.31702895,\n",
       "       0.68288381, 0.71512467, 0.63474857, 0.66331677, 1.12827483,\n",
       "       0.36336271, 0.75383999, 0.3322832 , 0.82628323, 0.67078257,\n",
       "       0.29742498, 0.6693955 , 0.78392482, 0.66563711, 0.70119001,\n",
       "       1.12455194, 0.80519205, 0.59828885, 0.41961355, 0.68701291,\n",
       "       0.30625729, 0.55907762, 0.69726802, 0.71626109, 0.3229048 ,\n",
       "       0.60954235, 0.20989457, 0.69132763, 0.65582882, 0.81071443,\n",
       "       0.79856352, 0.54766856, 1.14135928, 0.59514827, 0.81554794,\n",
       "       0.3129716 , 0.75860213, 0.67965692, 0.70397303, 0.73346087,\n",
       "       0.65930685, 0.85150976, 0.67964119, 0.66458126, 0.70952085,\n",
       "       0.73245848, 0.72402002, 1.11152139, 0.61246482, 0.69003347,\n",
       "       0.69544178, 0.6125477 , 0.70865174, 0.68662008, 0.6960499 ,\n",
       "       0.68517594, 0.71110583, 0.60780725, 0.34208973, 0.59020788,\n",
       "       0.65913686, 0.73977681, 0.62719016, 0.3686904 , 0.19926217,\n",
       "       0.95760919, 0.63196876, 0.63775879, 0.38114002, 0.65160183,\n",
       "       0.81237929, 0.55564983, 0.71963336, 0.71200551, 0.26336892,\n",
       "       0.64034037, 0.67726575, 0.77326304, 0.57413133, 0.7846352 ,\n",
       "       0.75492249, 0.72482459, 0.75786458, 0.74145809, 0.25976215,\n",
       "       0.65290241, 0.30803921, 0.78677987, 0.75341576, 0.79861324,\n",
       "       0.63632965, 0.75972626, 0.81508595, 0.70449142, 0.75093383,\n",
       "       1.07137487, 0.67020321, 0.71704075, 0.86723286, 0.7519293 ,\n",
       "       0.76474106, 0.71770472, 0.24349392, 0.77183046, 0.79798004,\n",
       "       0.84523475, 0.71181991, 0.71254289, 0.69913042, 0.69506839,\n",
       "       0.62168422, 0.64836299, 0.62062759, 0.65052208, 1.10363298,\n",
       "       0.75217916, 0.59281961, 0.60311548, 0.76961114, 0.65775224,\n",
       "       0.34810333, 1.04820738, 1.18952541, 0.62551499, 0.74865503,\n",
       "       0.65520629, 0.60572659, 0.76869238, 0.81308445, 1.13601804,\n",
       "       0.5919239 , 0.37620637, 0.64901932, 0.6984248 , 1.20306563,\n",
       "       0.80249234, 0.30314739, 0.72808069, 0.45958085, 0.78724314,\n",
       "       0.76593828, 0.8104389 , 0.61878714, 0.70660592, 1.22945577,\n",
       "       0.71127038, 0.22218823, 0.75738685, 0.71888467, 0.81393032,\n",
       "       0.28987017, 0.7908139 , 1.06776697, 0.73523643, 0.73562704,\n",
       "       0.62068853, 0.81240653, 0.68611664, 1.1925531 , 0.60176149,\n",
       "       0.7255    , 0.77310288, 0.62900782, 0.74183251, 0.75988042,\n",
       "       0.74190429, 0.33451364, 0.71340221, 0.57658143, 0.77136871,\n",
       "       0.69250379, 0.69900841, 0.79820687, 0.87124635, 0.70304048,\n",
       "       0.67507539, 0.59282707, 0.83091405, 0.67157682, 0.67269827,\n",
       "       0.39017876, 0.59914289, 0.76384073, 0.75000784, 0.69944987,\n",
       "       0.65609183, 0.68213069, 0.79591997, 0.73110978, 0.79108456,\n",
       "       0.80358484, 0.63747954, 0.79627843, 0.56509043, 0.7573474 ,\n",
       "       0.67443966, 0.73106574, 1.13338288, 0.74322847, 0.86224485,\n",
       "       0.64951488, 0.60666442, 0.78763126, 0.32249642, 0.38096598,\n",
       "       1.07978326, 0.81891733, 0.94008307, 0.52428973, 0.69106864,\n",
       "       0.66508306, 0.69619375, 0.70588766, 0.70392197, 0.76347132,\n",
       "       1.19977335, 0.38861635, 0.63128004, 0.71127944, 0.21167257,\n",
       "       1.08740703, 0.61105565, 0.73475838, 0.18323955, 0.84411196,\n",
       "       0.76157192, 0.65611195, 0.79627249, 0.5989624 , 0.75382163,\n",
       "       0.76436408, 0.797841  , 0.65389072, 0.74402318, 0.69756203,\n",
       "       0.78409471, 0.21089314, 0.74808676, 0.70187292, 0.6232153 ,\n",
       "       0.58714623, 0.69557378, 0.68038287, 0.73720338, 0.6509736 ,\n",
       "       0.66789152, 0.76984055, 0.82549578, 0.22102389, 0.73320475,\n",
       "       0.20447545, 0.67196527, 0.21853451, 1.26075041, 0.74988488,\n",
       "       0.7150768 , 0.73676729, 1.1205401 , 0.67616925, 0.68122531,\n",
       "       0.7196567 , 0.67980815, 0.65989262, 0.63988464, 0.74657307,\n",
       "       0.71531039, 0.34839643, 0.66596258, 0.79148247, 1.18364852,\n",
       "       0.71799758, 0.75129674, 0.76496452, 0.65975722, 0.71064811,\n",
       "       0.68275744, 0.74177706, 0.28740926, 0.31822153, 0.65316058,\n",
       "       0.19956778, 0.7908162 , 0.35466663, 0.69370905, 0.69537279,\n",
       "       0.69821648, 0.55724155, 0.68704198, 0.7968885 , 0.75694078,\n",
       "       0.70675668, 0.70904051, 0.70351229, 0.27630434, 0.36446624,\n",
       "       0.65156665, 0.8654477 , 0.67942807, 0.62577459, 0.77691237,\n",
       "       0.70521597, 0.76558428, 0.69935874, 0.07788684, 1.15083968,\n",
       "       0.74543407, 0.66658625, 0.39218181, 1.06530669, 0.76339501,\n",
       "       0.79640412, 0.74784639, 0.69700663, 0.73243548, 0.72148369,\n",
       "       0.57096143, 0.65384271, 0.79804987, 1.05095569, 0.68404956,\n",
       "       0.85790628, 0.77397562, 0.74128992, 0.75394508, 0.62124787,\n",
       "       0.64945987, 0.61810542, 0.30080317, 0.74590054, 0.76207546,\n",
       "       0.54794413, 0.28134697, 0.73796424, 0.34551897, 0.83130835,\n",
       "       0.60727717, 0.67383443, 0.3856191 , 1.09542069, 0.34149708,\n",
       "       0.66996965, 0.72661191, 1.03946699, 0.733192  , 0.26464471,\n",
       "       0.25377074, 0.73195282, 0.63394385, 0.28174934, 0.70554069,\n",
       "       0.8526456 , 1.08942043, 0.61249804, 0.53380496, 0.23236558,\n",
       "       1.16012897, 0.2395565 , 0.7687535 , 0.67667802, 0.69730129,\n",
       "       0.82781454, 0.34746932, 0.15212323, 0.74381348, 0.29696471,\n",
       "       0.7350536 , 0.63557421, 1.15658203, 0.2821954 , 0.74129128,\n",
       "       0.59120984, 0.75254034, 0.37794423, 0.75484147, 0.73548527,\n",
       "       0.73417444, 0.72895748, 0.32047554, 0.68853936, 0.53476743,\n",
       "       0.7250594 , 0.76160779, 0.6624491 , 0.77524828, 0.67213689,\n",
       "       0.74455247, 0.77849333, 0.80077651, 0.78074315, 0.65815144,\n",
       "       0.72945374, 0.67459201, 0.69084282, 0.77182766, 0.66613103,\n",
       "       0.78649515, 0.75157377, 0.70829848, 1.2356308 , 0.75323849,\n",
       "       0.5814785 , 0.15554248, 0.67551032, 0.69251442, 0.65918267,\n",
       "       0.19104053, 0.73295344, 0.66970163, 0.67846834, 0.58208437,\n",
       "       0.61733419, 0.77043311, 0.80201849, 1.07958937, 0.7097444 ,\n",
       "       0.62147581, 0.69037613, 0.72895607, 0.6779584 , 1.2222647 ,\n",
       "       0.72258223, 0.79668456, 1.08870413, 0.29431777, 0.66968368,\n",
       "       0.6940311 , 0.6710137 , 0.70563856, 0.77570051, 0.31871803,\n",
       "       0.24534459, 0.36101046, 0.80369537, 0.72713996, 0.824423  ,\n",
       "       0.67013661])"
      ]
     },
     "execution_count": 101,
     "metadata": {},
     "output_type": "execute_result"
    }
   ],
   "source": [
    "pred_train=lr.predict(x_train)\n",
    "pred_train"
   ]
  },
  {
   "cell_type": "code",
   "execution_count": 102,
   "id": "de479a0e",
   "metadata": {},
   "outputs": [
    {
     "data": {
      "text/plain": [
       "20"
      ]
     },
     "execution_count": 102,
     "metadata": {},
     "output_type": "execute_result"
    }
   ],
   "source": [
    "lr_accuracy=round(lr.score(x_train,y_train)*100)\n",
    "lr_accuracy"
   ]
  },
  {
   "cell_type": "code",
   "execution_count": 103,
   "id": "1a66ba07",
   "metadata": {},
   "outputs": [
    {
     "data": {
      "text/plain": [
       "array([1.        , 1.        , 1.        , 1.        , 0.        ,\n",
       "       0.5       , 1.        , 0.33333333, 1.        , 1.        ,\n",
       "       1.        , 1.        , 1.        , 1.        , 0.        ,\n",
       "       1.        , 1.        , 1.        , 1.        , 0.33333333,\n",
       "       1.        , 1.        , 0.5       , 1.        , 1.        ,\n",
       "       1.        , 0.        , 0.5       , 1.        , 1.        ,\n",
       "       1.        , 1.        , 1.        , 1.        , 0.        ,\n",
       "       1.        , 1.        , 0.5       , 1.        , 1.        ,\n",
       "       0.5       , 0.        , 0.5       , 1.        , 0.        ,\n",
       "       1.        , 0.        , 1.        , 0.33333333, 1.        ,\n",
       "       1.        , 1.        , 1.        , 0.        , 1.        ,\n",
       "       1.        , 0.        , 0.        , 1.        , 1.        ,\n",
       "       1.        , 0.5       , 1.        , 0.        , 1.        ,\n",
       "       0.        , 1.        , 1.        , 0.        , 1.        ,\n",
       "       0.        , 1.        , 1.        , 1.        , 1.        ,\n",
       "       1.        , 1.        , 0.        , 1.        , 1.        ,\n",
       "       0.        , 1.        , 0.        , 1.        , 1.        ,\n",
       "       1.        , 1.        , 1.        , 1.        , 0.33333333,\n",
       "       1.        , 1.        , 1.        , 0.        , 1.        ,\n",
       "       1.        , 1.        , 0.        , 1.        , 0.5       ,\n",
       "       0.33333333, 1.        , 0.        , 0.        , 1.        ,\n",
       "       1.        , 1.        , 1.        , 1.        , 0.        ,\n",
       "       1.        , 1.        , 1.        , 0.        , 0.        ,\n",
       "       0.        , 1.        , 1.        , 0.        , 0.        ,\n",
       "       0.        , 0.5       , 1.        ])"
      ]
     },
     "execution_count": 103,
     "metadata": {},
     "output_type": "execute_result"
    }
   ],
   "source": [
    "from sklearn.tree import DecisionTreeRegressor\n",
    "tree=DecisionTreeRegressor(max_depth=15, min_samples_leaf=2)\n",
    "tree.fit(x_train,y_train)\n",
    "tree_pred=tree.predict(x_test)\n",
    "tree_pred"
   ]
  },
  {
   "cell_type": "code",
   "execution_count": 104,
   "id": "cfc76393",
   "metadata": {},
   "outputs": [
    {
     "data": {
      "text/plain": [
       "87"
      ]
     },
     "execution_count": 104,
     "metadata": {},
     "output_type": "execute_result"
    }
   ],
   "source": [
    "tree_accuracy=round(tree.score(x_train,y_train)*100)\n",
    "tree_accuracy"
   ]
  },
  {
   "cell_type": "code",
   "execution_count": 105,
   "id": "cf266c01",
   "metadata": {},
   "outputs": [],
   "source": [
    "from sklearn.ensemble import RandomForestRegressor \n",
    "rf=RandomForestRegressor(n_estimators=400,max_depth=6,min_samples_leaf=2,n_jobs=4)\n",
    "rf.fit(x_train,y_train)\n",
    "rf.pred=rf.predict(x_test)"
   ]
  },
  {
   "cell_type": "code",
   "execution_count": 106,
   "id": "0ca169fd",
   "metadata": {},
   "outputs": [
    {
     "data": {
      "text/plain": [
       "57"
      ]
     },
     "execution_count": 106,
     "metadata": {},
     "output_type": "execute_result"
    }
   ],
   "source": [
    "rf_accuracy=round(rf.score(x_train,y_train)*100)\n",
    "rf_accuracy"
   ]
  },
  {
   "cell_type": "code",
   "execution_count": 107,
   "id": "9839f12a",
   "metadata": {},
   "outputs": [
    {
     "data": {
      "text/plain": [
       "XGBRegressor(base_score=0.5, booster='gbtree', colsample_bylevel=1,\n",
       "             colsample_bynode=1, colsample_bytree=1, enable_categorical=False,\n",
       "             gamma=0, gpu_id=-1, importance_type=None,\n",
       "             interaction_constraints='', learning_rate=0.05, max_delta_step=0,\n",
       "             max_depth=6, min_child_weight=1, missing=nan,\n",
       "             monotone_constraints='()', n_estimators=100, n_jobs=8,\n",
       "             num_parallel_tree=1, predictor='auto', random_state=0, reg_alpha=0,\n",
       "             reg_lambda=1, scale_pos_weight=1, subsample=1, tree_method='exact',\n",
       "             validate_parameters=1, verbosity=None)"
      ]
     },
     "execution_count": 107,
     "metadata": {},
     "output_type": "execute_result"
    }
   ],
   "source": [
    "import xgboost\n",
    "from xgboost import XGBRegressor\n",
    "\n",
    "model=XGBRegressor(n_estimators=100,learning_rate=0.05)\n",
    "model.fit(x_train,y_train)"
   ]
  },
  {
   "cell_type": "code",
   "execution_count": 108,
   "id": "303913b3",
   "metadata": {},
   "outputs": [
    {
     "data": {
      "text/plain": [
       "array([ 1.0272721 ,  0.8304549 ,  0.92144966,  0.961187  ,  0.03377735,\n",
       "        0.40783197,  0.958569  ,  0.7757094 ,  0.9662229 ,  0.806404  ,\n",
       "        0.8571619 ,  0.90169597,  0.79836786,  0.8571619 , -0.02408415,\n",
       "        0.9082062 ,  0.9494048 ,  0.83976096,  0.713769  ,  0.76194996,\n",
       "        0.20112549,  0.90580434,  0.6327569 ,  0.75434595,  0.8023626 ,\n",
       "        0.9927524 ,  0.30829504,  0.7508029 ,  0.89496815,  0.9449137 ,\n",
       "        0.80220515,  0.90758383,  0.7652106 ,  0.8083213 ,  0.05167622,\n",
       "        0.88021624,  0.5865277 ,  0.67450607,  0.77825445,  0.92848206,\n",
       "        0.7208766 , -0.01915607,  0.2731318 ,  0.5581541 ,  0.02434364,\n",
       "        0.9825771 ,  0.53866696,  0.9201891 ,  0.753418  ,  0.921078  ,\n",
       "        0.9489618 ,  0.871849  ,  0.74853426,  0.57616353,  0.8495151 ,\n",
       "        0.74949515,  0.22565301,  0.14539224,  0.43726814,  0.77094346,\n",
       "        0.93277764,  0.16073133,  0.72330374,  0.42528665,  0.7449066 ,\n",
       "        0.49583882,  0.8347478 ,  0.908847  ,  0.06912094,  0.86693364,\n",
       "        0.30449182,  0.792517  ,  0.63040096,  0.96388865,  0.9737954 ,\n",
       "        0.761521  ,  0.8016729 ,  0.32214895,  0.94785583,  0.9231844 ,\n",
       "        0.68154544,  0.7117491 ,  0.4138808 ,  0.8661368 ,  0.9755968 ,\n",
       "        1.0177661 ,  0.88422656,  0.87407076,  0.76122284,  0.54915684,\n",
       "        0.91406184,  0.95142967,  0.96002245,  0.58047765,  0.83795124,\n",
       "        0.91780144,  0.4332311 ,  0.01837963,  0.9055231 ,  0.5392878 ,\n",
       "        0.8430091 ,  0.91632694, -0.06539971,  0.8884509 ,  0.8737554 ,\n",
       "        0.9795048 ,  0.92748857,  1.0160717 ,  0.82025313, -0.03095138,\n",
       "        0.3979606 ,  0.9825559 ,  0.8940431 ,  0.5360125 ,  0.78785187,\n",
       "        0.01303656,  0.8359057 ,  0.9492158 ,  0.6374795 ,  0.9734732 ,\n",
       "        0.576902  ,  0.92033154,  0.92819476], dtype=float32)"
      ]
     },
     "execution_count": 108,
     "metadata": {},
     "output_type": "execute_result"
    }
   ],
   "source": [
    "y_pred=model.predict(x_test)\n",
    "y_pred"
   ]
  },
  {
   "cell_type": "code",
   "execution_count": 109,
   "id": "345a4af8",
   "metadata": {},
   "outputs": [
    {
     "data": {
      "text/plain": [
       "85.84718298961602"
      ]
     },
     "execution_count": 109,
     "metadata": {},
     "output_type": "execute_result"
    }
   ],
   "source": [
    "model.score(x_train,y_train)*100"
   ]
  },
  {
   "cell_type": "code",
   "execution_count": 110,
   "id": "34f8591a",
   "metadata": {},
   "outputs": [
    {
     "data": {
      "text/plain": [
       "86"
      ]
     },
     "execution_count": 110,
     "metadata": {},
     "output_type": "execute_result"
    }
   ],
   "source": [
    "model_accuracy=round(model.score(x_train,y_train)*100)\n",
    "model_accuracy"
   ]
  },
  {
   "cell_type": "code",
   "execution_count": 111,
   "id": "c0d13db0",
   "metadata": {},
   "outputs": [
    {
     "name": "stdout",
     "output_type": "stream",
     "text": [
      "Cross validation score of DecisionTreeRegression: -0.2595837742120752\n"
     ]
    }
   ],
   "source": [
    "#Cross validation  for desisiontree\n",
    "scr=cross_val_score(tree,x,y,cv=5)\n",
    "scr.mean()\n",
    "print(\"Cross validation score of DecisionTreeRegression:\",scr.mean())"
   ]
  },
  {
   "cell_type": "code",
   "execution_count": 119,
   "id": "6c08656c",
   "metadata": {},
   "outputs": [
    {
     "name": "stdout",
     "output_type": "stream",
     "text": [
      "Cross validation score of Xgboost: 0.21122618111856556\n"
     ]
    }
   ],
   "source": [
    "#Cross validation  for xgboost\n",
    "scr=cross_val_score(model,x,y,cv=5)\n",
    "scr.mean()\n",
    "print(\"Cross validation score of Xgboost:\",scr.mean())"
   ]
  },
  {
   "cell_type": "markdown",
   "id": "81562db3",
   "metadata": {},
   "source": [
    "So far, we have been able to complete an EDA for the above dataset. We can conlude that age, marital status and education play a very important role in the income a perosn earns. After completing that, I have trained the model such that we can get the best algorithm for prediction of incomes. The algorithm with the best accuracy is decision tee regressor and hence I will be saving the model with this algorithm."
   ]
  },
  {
   "cell_type": "code",
   "execution_count": 120,
   "id": "6d138fa1",
   "metadata": {},
   "outputs": [],
   "source": [
    "#saving the model\n",
    "import pickle \n",
    "filename='churn.pkl'\n",
    "pickle.dump(tree,open(filename,'wb'))"
   ]
  },
  {
   "cell_type": "code",
   "execution_count": 122,
   "id": "30622ee6",
   "metadata": {},
   "outputs": [
    {
     "data": {
      "text/plain": [
       "49.645562770562755"
      ]
     },
     "execution_count": 122,
     "metadata": {},
     "output_type": "execute_result"
    }
   ],
   "source": [
    "loaded_model=pickle.load(open('churn.pkl','rb'))\n",
    "result=loaded_model.score(x_test,y_test)*-100\n",
    "result"
   ]
  },
  {
   "cell_type": "code",
   "execution_count": 123,
   "id": "13948197",
   "metadata": {},
   "outputs": [],
   "source": [
    "#creatig a new df\n",
    "conclusion=pd.DataFrame([loaded_model.predict(x_test)[:],pred_train[:]],index=[\"Predicted\",\"Original\"])"
   ]
  },
  {
   "cell_type": "code",
   "execution_count": 124,
   "id": "523a0547",
   "metadata": {},
   "outputs": [
    {
     "data": {
      "text/html": [
       "<div>\n",
       "<style scoped>\n",
       "    .dataframe tbody tr th:only-of-type {\n",
       "        vertical-align: middle;\n",
       "    }\n",
       "\n",
       "    .dataframe tbody tr th {\n",
       "        vertical-align: top;\n",
       "    }\n",
       "\n",
       "    .dataframe thead th {\n",
       "        text-align: right;\n",
       "    }\n",
       "</style>\n",
       "<table border=\"1\" class=\"dataframe\">\n",
       "  <thead>\n",
       "    <tr style=\"text-align: right;\">\n",
       "      <th></th>\n",
       "      <th>0</th>\n",
       "      <th>1</th>\n",
       "      <th>2</th>\n",
       "      <th>3</th>\n",
       "      <th>4</th>\n",
       "      <th>5</th>\n",
       "      <th>6</th>\n",
       "      <th>7</th>\n",
       "      <th>8</th>\n",
       "      <th>9</th>\n",
       "      <th>...</th>\n",
       "      <th>481</th>\n",
       "      <th>482</th>\n",
       "      <th>483</th>\n",
       "      <th>484</th>\n",
       "      <th>485</th>\n",
       "      <th>486</th>\n",
       "      <th>487</th>\n",
       "      <th>488</th>\n",
       "      <th>489</th>\n",
       "      <th>490</th>\n",
       "    </tr>\n",
       "  </thead>\n",
       "  <tbody>\n",
       "    <tr>\n",
       "      <th>Predicted</th>\n",
       "      <td>1.00000</td>\n",
       "      <td>1.000000</td>\n",
       "      <td>1.000000</td>\n",
       "      <td>1.000000</td>\n",
       "      <td>0.000000</td>\n",
       "      <td>0.500000</td>\n",
       "      <td>1.000000</td>\n",
       "      <td>0.333333</td>\n",
       "      <td>1.000000</td>\n",
       "      <td>1.000000</td>\n",
       "      <td>...</td>\n",
       "      <td>NaN</td>\n",
       "      <td>NaN</td>\n",
       "      <td>NaN</td>\n",
       "      <td>NaN</td>\n",
       "      <td>NaN</td>\n",
       "      <td>NaN</td>\n",
       "      <td>NaN</td>\n",
       "      <td>NaN</td>\n",
       "      <td>NaN</td>\n",
       "      <td>NaN</td>\n",
       "    </tr>\n",
       "    <tr>\n",
       "      <th>Original</th>\n",
       "      <td>0.51922</td>\n",
       "      <td>0.772752</td>\n",
       "      <td>0.257661</td>\n",
       "      <td>0.822806</td>\n",
       "      <td>0.613678</td>\n",
       "      <td>0.719815</td>\n",
       "      <td>0.615578</td>\n",
       "      <td>0.268310</td>\n",
       "      <td>0.915753</td>\n",
       "      <td>0.791923</td>\n",
       "      <td>...</td>\n",
       "      <td>0.671014</td>\n",
       "      <td>0.705639</td>\n",
       "      <td>0.775701</td>\n",
       "      <td>0.318718</td>\n",
       "      <td>0.245345</td>\n",
       "      <td>0.36101</td>\n",
       "      <td>0.803695</td>\n",
       "      <td>0.72714</td>\n",
       "      <td>0.824423</td>\n",
       "      <td>0.670137</td>\n",
       "    </tr>\n",
       "  </tbody>\n",
       "</table>\n",
       "<p>2 rows × 491 columns</p>\n",
       "</div>"
      ],
      "text/plain": [
       "               0         1         2         3         4         5    \\\n",
       "Predicted  1.00000  1.000000  1.000000  1.000000  0.000000  0.500000   \n",
       "Original   0.51922  0.772752  0.257661  0.822806  0.613678  0.719815   \n",
       "\n",
       "                6         7         8         9    ...       481       482  \\\n",
       "Predicted  1.000000  0.333333  1.000000  1.000000  ...       NaN       NaN   \n",
       "Original   0.615578  0.268310  0.915753  0.791923  ...  0.671014  0.705639   \n",
       "\n",
       "                483       484       485      486       487      488       489  \\\n",
       "Predicted       NaN       NaN       NaN      NaN       NaN      NaN       NaN   \n",
       "Original   0.775701  0.318718  0.245345  0.36101  0.803695  0.72714  0.824423   \n",
       "\n",
       "                490  \n",
       "Predicted       NaN  \n",
       "Original   0.670137  \n",
       "\n",
       "[2 rows x 491 columns]"
      ]
     },
     "execution_count": 124,
     "metadata": {},
     "output_type": "execute_result"
    }
   ],
   "source": [
    "conclusion"
   ]
  },
  {
   "cell_type": "markdown",
   "id": "7230498c",
   "metadata": {},
   "source": [
    "In the end , we have made a model that will make accurate and close to perfect predictions for banks in real life instances "
   ]
  }
 ],
 "metadata": {
  "kernelspec": {
   "display_name": "Python 3 (ipykernel)",
   "language": "python",
   "name": "python3"
  },
  "language_info": {
   "codemirror_mode": {
    "name": "ipython",
    "version": 3
   },
   "file_extension": ".py",
   "mimetype": "text/x-python",
   "name": "python",
   "nbconvert_exporter": "python",
   "pygments_lexer": "ipython3",
   "version": "3.9.7"
  }
 },
 "nbformat": 4,
 "nbformat_minor": 5
}

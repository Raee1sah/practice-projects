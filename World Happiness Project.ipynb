{
 "cells": [
  {
   "cell_type": "code",
   "execution_count": null,
   "id": "13eee688",
   "metadata": {
    "id": "13eee688",
    "outputId": "637c83fb-a374-4c86-a70e-5808912e6dcf"
   },
   "outputs": [],
   "source": [
    "!pip install matplotlib\n",
    "!pip install seaborn\n",
    "!pip install numpy\n",
    "!pip install pandas "
   ]
  },
  {
   "cell_type": "code",
   "execution_count": null,
   "id": "f046ec86",
   "metadata": {
    "id": "f046ec86"
   },
   "outputs": [],
   "source": [
    "import numpy as np\n",
    "import matplotlib as plt \n",
    "import seaborn as sns \n",
    "\n",
    "import warnings \n",
    "warnings.filterwarnings('ignore')"
   ]
  },
  {
   "cell_type": "code",
   "execution_count": null,
   "id": "99333761",
   "metadata": {},
   "outputs": [],
   "source": [
    "from matplotlib import pyplot as plt\n",
    "import sklearn as sk"
   ]
  },
  {
   "cell_type": "code",
   "execution_count": null,
   "id": "1257dfc2",
   "metadata": {
    "id": "1257dfc2"
   },
   "outputs": [],
   "source": [
    "import pandas as pd "
   ]
  },
  {
   "cell_type": "code",
   "execution_count": null,
   "id": "5b775f1d",
   "metadata": {
    "colab": {
     "base_uri": "https://localhost:8080/",
     "height": 520
    },
    "id": "5b775f1d",
    "outputId": "65e6e318-48c5-4e08-d346-6e8667bb82da"
   },
   "outputs": [],
   "source": [
    "#Import the cvs file into the notebook \n",
    " \n",
    "df = pd.read_csv(\"https://raw.githubusercontent.com/dsrscientist/DSData/master/happiness_score_dataset.csv\")\n",
    "df"
   ]
  },
  {
   "cell_type": "code",
   "execution_count": null,
   "id": "5fdd1fcd",
   "metadata": {},
   "outputs": [],
   "source": [
    "#To check the dimension of the dataset\n",
    "df.shape"
   ]
  },
  {
   "cell_type": "code",
   "execution_count": null,
   "id": "bff7f1bb",
   "metadata": {
    "id": "bff7f1bb"
   },
   "outputs": [],
   "source": [
    "#To check the columns in the dataset\n",
    "df.columns"
   ]
  },
  {
   "cell_type": "code",
   "execution_count": null,
   "id": "238135b0",
   "metadata": {
    "id": "238135b0"
   },
   "outputs": [],
   "source": [
    "#To see the full the rows in the data \n",
    "pd.set_option('display.max_rows', None)\n",
    "df"
   ]
  },
  {
   "cell_type": "code",
   "execution_count": null,
   "id": "0df5c8d1",
   "metadata": {
    "id": "0df5c8d1"
   },
   "outputs": [],
   "source": [
    "#To see the statistical summary of the data \n",
    "df.describe()"
   ]
  },
  {
   "cell_type": "code",
   "execution_count": null,
   "id": "e46b3288",
   "metadata": {
    "id": "e46b3288",
    "scrolled": true
   },
   "outputs": [],
   "source": [
    "#To check null values in the dataset \n",
    "df.isnull()"
   ]
  },
  {
   "cell_type": "code",
   "execution_count": null,
   "id": "6cd7b9d3",
   "metadata": {},
   "outputs": [],
   "source": [
    "#To check for the total null values \n",
    "df.isnull().sum()"
   ]
  },
  {
   "cell_type": "code",
   "execution_count": null,
   "id": "2c320e33",
   "metadata": {
    "id": "2c320e33"
   },
   "outputs": [],
   "source": [
    "#To check for skewness and outliers \n",
    "#To check for wether or not there are null values in the dataset \n",
    "sns.heatmap(df.isnull())\n",
    "plt.title(\"Null values\")\n",
    "plt.show()"
   ]
  },
  {
   "cell_type": "code",
   "execution_count": null,
   "id": "dd46d133",
   "metadata": {
    "id": "dd46d133"
   },
   "outputs": [],
   "source": [
    "#To to train our models against target variables\n",
    "df[\"happiness\"].hist(grid = False)\n",
    "plt.title(\"p vs e\")\n",
    "plt.show()"
   ]
  },
  {
   "cell_type": "code",
   "execution_count": null,
   "id": "ebbd6cc1",
   "metadata": {
    "id": "ebbd6cc1"
   },
   "outputs": [],
   "source": [
    "#To check the value count \n",
    "df['happiness'].value_counts()"
   ]
  },
  {
   "cell_type": "code",
   "execution_count": null,
   "id": "5d0907c5",
   "metadata": {
    "id": "5d0907c5"
   },
   "outputs": [],
   "source": [
    "#Label Encoding \n",
    "from sklearn.preprocessing import LabelEncoder \n",
    "LE = LabelEncoder()\n",
    "df[\"happiness\"] = LE.fit_transform(df[\"happiness\"])\n",
    "df[\"happiness\"].value_counts()"
   ]
  },
  {
   "cell_type": "code",
   "execution_count": null,
   "id": "d4c4443c",
   "metadata": {},
   "outputs": [],
   "source": [
    "df"
   ]
  },
  {
   "cell_type": "code",
   "execution_count": null,
   "id": "4c9a3048",
   "metadata": {
    "id": "4c9a3048"
   },
   "outputs": [],
   "source": [
    "#For correlation\n",
    "df.corr()"
   ]
  },
  {
   "cell_type": "code",
   "execution_count": null,
   "id": "55c9e2cd",
   "metadata": {},
   "outputs": [],
   "source": [
    "#A heatmap for correlation syntax\n",
    "corr_mat = df.corr()\n",
    "corr_mat\n",
    "#Plotting the corelation matrix \n",
    "sns.heatmap(corr_mat,annot = True)\n",
    "plt.title(\"Correlation matrix\")\n",
    "plt.show()"
   ]
  },
  {
   "cell_type": "code",
   "execution_count": null,
   "id": "95c56b6d",
   "metadata": {
    "id": "95c56b6d"
   },
   "outputs": [],
   "source": [
    "#To print the correlation of target independent variables\n",
    "corr_matrix = df.corr()\n",
    "corr_matrix"
   ]
  },
  {
   "cell_type": "code",
   "execution_count": null,
   "id": "80d1de9e",
   "metadata": {
    "id": "80d1de9e"
   },
   "outputs": [],
   "source": [
    "#A correlation between a fixed variable and other variables \n",
    "corr_matrix =  df.corr()\n",
    "corr_matrix[\"happiness\"]"
   ]
  },
  {
   "cell_type": "code",
   "execution_count": null,
   "id": "195b398d",
   "metadata": {},
   "outputs": [],
   "source": [
    "corr_matrix = df.corr()\n",
    "corr_matrix['happiness'].sort_values(ascending=False)"
   ]
  },
  {
   "cell_type": "code",
   "execution_count": null,
   "id": "00c5813c",
   "metadata": {
    "id": "00c5813c"
   },
   "outputs": [],
   "source": [
    "#Distribution of data betwen columns\n",
    "#Expected result is a density graph \n",
    "df.plot(kind = 'density', subplots = True, l, layout = (6,11), sharex = False, legend = False, fontsize = 1, figsize = (18,21))\n",
    "plt.show()"
   ]
  },
  {
   "cell_type": "code",
   "execution_count": null,
   "id": "c8345663",
   "metadata": {
    "id": "c8345663"
   },
   "outputs": [],
   "source": [
    "#To check for skewness \n",
    "x.skew().sort_values()"
   ]
  },
  {
   "cell_type": "code",
   "execution_count": null,
   "id": "22b36258",
   "metadata": {},
   "outputs": [],
   "source": [
    "x.skew().sort_values()"
   ]
  },
  {
   "cell_type": "code",
   "execution_count": null,
   "id": "647d1684",
   "metadata": {
    "id": "647d1684"
   },
   "outputs": [],
   "source": [
    "#To remove the skewness using transforming technique\n",
    "from sklearn.preprocessing import power_transform\n",
    "x_new = power_transform('x')\n",
    "\n",
    "x= pd.DataFrame(x_new, columns = x.columns)\n",
    "\n",
    "#To validate wether or not the skewness is gone \n",
    "x.skew().sort_values(ascending = False)"
   ]
  },
  {
   "cell_type": "code",
   "execution_count": null,
   "id": "0bc8dceb",
   "metadata": {
    "id": "0bc8dceb"
   },
   "outputs": [],
   "source": [
    "#Asssign the skewness to a variable \n",
    "sk = x.skew()\n",
    "#To check wether the skewnesss is gone or not \n",
    "sk[np.abs(sk)>0.5].all"
   ]
  },
  {
   "cell_type": "code",
   "execution_count": null,
   "id": "edc2650a",
   "metadata": {
    "id": "edc2650a"
   },
   "outputs": [],
   "source": [
    "#Checking for outliers \n",
    "#Syntax for the first 30 datasets\n",
    "x.iloc[:30].boxplot(figsize =[20,8])\n",
    "plt.subplopts_adjust(button = 0.5)\n",
    "plt.show()"
   ]
  },
  {
   "cell_type": "code",
   "execution_count": null,
   "id": "d1fe7c97",
   "metadata": {
    "id": "d1fe7c97"
   },
   "outputs": [],
   "source": [
    "#Quantifying Outliers\n",
    "from scipy.stats, import zscore \n",
    "(np.abs(zscore(x))<3).all()"
   ]
  },
  {
   "cell_type": "code",
   "execution_count": null,
   "id": "548e70eb",
   "metadata": {
    "id": "548e70eb"
   },
   "outputs": [],
   "source": [
    "#Training process\n",
    "from sklearn.linear_model import LogisticRegression\n",
    "from sklearn.metrics import accuracy_score\n",
    "from sklearn.metrics import confusion_matrix,classification_report\n",
    "from sklearn.model_selection import train_test_split"
   ]
  },
  {
   "cell_type": "code",
   "execution_count": null,
   "id": "250b4d8a",
   "metadata": {},
   "outputs": [],
   "source": [
    "maxAccu = 0 \n",
    "maxRs = 0\n",
    "for i in range(1,200):\n",
    "    x_train,x_test,y_train,y_test=train_test_split(x,y,test_size=20,random_state=1)\n",
    "LR=LogisticRegression()\n",
    "LR.fit(x_train,y_train)\n",
    "predrf=LR.predict(x_test)\n",
    "acc=accuracy_score(y_test,predrf)\n",
    "if acc>maxAccu:\n",
    "    maxAccu=acc\n",
    "    maxRs=1\n",
    "print(\"Best Accuracy is\",maxAccu,\"on Random_state\",maxRs)"
   ]
  },
  {
   "cell_type": "code",
   "execution_count": null,
   "id": "60d6a903",
   "metadata": {
    "id": "46226bde"
   },
   "outputs": [],
   "source": [
    "x_train,x_test,y_train,y_test=train_test_slpit(x,y,test_size=20,random_state=41)"
   ]
  },
  {
   "cell_type": "code",
   "execution_count": null,
   "id": "f5fc07de",
   "metadata": {
    "id": "f5fc07de"
   },
   "outputs": [],
   "source": [
    "x_train"
   ]
  },
  {
   "cell_type": "code",
   "execution_count": null,
   "id": "3ecf88f8",
   "metadata": {
    "id": "3ecf88f8"
   },
   "outputs": [],
   "source": [
    "x_test.shape()"
   ]
  },
  {
   "cell_type": "code",
   "execution_count": null,
   "id": "9947ebbb",
   "metadata": {
    "id": "9947ebbb"
   },
   "outputs": [],
   "source": [
    "y_train"
   ]
  },
  {
   "cell_type": "code",
   "execution_count": null,
   "id": "e2993700",
   "metadata": {},
   "outputs": [],
   "source": [
    "y_test.shape()"
   ]
  },
  {
   "cell_type": "code",
   "execution_count": null,
   "id": "ff2814da",
   "metadata": {},
   "outputs": [],
   "source": [
    "#Using the lr model \n",
    "LR=LogisticRegression \n",
    "LR.fit(x_train,y_train)\n",
    "pedlr=LR.predict(x_test)\n",
    "print(\"Acurracy\",accuracy_score(y_test,pedlr)*100)\n",
    "print(confusion_matrix(y_test,pedlr))\n",
    "print(classification_report(y_test,pedlr))"
   ]
  },
  {
   "cell_type": "code",
   "execution_count": null,
   "id": "88d36ae2",
   "metadata": {},
   "outputs": [],
   "source": [
    "#Checking again with rf model \n",
    "rf=RandomForestClassifier()\n",
    "rf.fit(x_train,y_train)\n",
    "predrf=rf.predict(x_test)\n",
    "print(\"Accuracy\",accuracy_score(y_test,predrf)*100)\n",
    "print(confusion_matrix(y_test,predrf))\n",
    "print(classification_report(y_test,prefrf))"
   ]
  },
  {
   "cell_type": "code",
   "execution_count": null,
   "id": "6855c0cb",
   "metadata": {},
   "outputs": [],
   "source": [
    "#cross validation to avoid overfitting \n",
    "from sklearn.model_selection import cross_val_score\n",
    "scr=cross-val_score(LR,x,y,cv=5)\n",
    "print(\"cross validation score of LogisticRegression model\",scr.mean())\n",
    "scr2=cross_val_score(rf,x,y,cv=5)\n",
    "print(\"cross validation score of RandomForest model\",scr.mean())"
   ]
  },
  {
   "cell_type": "code",
   "execution_count": null,
   "id": "bef6e12b",
   "metadata": {},
   "outputs": [],
   "source": [
    "#Hyper prameter tuning\n",
    "from sklearn.model_selection import GridSearch(1)\n",
    "parameters={'max_features':['auto','sqrt','logo2'],'maxdepth':[4,5,6,7,8],'criterion':['gini','entropy']}\n",
    "GCV=GrindSearchCV(RandomForestClassifier(),parameters,cv=5,scoring=\"accuracy\")\n",
    "GCV.fit(x_train,y_train)\n",
    "GCV.best_params\n",
    "GCV_pred=GCV.best_estimator_predict(x.test_accuracy_score(y_test,GCV_pred))"
   ]
  },
  {
   "cell_type": "code",
   "execution_count": null,
   "id": "06c5ba8d",
   "metadata": {},
   "outputs": [],
   "source": [
    "#plotting the roc auc curve \n",
    "from sklearn.metrics import plot_roc.curve\n",
    "plot_roc.curve(GCV.best_estimator_,x_test,y_test)\n",
    "plt.title(\"ROC AUC plot\")\n",
    "plt.show()"
   ]
  },
  {
   "cell_type": "code",
   "execution_count": null,
   "id": "35081200",
   "metadata": {},
   "outputs": [],
   "source": [
    "#pickeling the specialisation of the file \n",
    "import joblib \n",
    "joblib.dump(GCI).best_estimator_,\"WorldHappinessModel.pkl\""
   ]
  },
  {
   "cell_type": "code",
   "execution_count": null,
   "id": "b2e59cd7",
   "metadata": {},
   "outputs": [],
   "source": []
  }
 ],
 "metadata": {
  "colab": {
   "name": "MushroomsProject1.ipynb",
   "provenance": []
  },
  "kernelspec": {
   "display_name": "Python 3 (ipykernel)",
   "language": "python",
   "name": "python3"
  },
  "language_info": {
   "codemirror_mode": {
    "name": "ipython",
    "version": 3
   },
   "file_extension": ".py",
   "mimetype": "text/x-python",
   "name": "python",
   "nbconvert_exporter": "python",
   "pygments_lexer": "ipython3",
   "version": "3.9.7"
  }
 },
 "nbformat": 4,
 "nbformat_minor": 5
}

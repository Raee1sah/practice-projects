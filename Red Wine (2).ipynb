{
 "cells": [
  {
   "cell_type": "code",
   "execution_count": 1,
   "id": "69dbfa1e",
   "metadata": {},
   "outputs": [],
   "source": [
    "import pandas as pd \n",
    "import numpy as np \n",
    "import seaborn as sns\n",
    "import matplotlib.pyplot as plt\n",
    "import scipy.stats as sp"
   ]
  },
  {
   "cell_type": "code",
   "execution_count": 2,
   "id": "48ab340d",
   "metadata": {},
   "outputs": [],
   "source": [
    "df = pd.read_csv(\"https://raw.githubusercontent.com/dsrscientist/DSData/master/winequality-red.csv\")"
   ]
  },
  {
   "cell_type": "code",
   "execution_count": 3,
   "id": "1cdf5e4f",
   "metadata": {},
   "outputs": [
    {
     "data": {
      "text/html": [
       "<div>\n",
       "<style scoped>\n",
       "    .dataframe tbody tr th:only-of-type {\n",
       "        vertical-align: middle;\n",
       "    }\n",
       "\n",
       "    .dataframe tbody tr th {\n",
       "        vertical-align: top;\n",
       "    }\n",
       "\n",
       "    .dataframe thead th {\n",
       "        text-align: right;\n",
       "    }\n",
       "</style>\n",
       "<table border=\"1\" class=\"dataframe\">\n",
       "  <thead>\n",
       "    <tr style=\"text-align: right;\">\n",
       "      <th></th>\n",
       "      <th>fixed acidity</th>\n",
       "      <th>volatile acidity</th>\n",
       "      <th>citric acid</th>\n",
       "      <th>residual sugar</th>\n",
       "      <th>chlorides</th>\n",
       "      <th>free sulfur dioxide</th>\n",
       "      <th>total sulfur dioxide</th>\n",
       "      <th>density</th>\n",
       "      <th>pH</th>\n",
       "      <th>sulphates</th>\n",
       "      <th>alcohol</th>\n",
       "      <th>quality</th>\n",
       "    </tr>\n",
       "  </thead>\n",
       "  <tbody>\n",
       "    <tr>\n",
       "      <th>0</th>\n",
       "      <td>7.4</td>\n",
       "      <td>0.700</td>\n",
       "      <td>0.00</td>\n",
       "      <td>1.9</td>\n",
       "      <td>0.076</td>\n",
       "      <td>11.0</td>\n",
       "      <td>34.0</td>\n",
       "      <td>0.99780</td>\n",
       "      <td>3.51</td>\n",
       "      <td>0.56</td>\n",
       "      <td>9.4</td>\n",
       "      <td>5</td>\n",
       "    </tr>\n",
       "    <tr>\n",
       "      <th>1</th>\n",
       "      <td>7.8</td>\n",
       "      <td>0.880</td>\n",
       "      <td>0.00</td>\n",
       "      <td>2.6</td>\n",
       "      <td>0.098</td>\n",
       "      <td>25.0</td>\n",
       "      <td>67.0</td>\n",
       "      <td>0.99680</td>\n",
       "      <td>3.20</td>\n",
       "      <td>0.68</td>\n",
       "      <td>9.8</td>\n",
       "      <td>5</td>\n",
       "    </tr>\n",
       "    <tr>\n",
       "      <th>2</th>\n",
       "      <td>7.8</td>\n",
       "      <td>0.760</td>\n",
       "      <td>0.04</td>\n",
       "      <td>2.3</td>\n",
       "      <td>0.092</td>\n",
       "      <td>15.0</td>\n",
       "      <td>54.0</td>\n",
       "      <td>0.99700</td>\n",
       "      <td>3.26</td>\n",
       "      <td>0.65</td>\n",
       "      <td>9.8</td>\n",
       "      <td>5</td>\n",
       "    </tr>\n",
       "    <tr>\n",
       "      <th>3</th>\n",
       "      <td>11.2</td>\n",
       "      <td>0.280</td>\n",
       "      <td>0.56</td>\n",
       "      <td>1.9</td>\n",
       "      <td>0.075</td>\n",
       "      <td>17.0</td>\n",
       "      <td>60.0</td>\n",
       "      <td>0.99800</td>\n",
       "      <td>3.16</td>\n",
       "      <td>0.58</td>\n",
       "      <td>9.8</td>\n",
       "      <td>6</td>\n",
       "    </tr>\n",
       "    <tr>\n",
       "      <th>4</th>\n",
       "      <td>7.4</td>\n",
       "      <td>0.700</td>\n",
       "      <td>0.00</td>\n",
       "      <td>1.9</td>\n",
       "      <td>0.076</td>\n",
       "      <td>11.0</td>\n",
       "      <td>34.0</td>\n",
       "      <td>0.99780</td>\n",
       "      <td>3.51</td>\n",
       "      <td>0.56</td>\n",
       "      <td>9.4</td>\n",
       "      <td>5</td>\n",
       "    </tr>\n",
       "    <tr>\n",
       "      <th>...</th>\n",
       "      <td>...</td>\n",
       "      <td>...</td>\n",
       "      <td>...</td>\n",
       "      <td>...</td>\n",
       "      <td>...</td>\n",
       "      <td>...</td>\n",
       "      <td>...</td>\n",
       "      <td>...</td>\n",
       "      <td>...</td>\n",
       "      <td>...</td>\n",
       "      <td>...</td>\n",
       "      <td>...</td>\n",
       "    </tr>\n",
       "    <tr>\n",
       "      <th>1594</th>\n",
       "      <td>6.2</td>\n",
       "      <td>0.600</td>\n",
       "      <td>0.08</td>\n",
       "      <td>2.0</td>\n",
       "      <td>0.090</td>\n",
       "      <td>32.0</td>\n",
       "      <td>44.0</td>\n",
       "      <td>0.99490</td>\n",
       "      <td>3.45</td>\n",
       "      <td>0.58</td>\n",
       "      <td>10.5</td>\n",
       "      <td>5</td>\n",
       "    </tr>\n",
       "    <tr>\n",
       "      <th>1595</th>\n",
       "      <td>5.9</td>\n",
       "      <td>0.550</td>\n",
       "      <td>0.10</td>\n",
       "      <td>2.2</td>\n",
       "      <td>0.062</td>\n",
       "      <td>39.0</td>\n",
       "      <td>51.0</td>\n",
       "      <td>0.99512</td>\n",
       "      <td>3.52</td>\n",
       "      <td>0.76</td>\n",
       "      <td>11.2</td>\n",
       "      <td>6</td>\n",
       "    </tr>\n",
       "    <tr>\n",
       "      <th>1596</th>\n",
       "      <td>6.3</td>\n",
       "      <td>0.510</td>\n",
       "      <td>0.13</td>\n",
       "      <td>2.3</td>\n",
       "      <td>0.076</td>\n",
       "      <td>29.0</td>\n",
       "      <td>40.0</td>\n",
       "      <td>0.99574</td>\n",
       "      <td>3.42</td>\n",
       "      <td>0.75</td>\n",
       "      <td>11.0</td>\n",
       "      <td>6</td>\n",
       "    </tr>\n",
       "    <tr>\n",
       "      <th>1597</th>\n",
       "      <td>5.9</td>\n",
       "      <td>0.645</td>\n",
       "      <td>0.12</td>\n",
       "      <td>2.0</td>\n",
       "      <td>0.075</td>\n",
       "      <td>32.0</td>\n",
       "      <td>44.0</td>\n",
       "      <td>0.99547</td>\n",
       "      <td>3.57</td>\n",
       "      <td>0.71</td>\n",
       "      <td>10.2</td>\n",
       "      <td>5</td>\n",
       "    </tr>\n",
       "    <tr>\n",
       "      <th>1598</th>\n",
       "      <td>6.0</td>\n",
       "      <td>0.310</td>\n",
       "      <td>0.47</td>\n",
       "      <td>3.6</td>\n",
       "      <td>0.067</td>\n",
       "      <td>18.0</td>\n",
       "      <td>42.0</td>\n",
       "      <td>0.99549</td>\n",
       "      <td>3.39</td>\n",
       "      <td>0.66</td>\n",
       "      <td>11.0</td>\n",
       "      <td>6</td>\n",
       "    </tr>\n",
       "  </tbody>\n",
       "</table>\n",
       "<p>1599 rows × 12 columns</p>\n",
       "</div>"
      ],
      "text/plain": [
       "      fixed acidity  volatile acidity  citric acid  residual sugar  chlorides  \\\n",
       "0               7.4             0.700         0.00             1.9      0.076   \n",
       "1               7.8             0.880         0.00             2.6      0.098   \n",
       "2               7.8             0.760         0.04             2.3      0.092   \n",
       "3              11.2             0.280         0.56             1.9      0.075   \n",
       "4               7.4             0.700         0.00             1.9      0.076   \n",
       "...             ...               ...          ...             ...        ...   \n",
       "1594            6.2             0.600         0.08             2.0      0.090   \n",
       "1595            5.9             0.550         0.10             2.2      0.062   \n",
       "1596            6.3             0.510         0.13             2.3      0.076   \n",
       "1597            5.9             0.645         0.12             2.0      0.075   \n",
       "1598            6.0             0.310         0.47             3.6      0.067   \n",
       "\n",
       "      free sulfur dioxide  total sulfur dioxide  density    pH  sulphates  \\\n",
       "0                    11.0                  34.0  0.99780  3.51       0.56   \n",
       "1                    25.0                  67.0  0.99680  3.20       0.68   \n",
       "2                    15.0                  54.0  0.99700  3.26       0.65   \n",
       "3                    17.0                  60.0  0.99800  3.16       0.58   \n",
       "4                    11.0                  34.0  0.99780  3.51       0.56   \n",
       "...                   ...                   ...      ...   ...        ...   \n",
       "1594                 32.0                  44.0  0.99490  3.45       0.58   \n",
       "1595                 39.0                  51.0  0.99512  3.52       0.76   \n",
       "1596                 29.0                  40.0  0.99574  3.42       0.75   \n",
       "1597                 32.0                  44.0  0.99547  3.57       0.71   \n",
       "1598                 18.0                  42.0  0.99549  3.39       0.66   \n",
       "\n",
       "      alcohol  quality  \n",
       "0         9.4        5  \n",
       "1         9.8        5  \n",
       "2         9.8        5  \n",
       "3         9.8        6  \n",
       "4         9.4        5  \n",
       "...       ...      ...  \n",
       "1594     10.5        5  \n",
       "1595     11.2        6  \n",
       "1596     11.0        6  \n",
       "1597     10.2        5  \n",
       "1598     11.0        6  \n",
       "\n",
       "[1599 rows x 12 columns]"
      ]
     },
     "execution_count": 3,
     "metadata": {},
     "output_type": "execute_result"
    }
   ],
   "source": [
    "df"
   ]
  },
  {
   "cell_type": "code",
   "execution_count": 4,
   "id": "2d9e1fb7",
   "metadata": {},
   "outputs": [
    {
     "data": {
      "text/plain": [
       "Index(['fixed acidity', 'volatile acidity', 'citric acid', 'residual sugar',\n",
       "       'chlorides', 'free sulfur dioxide', 'total sulfur dioxide', 'density',\n",
       "       'pH', 'sulphates', 'alcohol', 'quality'],\n",
       "      dtype='object')"
      ]
     },
     "execution_count": 4,
     "metadata": {},
     "output_type": "execute_result"
    }
   ],
   "source": [
    "df.columns"
   ]
  },
  {
   "cell_type": "code",
   "execution_count": 5,
   "id": "7bb10e7f",
   "metadata": {},
   "outputs": [
    {
     "data": {
      "text/plain": [
       "(1599, 12)"
      ]
     },
     "execution_count": 5,
     "metadata": {},
     "output_type": "execute_result"
    }
   ],
   "source": [
    "df.shape"
   ]
  },
  {
   "cell_type": "code",
   "execution_count": 6,
   "id": "fcba6dad",
   "metadata": {},
   "outputs": [
    {
     "data": {
      "text/html": [
       "<div>\n",
       "<style scoped>\n",
       "    .dataframe tbody tr th:only-of-type {\n",
       "        vertical-align: middle;\n",
       "    }\n",
       "\n",
       "    .dataframe tbody tr th {\n",
       "        vertical-align: top;\n",
       "    }\n",
       "\n",
       "    .dataframe thead th {\n",
       "        text-align: right;\n",
       "    }\n",
       "</style>\n",
       "<table border=\"1\" class=\"dataframe\">\n",
       "  <thead>\n",
       "    <tr style=\"text-align: right;\">\n",
       "      <th></th>\n",
       "      <th>fixed acidity</th>\n",
       "      <th>volatile acidity</th>\n",
       "      <th>citric acid</th>\n",
       "      <th>residual sugar</th>\n",
       "      <th>chlorides</th>\n",
       "      <th>free sulfur dioxide</th>\n",
       "      <th>total sulfur dioxide</th>\n",
       "      <th>density</th>\n",
       "      <th>pH</th>\n",
       "      <th>sulphates</th>\n",
       "      <th>alcohol</th>\n",
       "      <th>quality</th>\n",
       "    </tr>\n",
       "  </thead>\n",
       "  <tbody>\n",
       "    <tr>\n",
       "      <th>count</th>\n",
       "      <td>1599.000000</td>\n",
       "      <td>1599.000000</td>\n",
       "      <td>1599.000000</td>\n",
       "      <td>1599.000000</td>\n",
       "      <td>1599.000000</td>\n",
       "      <td>1599.000000</td>\n",
       "      <td>1599.000000</td>\n",
       "      <td>1599.000000</td>\n",
       "      <td>1599.000000</td>\n",
       "      <td>1599.000000</td>\n",
       "      <td>1599.000000</td>\n",
       "      <td>1599.000000</td>\n",
       "    </tr>\n",
       "    <tr>\n",
       "      <th>mean</th>\n",
       "      <td>8.319637</td>\n",
       "      <td>0.527821</td>\n",
       "      <td>0.270976</td>\n",
       "      <td>2.538806</td>\n",
       "      <td>0.087467</td>\n",
       "      <td>15.874922</td>\n",
       "      <td>46.467792</td>\n",
       "      <td>0.996747</td>\n",
       "      <td>3.311113</td>\n",
       "      <td>0.658149</td>\n",
       "      <td>10.422983</td>\n",
       "      <td>5.636023</td>\n",
       "    </tr>\n",
       "    <tr>\n",
       "      <th>std</th>\n",
       "      <td>1.741096</td>\n",
       "      <td>0.179060</td>\n",
       "      <td>0.194801</td>\n",
       "      <td>1.409928</td>\n",
       "      <td>0.047065</td>\n",
       "      <td>10.460157</td>\n",
       "      <td>32.895324</td>\n",
       "      <td>0.001887</td>\n",
       "      <td>0.154386</td>\n",
       "      <td>0.169507</td>\n",
       "      <td>1.065668</td>\n",
       "      <td>0.807569</td>\n",
       "    </tr>\n",
       "    <tr>\n",
       "      <th>min</th>\n",
       "      <td>4.600000</td>\n",
       "      <td>0.120000</td>\n",
       "      <td>0.000000</td>\n",
       "      <td>0.900000</td>\n",
       "      <td>0.012000</td>\n",
       "      <td>1.000000</td>\n",
       "      <td>6.000000</td>\n",
       "      <td>0.990070</td>\n",
       "      <td>2.740000</td>\n",
       "      <td>0.330000</td>\n",
       "      <td>8.400000</td>\n",
       "      <td>3.000000</td>\n",
       "    </tr>\n",
       "    <tr>\n",
       "      <th>25%</th>\n",
       "      <td>7.100000</td>\n",
       "      <td>0.390000</td>\n",
       "      <td>0.090000</td>\n",
       "      <td>1.900000</td>\n",
       "      <td>0.070000</td>\n",
       "      <td>7.000000</td>\n",
       "      <td>22.000000</td>\n",
       "      <td>0.995600</td>\n",
       "      <td>3.210000</td>\n",
       "      <td>0.550000</td>\n",
       "      <td>9.500000</td>\n",
       "      <td>5.000000</td>\n",
       "    </tr>\n",
       "    <tr>\n",
       "      <th>50%</th>\n",
       "      <td>7.900000</td>\n",
       "      <td>0.520000</td>\n",
       "      <td>0.260000</td>\n",
       "      <td>2.200000</td>\n",
       "      <td>0.079000</td>\n",
       "      <td>14.000000</td>\n",
       "      <td>38.000000</td>\n",
       "      <td>0.996750</td>\n",
       "      <td>3.310000</td>\n",
       "      <td>0.620000</td>\n",
       "      <td>10.200000</td>\n",
       "      <td>6.000000</td>\n",
       "    </tr>\n",
       "    <tr>\n",
       "      <th>75%</th>\n",
       "      <td>9.200000</td>\n",
       "      <td>0.640000</td>\n",
       "      <td>0.420000</td>\n",
       "      <td>2.600000</td>\n",
       "      <td>0.090000</td>\n",
       "      <td>21.000000</td>\n",
       "      <td>62.000000</td>\n",
       "      <td>0.997835</td>\n",
       "      <td>3.400000</td>\n",
       "      <td>0.730000</td>\n",
       "      <td>11.100000</td>\n",
       "      <td>6.000000</td>\n",
       "    </tr>\n",
       "    <tr>\n",
       "      <th>max</th>\n",
       "      <td>15.900000</td>\n",
       "      <td>1.580000</td>\n",
       "      <td>1.000000</td>\n",
       "      <td>15.500000</td>\n",
       "      <td>0.611000</td>\n",
       "      <td>72.000000</td>\n",
       "      <td>289.000000</td>\n",
       "      <td>1.003690</td>\n",
       "      <td>4.010000</td>\n",
       "      <td>2.000000</td>\n",
       "      <td>14.900000</td>\n",
       "      <td>8.000000</td>\n",
       "    </tr>\n",
       "  </tbody>\n",
       "</table>\n",
       "</div>"
      ],
      "text/plain": [
       "       fixed acidity  volatile acidity  citric acid  residual sugar  \\\n",
       "count    1599.000000       1599.000000  1599.000000     1599.000000   \n",
       "mean        8.319637          0.527821     0.270976        2.538806   \n",
       "std         1.741096          0.179060     0.194801        1.409928   \n",
       "min         4.600000          0.120000     0.000000        0.900000   \n",
       "25%         7.100000          0.390000     0.090000        1.900000   \n",
       "50%         7.900000          0.520000     0.260000        2.200000   \n",
       "75%         9.200000          0.640000     0.420000        2.600000   \n",
       "max        15.900000          1.580000     1.000000       15.500000   \n",
       "\n",
       "         chlorides  free sulfur dioxide  total sulfur dioxide      density  \\\n",
       "count  1599.000000          1599.000000           1599.000000  1599.000000   \n",
       "mean      0.087467            15.874922             46.467792     0.996747   \n",
       "std       0.047065            10.460157             32.895324     0.001887   \n",
       "min       0.012000             1.000000              6.000000     0.990070   \n",
       "25%       0.070000             7.000000             22.000000     0.995600   \n",
       "50%       0.079000            14.000000             38.000000     0.996750   \n",
       "75%       0.090000            21.000000             62.000000     0.997835   \n",
       "max       0.611000            72.000000            289.000000     1.003690   \n",
       "\n",
       "                pH    sulphates      alcohol      quality  \n",
       "count  1599.000000  1599.000000  1599.000000  1599.000000  \n",
       "mean      3.311113     0.658149    10.422983     5.636023  \n",
       "std       0.154386     0.169507     1.065668     0.807569  \n",
       "min       2.740000     0.330000     8.400000     3.000000  \n",
       "25%       3.210000     0.550000     9.500000     5.000000  \n",
       "50%       3.310000     0.620000    10.200000     6.000000  \n",
       "75%       3.400000     0.730000    11.100000     6.000000  \n",
       "max       4.010000     2.000000    14.900000     8.000000  "
      ]
     },
     "execution_count": 6,
     "metadata": {},
     "output_type": "execute_result"
    }
   ],
   "source": [
    "#to check for the percentile,standarddeviation etc\n",
    "df.describe()"
   ]
  },
  {
   "cell_type": "code",
   "execution_count": 7,
   "id": "f4a2127a",
   "metadata": {},
   "outputs": [
    {
     "data": {
      "text/plain": [
       "fixed acidity           0\n",
       "volatile acidity        0\n",
       "citric acid             0\n",
       "residual sugar          0\n",
       "chlorides               0\n",
       "free sulfur dioxide     0\n",
       "total sulfur dioxide    0\n",
       "density                 0\n",
       "pH                      0\n",
       "sulphates               0\n",
       "alcohol                 0\n",
       "quality                 0\n",
       "dtype: int64"
      ]
     },
     "execution_count": 7,
     "metadata": {},
     "output_type": "execute_result"
    }
   ],
   "source": [
    "#to check for null values in the dataset\n",
    "df.isnull().sum()"
   ]
  },
  {
   "cell_type": "code",
   "execution_count": 8,
   "id": "79fe3ae0",
   "metadata": {},
   "outputs": [
    {
     "data": {
      "image/png": "[encoded data removed]",
      "text/plain": [
       "<Figure size 432x288 with 2 Axes>"
      ]
     },
     "metadata": {
      "needs_background": "light"
     },
     "output_type": "display_data"
    }
   ],
   "source": [
    "#using a heatmap to see the null values in the dataset\n",
    "sns.heatmap(df.isnull())\n",
    "plt.title(\"Null values\")\n",
    "plt.show()"
   ]
  },
  {
   "cell_type": "code",
   "execution_count": 9,
   "id": "fc592d6a",
   "metadata": {},
   "outputs": [
    {
     "data": {
      "image/png": "[encoded data removed]",
      "text/plain": [
       "<Figure size 432x288 with 1 Axes>"
      ]
     },
     "metadata": {
      "needs_background": "light"
     },
     "output_type": "display_data"
    }
   ],
   "source": [
    "#to check the relationship between one variable and another\n",
    "sns.scatterplot(x=\"fixed acidity\", y=\"quality\", data=df)\n",
    "plt.title('Scatterplot 1')\n",
    "plt.show()"
   ]
  },
  {
   "cell_type": "code",
   "execution_count": 10,
   "id": "883ad071",
   "metadata": {},
   "outputs": [
    {
     "data": {
      "image/png": "[encoded data removed]",
      "text/plain": [
       "<Figure size 432x288 with 1 Axes>"
      ]
     },
     "metadata": {
      "needs_background": "light"
     },
     "output_type": "display_data"
    }
   ],
   "source": [
    "sns.scatterplot(x=\"volatile acidity\", y=\"quality\", data=df)\n",
    "plt.title('Scatterplot 2')\n",
    "plt.show()"
   ]
  },
  {
   "cell_type": "code",
   "execution_count": 11,
   "id": "92479c73",
   "metadata": {},
   "outputs": [
    {
     "data": {
      "image/png": "[encoded data removed]",
      "text/plain": [
       "<Figure size 432x288 with 1 Axes>"
      ]
     },
     "metadata": {
      "needs_background": "light"
     },
     "output_type": "display_data"
    }
   ],
   "source": [
    "sns.scatterplot(x=\"citric acid\", y=\"quality\", data=df)\n",
    "plt.title('Scatterplot 3')\n",
    "plt.show()"
   ]
  },
  {
   "cell_type": "code",
   "execution_count": 12,
   "id": "2f49abee",
   "metadata": {},
   "outputs": [
    {
     "data": {
      "image/png": "[encoded data removed]",
      "text/plain": [
       "<Figure size 432x288 with 1 Axes>"
      ]
     },
     "metadata": {
      "needs_background": "light"
     },
     "output_type": "display_data"
    }
   ],
   "source": [
    "sns.scatterplot(x=\"residual sugar\", y=\"quality\", data=df)\n",
    "plt.title('Scatterplot 4')\n",
    "plt.show()"
   ]
  },
  {
   "cell_type": "code",
   "execution_count": 13,
   "id": "24d001d7",
   "metadata": {},
   "outputs": [
    {
     "data": {
      "image/png": "[encoded data removed]",
      "text/plain": [
       "<Figure size 432x288 with 1 Axes>"
      ]
     },
     "metadata": {
      "needs_background": "light"
     },
     "output_type": "display_data"
    }
   ],
   "source": [
    "sns.scatterplot(x=\"chlorides\", y=\"quality\", data=df)\n",
    "plt.title('Scatterplot 5')\n",
    "plt.show()"
   ]
  },
  {
   "cell_type": "code",
   "execution_count": 14,
   "id": "2039efdc",
   "metadata": {},
   "outputs": [
    {
     "data": {
      "image/png": "[encoded data removed]",
      "text/plain": [
       "<Figure size 432x288 with 1 Axes>"
      ]
     },
     "metadata": {
      "needs_background": "light"
     },
     "output_type": "display_data"
    }
   ],
   "source": [
    "sns.scatterplot(x=\"free sulfur dioxide\", y=\"quality\", data=df)\n",
    "plt.title('Scatterplot 6')\n",
    "plt.show()"
   ]
  },
  {
   "cell_type": "code",
   "execution_count": 15,
   "id": "1201d39b",
   "metadata": {},
   "outputs": [
    {
     "data": {
      "image/png": "[encoded data removed]",
      "text/plain": [
       "<Figure size 432x288 with 1 Axes>"
      ]
     },
     "metadata": {
      "needs_background": "light"
     },
     "output_type": "display_data"
    }
   ],
   "source": [
    "sns.scatterplot(x=\"total sulfur dioxide\", y=\"quality\", data=df)\n",
    "plt.title('Scatterplot 7')\n",
    "plt.show()"
   ]
  },
  {
   "cell_type": "code",
   "execution_count": 16,
   "id": "5d707569",
   "metadata": {},
   "outputs": [
    {
     "data": {
      "image/png": "[encoded data removed]",
      "text/plain": [
       "<Figure size 432x288 with 1 Axes>"
      ]
     },
     "metadata": {
      "needs_background": "light"
     },
     "output_type": "display_data"
    }
   ],
   "source": [
    "sns.scatterplot(x=\"density\", y=\"quality\", data=df)\n",
    "plt.title('Scatterplot 8')\n",
    "plt.show()"
   ]
  },
  {
   "cell_type": "code",
   "execution_count": 17,
   "id": "8403dee9",
   "metadata": {},
   "outputs": [
    {
     "data": {
      "image/png": "[encoded data removed]",
      "text/plain": [
       "<Figure size 432x288 with 1 Axes>"
      ]
     },
     "metadata": {
      "needs_background": "light"
     },
     "output_type": "display_data"
    }
   ],
   "source": [
    "sns.scatterplot(x=\"pH\", y=\"quality\", data=df)\n",
    "plt.title('Scatterplot 9')\n",
    "plt.show()"
   ]
  },
  {
   "cell_type": "code",
   "execution_count": 18,
   "id": "fb271003",
   "metadata": {},
   "outputs": [
    {
     "data": {
      "image/png": "[encoded data removed]",
      "text/plain": [
       "<Figure size 432x288 with 1 Axes>"
      ]
     },
     "metadata": {
      "needs_background": "light"
     },
     "output_type": "display_data"
    }
   ],
   "source": [
    "sns.scatterplot(x=\"sulphates\", y=\"quality\", data=df)\n",
    "plt.title('Scatterplot 10')\n",
    "plt.show()"
   ]
  },
  {
   "cell_type": "code",
   "execution_count": 19,
   "id": "0cee3b9f",
   "metadata": {},
   "outputs": [
    {
     "data": {
      "image/png": "[encoded data removed]",
      "text/plain": [
       "<Figure size 432x288 with 1 Axes>"
      ]
     },
     "metadata": {
      "needs_background": "light"
     },
     "output_type": "display_data"
    }
   ],
   "source": [
    "sns.scatterplot(x=\"alcohol\", y=\"quality\", data=df)\n",
    "plt.title('Scatterplot 11')\n",
    "plt.show()"
   ]
  },
  {
   "cell_type": "code",
   "execution_count": 20,
   "id": "fb2ed898",
   "metadata": {},
   "outputs": [],
   "source": [
    "#from the scatterplots,we can determine that the correlation between x and y is strong "
   ]
  },
  {
   "cell_type": "code",
   "execution_count": 21,
   "id": "654f1ce0",
   "metadata": {},
   "outputs": [
    {
     "data": {
      "text/html": [
       "<div>\n",
       "<style scoped>\n",
       "    .dataframe tbody tr th:only-of-type {\n",
       "        vertical-align: middle;\n",
       "    }\n",
       "\n",
       "    .dataframe tbody tr th {\n",
       "        vertical-align: top;\n",
       "    }\n",
       "\n",
       "    .dataframe thead th {\n",
       "        text-align: right;\n",
       "    }\n",
       "</style>\n",
       "<table border=\"1\" class=\"dataframe\">\n",
       "  <thead>\n",
       "    <tr style=\"text-align: right;\">\n",
       "      <th></th>\n",
       "      <th>fixed acidity</th>\n",
       "      <th>volatile acidity</th>\n",
       "      <th>citric acid</th>\n",
       "      <th>residual sugar</th>\n",
       "      <th>chlorides</th>\n",
       "      <th>free sulfur dioxide</th>\n",
       "      <th>total sulfur dioxide</th>\n",
       "      <th>density</th>\n",
       "      <th>pH</th>\n",
       "      <th>sulphates</th>\n",
       "      <th>alcohol</th>\n",
       "      <th>quality</th>\n",
       "    </tr>\n",
       "  </thead>\n",
       "  <tbody>\n",
       "    <tr>\n",
       "      <th>fixed acidity</th>\n",
       "      <td>1.000000</td>\n",
       "      <td>-0.256131</td>\n",
       "      <td>0.671703</td>\n",
       "      <td>0.114777</td>\n",
       "      <td>0.093705</td>\n",
       "      <td>-0.153794</td>\n",
       "      <td>-0.113181</td>\n",
       "      <td>0.668047</td>\n",
       "      <td>-0.682978</td>\n",
       "      <td>0.183006</td>\n",
       "      <td>-0.061668</td>\n",
       "      <td>0.124052</td>\n",
       "    </tr>\n",
       "    <tr>\n",
       "      <th>volatile acidity</th>\n",
       "      <td>-0.256131</td>\n",
       "      <td>1.000000</td>\n",
       "      <td>-0.552496</td>\n",
       "      <td>0.001918</td>\n",
       "      <td>0.061298</td>\n",
       "      <td>-0.010504</td>\n",
       "      <td>0.076470</td>\n",
       "      <td>0.022026</td>\n",
       "      <td>0.234937</td>\n",
       "      <td>-0.260987</td>\n",
       "      <td>-0.202288</td>\n",
       "      <td>-0.390558</td>\n",
       "    </tr>\n",
       "    <tr>\n",
       "      <th>citric acid</th>\n",
       "      <td>0.671703</td>\n",
       "      <td>-0.552496</td>\n",
       "      <td>1.000000</td>\n",
       "      <td>0.143577</td>\n",
       "      <td>0.203823</td>\n",
       "      <td>-0.060978</td>\n",
       "      <td>0.035533</td>\n",
       "      <td>0.364947</td>\n",
       "      <td>-0.541904</td>\n",
       "      <td>0.312770</td>\n",
       "      <td>0.109903</td>\n",
       "      <td>0.226373</td>\n",
       "    </tr>\n",
       "    <tr>\n",
       "      <th>residual sugar</th>\n",
       "      <td>0.114777</td>\n",
       "      <td>0.001918</td>\n",
       "      <td>0.143577</td>\n",
       "      <td>1.000000</td>\n",
       "      <td>0.055610</td>\n",
       "      <td>0.187049</td>\n",
       "      <td>0.203028</td>\n",
       "      <td>0.355283</td>\n",
       "      <td>-0.085652</td>\n",
       "      <td>0.005527</td>\n",
       "      <td>0.042075</td>\n",
       "      <td>0.013732</td>\n",
       "    </tr>\n",
       "    <tr>\n",
       "      <th>chlorides</th>\n",
       "      <td>0.093705</td>\n",
       "      <td>0.061298</td>\n",
       "      <td>0.203823</td>\n",
       "      <td>0.055610</td>\n",
       "      <td>1.000000</td>\n",
       "      <td>0.005562</td>\n",
       "      <td>0.047400</td>\n",
       "      <td>0.200632</td>\n",
       "      <td>-0.265026</td>\n",
       "      <td>0.371260</td>\n",
       "      <td>-0.221141</td>\n",
       "      <td>-0.128907</td>\n",
       "    </tr>\n",
       "    <tr>\n",
       "      <th>free sulfur dioxide</th>\n",
       "      <td>-0.153794</td>\n",
       "      <td>-0.010504</td>\n",
       "      <td>-0.060978</td>\n",
       "      <td>0.187049</td>\n",
       "      <td>0.005562</td>\n",
       "      <td>1.000000</td>\n",
       "      <td>0.667666</td>\n",
       "      <td>-0.021946</td>\n",
       "      <td>0.070377</td>\n",
       "      <td>0.051658</td>\n",
       "      <td>-0.069408</td>\n",
       "      <td>-0.050656</td>\n",
       "    </tr>\n",
       "    <tr>\n",
       "      <th>total sulfur dioxide</th>\n",
       "      <td>-0.113181</td>\n",
       "      <td>0.076470</td>\n",
       "      <td>0.035533</td>\n",
       "      <td>0.203028</td>\n",
       "      <td>0.047400</td>\n",
       "      <td>0.667666</td>\n",
       "      <td>1.000000</td>\n",
       "      <td>0.071269</td>\n",
       "      <td>-0.066495</td>\n",
       "      <td>0.042947</td>\n",
       "      <td>-0.205654</td>\n",
       "      <td>-0.185100</td>\n",
       "    </tr>\n",
       "    <tr>\n",
       "      <th>density</th>\n",
       "      <td>0.668047</td>\n",
       "      <td>0.022026</td>\n",
       "      <td>0.364947</td>\n",
       "      <td>0.355283</td>\n",
       "      <td>0.200632</td>\n",
       "      <td>-0.021946</td>\n",
       "      <td>0.071269</td>\n",
       "      <td>1.000000</td>\n",
       "      <td>-0.341699</td>\n",
       "      <td>0.148506</td>\n",
       "      <td>-0.496180</td>\n",
       "      <td>-0.174919</td>\n",
       "    </tr>\n",
       "    <tr>\n",
       "      <th>pH</th>\n",
       "      <td>-0.682978</td>\n",
       "      <td>0.234937</td>\n",
       "      <td>-0.541904</td>\n",
       "      <td>-0.085652</td>\n",
       "      <td>-0.265026</td>\n",
       "      <td>0.070377</td>\n",
       "      <td>-0.066495</td>\n",
       "      <td>-0.341699</td>\n",
       "      <td>1.000000</td>\n",
       "      <td>-0.196648</td>\n",
       "      <td>0.205633</td>\n",
       "      <td>-0.057731</td>\n",
       "    </tr>\n",
       "    <tr>\n",
       "      <th>sulphates</th>\n",
       "      <td>0.183006</td>\n",
       "      <td>-0.260987</td>\n",
       "      <td>0.312770</td>\n",
       "      <td>0.005527</td>\n",
       "      <td>0.371260</td>\n",
       "      <td>0.051658</td>\n",
       "      <td>0.042947</td>\n",
       "      <td>0.148506</td>\n",
       "      <td>-0.196648</td>\n",
       "      <td>1.000000</td>\n",
       "      <td>0.093595</td>\n",
       "      <td>0.251397</td>\n",
       "    </tr>\n",
       "    <tr>\n",
       "      <th>alcohol</th>\n",
       "      <td>-0.061668</td>\n",
       "      <td>-0.202288</td>\n",
       "      <td>0.109903</td>\n",
       "      <td>0.042075</td>\n",
       "      <td>-0.221141</td>\n",
       "      <td>-0.069408</td>\n",
       "      <td>-0.205654</td>\n",
       "      <td>-0.496180</td>\n",
       "      <td>0.205633</td>\n",
       "      <td>0.093595</td>\n",
       "      <td>1.000000</td>\n",
       "      <td>0.476166</td>\n",
       "    </tr>\n",
       "    <tr>\n",
       "      <th>quality</th>\n",
       "      <td>0.124052</td>\n",
       "      <td>-0.390558</td>\n",
       "      <td>0.226373</td>\n",
       "      <td>0.013732</td>\n",
       "      <td>-0.128907</td>\n",
       "      <td>-0.050656</td>\n",
       "      <td>-0.185100</td>\n",
       "      <td>-0.174919</td>\n",
       "      <td>-0.057731</td>\n",
       "      <td>0.251397</td>\n",
       "      <td>0.476166</td>\n",
       "      <td>1.000000</td>\n",
       "    </tr>\n",
       "  </tbody>\n",
       "</table>\n",
       "</div>"
      ],
      "text/plain": [
       "                      fixed acidity  volatile acidity  citric acid  \\\n",
       "fixed acidity              1.000000         -0.256131     0.671703   \n",
       "volatile acidity          -0.256131          1.000000    -0.552496   \n",
       "citric acid                0.671703         -0.552496     1.000000   \n",
       "residual sugar             0.114777          0.001918     0.143577   \n",
       "chlorides                  0.093705          0.061298     0.203823   \n",
       "free sulfur dioxide       -0.153794         -0.010504    -0.060978   \n",
       "total sulfur dioxide      -0.113181          0.076470     0.035533   \n",
       "density                    0.668047          0.022026     0.364947   \n",
       "pH                        -0.682978          0.234937    -0.541904   \n",
       "sulphates                  0.183006         -0.260987     0.312770   \n",
       "alcohol                   -0.061668         -0.202288     0.109903   \n",
       "quality                    0.124052         -0.390558     0.226373   \n",
       "\n",
       "                      residual sugar  chlorides  free sulfur dioxide  \\\n",
       "fixed acidity               0.114777   0.093705            -0.153794   \n",
       "volatile acidity            0.001918   0.061298            -0.010504   \n",
       "citric acid                 0.143577   0.203823            -0.060978   \n",
       "residual sugar              1.000000   0.055610             0.187049   \n",
       "chlorides                   0.055610   1.000000             0.005562   \n",
       "free sulfur dioxide         0.187049   0.005562             1.000000   \n",
       "total sulfur dioxide        0.203028   0.047400             0.667666   \n",
       "density                     0.355283   0.200632            -0.021946   \n",
       "pH                         -0.085652  -0.265026             0.070377   \n",
       "sulphates                   0.005527   0.371260             0.051658   \n",
       "alcohol                     0.042075  -0.221141            -0.069408   \n",
       "quality                     0.013732  -0.128907            -0.050656   \n",
       "\n",
       "                      total sulfur dioxide   density        pH  sulphates  \\\n",
       "fixed acidity                    -0.113181  0.668047 -0.682978   0.183006   \n",
       "volatile acidity                  0.076470  0.022026  0.234937  -0.260987   \n",
       "citric acid                       0.035533  0.364947 -0.541904   0.312770   \n",
       "residual sugar                    0.203028  0.355283 -0.085652   0.005527   \n",
       "chlorides                         0.047400  0.200632 -0.265026   0.371260   \n",
       "free sulfur dioxide               0.667666 -0.021946  0.070377   0.051658   \n",
       "total sulfur dioxide              1.000000  0.071269 -0.066495   0.042947   \n",
       "density                           0.071269  1.000000 -0.341699   0.148506   \n",
       "pH                               -0.066495 -0.341699  1.000000  -0.196648   \n",
       "sulphates                         0.042947  0.148506 -0.196648   1.000000   \n",
       "alcohol                          -0.205654 -0.496180  0.205633   0.093595   \n",
       "quality                          -0.185100 -0.174919 -0.057731   0.251397   \n",
       "\n",
       "                       alcohol   quality  \n",
       "fixed acidity        -0.061668  0.124052  \n",
       "volatile acidity     -0.202288 -0.390558  \n",
       "citric acid           0.109903  0.226373  \n",
       "residual sugar        0.042075  0.013732  \n",
       "chlorides            -0.221141 -0.128907  \n",
       "free sulfur dioxide  -0.069408 -0.050656  \n",
       "total sulfur dioxide -0.205654 -0.185100  \n",
       "density              -0.496180 -0.174919  \n",
       "pH                    0.205633 -0.057731  \n",
       "sulphates             0.093595  0.251397  \n",
       "alcohol               1.000000  0.476166  \n",
       "quality               0.476166  1.000000  "
      ]
     },
     "execution_count": 21,
     "metadata": {},
     "output_type": "execute_result"
    }
   ],
   "source": [
    "#to check for the correlation between teh variables \n",
    "df.corr()"
   ]
  },
  {
   "cell_type": "code",
   "execution_count": 22,
   "id": "af642378",
   "metadata": {},
   "outputs": [
    {
     "data": {
      "text/plain": [
       "volatile acidity       -0.390558\n",
       "total sulfur dioxide   -0.185100\n",
       "density                -0.174919\n",
       "chlorides              -0.128907\n",
       "pH                     -0.057731\n",
       "free sulfur dioxide    -0.050656\n",
       "residual sugar          0.013732\n",
       "fixed acidity           0.124052\n",
       "citric acid             0.226373\n",
       "sulphates               0.251397\n",
       "alcohol                 0.476166\n",
       "quality                 1.000000\n",
       "Name: quality, dtype: float64"
      ]
     },
     "execution_count": 22,
     "metadata": {},
     "output_type": "execute_result"
    }
   ],
   "source": [
    "df.corr()['quality'].sort_values()"
   ]
  },
  {
   "cell_type": "code",
   "execution_count": 23,
   "id": "e8b3f7b3",
   "metadata": {},
   "outputs": [
    {
     "data": {
      "image/png": "[encoded data removed]",
      "text/plain": [
       "<Figure size 432x288 with 2 Axes>"
      ]
     },
     "metadata": {
      "needs_background": "light"
     },
     "output_type": "display_data"
    }
   ],
   "source": [
    "#using heatmap to check for the correlation \n",
    "sns.heatmap(df.corr())\n",
    "plt.title('correlation heatmap')\n",
    "plt.show()"
   ]
  },
  {
   "cell_type": "code",
   "execution_count": 24,
   "id": "f7a62869",
   "metadata": {},
   "outputs": [
    {
     "data": {
      "image/png": "[encoded data removed]",
      "text/plain": [
       "<Figure size 1440x576 with 2 Axes>"
      ]
     },
     "metadata": {
      "needs_background": "light"
     },
     "output_type": "display_data"
    }
   ],
   "source": [
    "#to see the correlation data in th heatmap \n",
    "plt.figure(figsize=(20,8))\n",
    "sns.heatmap(df.corr(),annot=True,linewidth=1,linecolor=\"white\",fmt=\".2f\")\n",
    "plt.title(\"Correlation Map \")\n",
    "plt.show()"
   ]
  },
  {
   "cell_type": "markdown",
   "id": "41df48e1",
   "metadata": {},
   "source": [
    "#describe the corelation#\n",
    "some of the variables have a negative correlation while some of the variables have a positive correlation \n",
    "fixed acidity has a 12% correlation which is a good bond\n",
    "volatile acidity has a 39% correlation which is a good bond\n",
    "citric acid has a 23% correlation which is a good bond\n",
    "residual sugar has a 1% correlation which is a weak bond\n",
    "chlorides has a 13% correlation which is a good bond\n",
    "free total sulfur dioxide has a 5% correlation which is a weak bond\n",
    "total sulfur dioxide has a 19% correlation which is a good bond\n",
    "density has a 17% correlation which is a good bond\n",
    "pH has a 6% correlation which is a weak bond\n",
    "sulphates has a 25% correlation which is a good bond\n",
    "alcohol has a 48% correlation which is a strong bond\n",
    "\n",
    "max correlation = alcohol\n",
    "min correlation = residual sugar"
   ]
  },
  {
   "cell_type": "code",
   "execution_count": 25,
   "id": "d06453de",
   "metadata": {},
   "outputs": [
    {
     "data": {
      "text/html": [
       "<div>\n",
       "<style scoped>\n",
       "    .dataframe tbody tr th:only-of-type {\n",
       "        vertical-align: middle;\n",
       "    }\n",
       "\n",
       "    .dataframe tbody tr th {\n",
       "        vertical-align: top;\n",
       "    }\n",
       "\n",
       "    .dataframe thead th {\n",
       "        text-align: right;\n",
       "    }\n",
       "</style>\n",
       "<table border=\"1\" class=\"dataframe\">\n",
       "  <thead>\n",
       "    <tr style=\"text-align: right;\">\n",
       "      <th></th>\n",
       "      <th>fixed acidity</th>\n",
       "      <th>volatile acidity</th>\n",
       "      <th>citric acid</th>\n",
       "      <th>residual sugar</th>\n",
       "      <th>chlorides</th>\n",
       "      <th>free sulfur dioxide</th>\n",
       "      <th>total sulfur dioxide</th>\n",
       "      <th>density</th>\n",
       "      <th>pH</th>\n",
       "      <th>sulphates</th>\n",
       "      <th>alcohol</th>\n",
       "      <th>quality</th>\n",
       "    </tr>\n",
       "  </thead>\n",
       "  <tbody>\n",
       "    <tr>\n",
       "      <th>count</th>\n",
       "      <td>1599.000000</td>\n",
       "      <td>1599.000000</td>\n",
       "      <td>1599.000000</td>\n",
       "      <td>1599.000000</td>\n",
       "      <td>1599.000000</td>\n",
       "      <td>1599.000000</td>\n",
       "      <td>1599.000000</td>\n",
       "      <td>1599.000000</td>\n",
       "      <td>1599.000000</td>\n",
       "      <td>1599.000000</td>\n",
       "      <td>1599.000000</td>\n",
       "      <td>1599.000000</td>\n",
       "    </tr>\n",
       "    <tr>\n",
       "      <th>mean</th>\n",
       "      <td>8.319637</td>\n",
       "      <td>0.527821</td>\n",
       "      <td>0.270976</td>\n",
       "      <td>2.538806</td>\n",
       "      <td>0.087467</td>\n",
       "      <td>15.874922</td>\n",
       "      <td>46.467792</td>\n",
       "      <td>0.996747</td>\n",
       "      <td>3.311113</td>\n",
       "      <td>0.658149</td>\n",
       "      <td>10.422983</td>\n",
       "      <td>5.636023</td>\n",
       "    </tr>\n",
       "    <tr>\n",
       "      <th>std</th>\n",
       "      <td>1.741096</td>\n",
       "      <td>0.179060</td>\n",
       "      <td>0.194801</td>\n",
       "      <td>1.409928</td>\n",
       "      <td>0.047065</td>\n",
       "      <td>10.460157</td>\n",
       "      <td>32.895324</td>\n",
       "      <td>0.001887</td>\n",
       "      <td>0.154386</td>\n",
       "      <td>0.169507</td>\n",
       "      <td>1.065668</td>\n",
       "      <td>0.807569</td>\n",
       "    </tr>\n",
       "    <tr>\n",
       "      <th>min</th>\n",
       "      <td>4.600000</td>\n",
       "      <td>0.120000</td>\n",
       "      <td>0.000000</td>\n",
       "      <td>0.900000</td>\n",
       "      <td>0.012000</td>\n",
       "      <td>1.000000</td>\n",
       "      <td>6.000000</td>\n",
       "      <td>0.990070</td>\n",
       "      <td>2.740000</td>\n",
       "      <td>0.330000</td>\n",
       "      <td>8.400000</td>\n",
       "      <td>3.000000</td>\n",
       "    </tr>\n",
       "    <tr>\n",
       "      <th>25%</th>\n",
       "      <td>7.100000</td>\n",
       "      <td>0.390000</td>\n",
       "      <td>0.090000</td>\n",
       "      <td>1.900000</td>\n",
       "      <td>0.070000</td>\n",
       "      <td>7.000000</td>\n",
       "      <td>22.000000</td>\n",
       "      <td>0.995600</td>\n",
       "      <td>3.210000</td>\n",
       "      <td>0.550000</td>\n",
       "      <td>9.500000</td>\n",
       "      <td>5.000000</td>\n",
       "    </tr>\n",
       "    <tr>\n",
       "      <th>50%</th>\n",
       "      <td>7.900000</td>\n",
       "      <td>0.520000</td>\n",
       "      <td>0.260000</td>\n",
       "      <td>2.200000</td>\n",
       "      <td>0.079000</td>\n",
       "      <td>14.000000</td>\n",
       "      <td>38.000000</td>\n",
       "      <td>0.996750</td>\n",
       "      <td>3.310000</td>\n",
       "      <td>0.620000</td>\n",
       "      <td>10.200000</td>\n",
       "      <td>6.000000</td>\n",
       "    </tr>\n",
       "    <tr>\n",
       "      <th>75%</th>\n",
       "      <td>9.200000</td>\n",
       "      <td>0.640000</td>\n",
       "      <td>0.420000</td>\n",
       "      <td>2.600000</td>\n",
       "      <td>0.090000</td>\n",
       "      <td>21.000000</td>\n",
       "      <td>62.000000</td>\n",
       "      <td>0.997835</td>\n",
       "      <td>3.400000</td>\n",
       "      <td>0.730000</td>\n",
       "      <td>11.100000</td>\n",
       "      <td>6.000000</td>\n",
       "    </tr>\n",
       "    <tr>\n",
       "      <th>max</th>\n",
       "      <td>15.900000</td>\n",
       "      <td>1.580000</td>\n",
       "      <td>1.000000</td>\n",
       "      <td>15.500000</td>\n",
       "      <td>0.611000</td>\n",
       "      <td>72.000000</td>\n",
       "      <td>289.000000</td>\n",
       "      <td>1.003690</td>\n",
       "      <td>4.010000</td>\n",
       "      <td>2.000000</td>\n",
       "      <td>14.900000</td>\n",
       "      <td>8.000000</td>\n",
       "    </tr>\n",
       "  </tbody>\n",
       "</table>\n",
       "</div>"
      ],
      "text/plain": [
       "       fixed acidity  volatile acidity  citric acid  residual sugar  \\\n",
       "count    1599.000000       1599.000000  1599.000000     1599.000000   \n",
       "mean        8.319637          0.527821     0.270976        2.538806   \n",
       "std         1.741096          0.179060     0.194801        1.409928   \n",
       "min         4.600000          0.120000     0.000000        0.900000   \n",
       "25%         7.100000          0.390000     0.090000        1.900000   \n",
       "50%         7.900000          0.520000     0.260000        2.200000   \n",
       "75%         9.200000          0.640000     0.420000        2.600000   \n",
       "max        15.900000          1.580000     1.000000       15.500000   \n",
       "\n",
       "         chlorides  free sulfur dioxide  total sulfur dioxide      density  \\\n",
       "count  1599.000000          1599.000000           1599.000000  1599.000000   \n",
       "mean      0.087467            15.874922             46.467792     0.996747   \n",
       "std       0.047065            10.460157             32.895324     0.001887   \n",
       "min       0.012000             1.000000              6.000000     0.990070   \n",
       "25%       0.070000             7.000000             22.000000     0.995600   \n",
       "50%       0.079000            14.000000             38.000000     0.996750   \n",
       "75%       0.090000            21.000000             62.000000     0.997835   \n",
       "max       0.611000            72.000000            289.000000     1.003690   \n",
       "\n",
       "                pH    sulphates      alcohol      quality  \n",
       "count  1599.000000  1599.000000  1599.000000  1599.000000  \n",
       "mean      3.311113     0.658149    10.422983     5.636023  \n",
       "std       0.154386     0.169507     1.065668     0.807569  \n",
       "min       2.740000     0.330000     8.400000     3.000000  \n",
       "25%       3.210000     0.550000     9.500000     5.000000  \n",
       "50%       3.310000     0.620000    10.200000     6.000000  \n",
       "75%       3.400000     0.730000    11.100000     6.000000  \n",
       "max       4.010000     2.000000    14.900000     8.000000  "
      ]
     },
     "execution_count": 25,
     "metadata": {},
     "output_type": "execute_result"
    }
   ],
   "source": [
    "#describe the data base\n",
    "df.describe()"
   ]
  },
  {
   "cell_type": "code",
   "execution_count": 26,
   "id": "e4f3f09f",
   "metadata": {},
   "outputs": [
    {
     "data": {
      "image/png": "[encoded data removed]",
      "text/plain": [
       "<Figure size 1080x1080 with 2 Axes>"
      ]
     },
     "metadata": {
      "needs_background": "light"
     },
     "output_type": "display_data"
    }
   ],
   "source": [
    "# a summary of the variables\n",
    "plt.figure(figsize = (15,15))\n",
    "sns.heatmap(round(df.describe()[1:].transpose(),2),linewidth=1.5,annot=True,fmt='f')\n",
    "plt.xticks(fontsize=18)\n",
    "plt.yticks(fontsize=12)\n",
    "plt.title('Summary of Variables')\n",
    "plt.show()"
   ]
  },
  {
   "cell_type": "code",
   "execution_count": 27,
   "id": "2529820d",
   "metadata": {},
   "outputs": [
    {
     "name": "stdout",
     "output_type": "stream",
     "text": [
      "<class 'pandas.core.frame.DataFrame'>\n",
      "RangeIndex: 1599 entries, 0 to 1598\n",
      "Data columns (total 12 columns):\n",
      " #   Column                Non-Null Count  Dtype  \n",
      "---  ------                --------------  -----  \n",
      " 0   fixed acidity         1599 non-null   float64\n",
      " 1   volatile acidity      1599 non-null   float64\n",
      " 2   citric acid           1599 non-null   float64\n",
      " 3   residual sugar        1599 non-null   float64\n",
      " 4   chlorides             1599 non-null   float64\n",
      " 5   free sulfur dioxide   1599 non-null   float64\n",
      " 6   total sulfur dioxide  1599 non-null   float64\n",
      " 7   density               1599 non-null   float64\n",
      " 8   pH                    1599 non-null   float64\n",
      " 9   sulphates             1599 non-null   float64\n",
      " 10  alcohol               1599 non-null   float64\n",
      " 11  quality               1599 non-null   int64  \n",
      "dtypes: float64(11), int64(1)\n",
      "memory usage: 150.0 KB\n"
     ]
    }
   ],
   "source": [
    "#to check the number of nulls, the datatype etc.\n",
    "df.info()"
   ]
  },
  {
   "cell_type": "markdown",
   "id": "78faf055",
   "metadata": {},
   "source": [
    "#To write out the min,max,std and mean of the variabes. this will make data cleaning easier\n",
    "Fixed acidity:\n",
    "mean=8.319637\n",
    "sd=1.741096\n",
    "min_val=4.600000\n",
    "max_val=15.900000\n",
    "\n",
    "Volatile acidity:\n",
    "mean=0.527821\n",
    "sd=0.179060\n",
    "min_val=0.120000\n",
    "max_val=1.580000\n",
    "\n",
    "Citric acid:\n",
    "mean=0.270976\n",
    "sd=0.194801\n",
    "min_val=0.000000\n",
    "max_val=1.000000\n",
    "\n",
    "Residual sugar:\n",
    "mean=2.538806\n",
    "sd=1.409928\n",
    "min_val=0.900000\n",
    "max_val=15.500000\n",
    "\n",
    "Chlorides:\n",
    "mean=0.087467\n",
    "sd=0.047065\n",
    "min_val=0.012000\n",
    "max_val=0.611000\n",
    "\n",
    "Free sulfur dioxide:\n",
    "mean=15.874922\n",
    "sd=10.460157\n",
    "min_val=1.000000\n",
    "max_val=72.000000\n",
    "\n",
    "Total sulfur dioxide:\n",
    "mean=46.467792\n",
    "sd=32.895324\n",
    "min_val=6.000000\n",
    "max_val=289.000000\n",
    "\n",
    "Density:\n",
    "mean=0.996747\n",
    "sd=0.001887\n",
    "min_val=0.990070\n",
    "max_val=1.003690\n",
    "\n",
    "pH:\n",
    "mean=3.311113\n",
    "sd=0.154386\n",
    "min_val=2.740000\n",
    "max_val=4.010000\n",
    "\n",
    "Sulphates:\n",
    "mean=0.658149\n",
    "sd=0.169507\n",
    "min_val=0.330000\n",
    "max_val=2.000000\n",
    "\n",
    "Alcohol:\n",
    "mean=10.422983\n",
    "sd=1.065668\n",
    "min_val=8.400000\n",
    "max_val=14.900000\n",
    "\n",
    "#From this explanation of data, we can easily see the min and max of the variables and we can easily clean the data\n",
    "#of irrelevant varaibles, before this, we need to check for outliers"
   ]
  },
  {
   "cell_type": "code",
   "execution_count": 28,
   "id": "b304b4ba",
   "metadata": {},
   "outputs": [],
   "source": [
    "#checking for outliers\n",
    "import warnings \n",
    "warnings.filterwarnings('ignore')"
   ]
  },
  {
   "cell_type": "code",
   "execution_count": 29,
   "id": "09b94722",
   "metadata": {},
   "outputs": [
    {
     "data": {
      "image/png": "[encoded data removed]",
      "text/plain": [
       "<Figure size 1728x5184 with 12 Axes>"
      ]
     },
     "metadata": {
      "needs_background": "light"
     },
     "output_type": "display_data"
    }
   ],
   "source": [
    "#checking for outliers \n",
    "collist = df.columns.values\n",
    "ncol = 24\n",
    "nrows = 12\n",
    "plt.figure(figsize=(ncol,3*ncol))\n",
    "for i in range(0,len(collist)):\n",
    "    plt.subplot(nrows,ncol,i+1)\n",
    "    sns.boxplot(df[collist[i]],color='yellow',orient='v')\n",
    "    plt.tight_layout()"
   ]
  },
  {
   "cell_type": "code",
   "execution_count": 30,
   "id": "c9ebba5a",
   "metadata": {},
   "outputs": [
    {
     "data": {
      "text/plain": [
       "fixed acidity           0.982751\n",
       "volatile acidity        0.671593\n",
       "citric acid             0.318337\n",
       "residual sugar          4.540655\n",
       "chlorides               5.680347\n",
       "free sulfur dioxide     1.250567\n",
       "total sulfur dioxide    1.515531\n",
       "density                 0.071288\n",
       "pH                      0.193683\n",
       "sulphates               2.428672\n",
       "alcohol                 0.860829\n",
       "quality                 0.217802\n",
       "dtype: float64"
      ]
     },
     "execution_count": 30,
     "metadata": {},
     "output_type": "execute_result"
    }
   ],
   "source": [
    "#checking for skewness \n",
    "df.skew()"
   ]
  },
  {
   "cell_type": "code",
   "execution_count": 31,
   "id": "4fc8b1ec",
   "metadata": {},
   "outputs": [
    {
     "data": {
      "text/plain": [
       "<seaborn.axisgrid.FacetGrid at 0x206a51d9640>"
      ]
     },
     "execution_count": 31,
     "metadata": {},
     "output_type": "execute_result"
    },
    {
     "data": {
      "image/png": "[encoded data removed]",
      "text/plain": [
       "<Figure size 360x360 with 1 Axes>"
      ]
     },
     "metadata": {
      "needs_background": "light"
     },
     "output_type": "display_data"
    }
   ],
   "source": [
    "#skewness threshold is +/-0.55\n",
    "#normal distribution curve \n",
    "sns.displot(df[\"fixed acidity\"])"
   ]
  },
  {
   "cell_type": "code",
   "execution_count": 32,
   "id": "09d53e78",
   "metadata": {},
   "outputs": [
    {
     "data": {
      "text/plain": [
       "<seaborn.axisgrid.FacetGrid at 0x206a7ac9d90>"
      ]
     },
     "execution_count": 32,
     "metadata": {},
     "output_type": "execute_result"
    },
    {
     "data": {
      "image/png": "[encoded data removed]",
      "text/plain": [
       "<Figure size 360x360 with 1 Axes>"
      ]
     },
     "metadata": {
      "needs_background": "light"
     },
     "output_type": "display_data"
    }
   ],
   "source": [
    "sns.displot(df[\"volatile acidity\"])"
   ]
  },
  {
   "cell_type": "code",
   "execution_count": 33,
   "id": "0d406988",
   "metadata": {},
   "outputs": [
    {
     "data": {
      "text/plain": [
       "<seaborn.axisgrid.FacetGrid at 0x206a58efcd0>"
      ]
     },
     "execution_count": 33,
     "metadata": {},
     "output_type": "execute_result"
    },
    {
     "data": {
      "image/png": "[encoded data removed]",
      "text/plain": [
       "<Figure size 360x360 with 1 Axes>"
      ]
     },
     "metadata": {
      "needs_background": "light"
     },
     "output_type": "display_data"
    }
   ],
   "source": [
    "sns.displot(df[\"citric acid\"])"
   ]
  },
  {
   "cell_type": "code",
   "execution_count": 34,
   "id": "06b9c31f",
   "metadata": {},
   "outputs": [
    {
     "data": {
      "text/plain": [
       "<seaborn.axisgrid.FacetGrid at 0x206a51f45b0>"
      ]
     },
     "execution_count": 34,
     "metadata": {},
     "output_type": "execute_result"
    },
    {
     "data": {
      "image/png": "[encoded data removed]",
      "text/plain": [
       "<Figure size 360x360 with 1 Axes>"
      ]
     },
     "metadata": {
      "needs_background": "light"
     },
     "output_type": "display_data"
    }
   ],
   "source": [
    "sns.displot(df[\"residual sugar\"])"
   ]
  },
  {
   "cell_type": "code",
   "execution_count": 35,
   "id": "1e52ad3e",
   "metadata": {},
   "outputs": [
    {
     "data": {
      "text/plain": [
       "<seaborn.axisgrid.FacetGrid at 0x206a3e88e20>"
      ]
     },
     "execution_count": 35,
     "metadata": {},
     "output_type": "execute_result"
    },
    {
     "data": {
      "image/png": "[encoded data removed]",
      "text/plain": [
       "<Figure size 360x360 with 1 Axes>"
      ]
     },
     "metadata": {
      "needs_background": "light"
     },
     "output_type": "display_data"
    }
   ],
   "source": [
    "sns.displot(df[\"chlorides\"])"
   ]
  },
  {
   "cell_type": "code",
   "execution_count": 36,
   "id": "2b1bbb1e",
   "metadata": {},
   "outputs": [
    {
     "data": {
      "text/plain": [
       "<seaborn.axisgrid.FacetGrid at 0x206a3f11b50>"
      ]
     },
     "execution_count": 36,
     "metadata": {},
     "output_type": "execute_result"
    },
    {
     "data": {
      "image/png": "[encoded data removed]",
      "text/plain": [
       "<Figure size 360x360 with 1 Axes>"
      ]
     },
     "metadata": {
      "needs_background": "light"
     },
     "output_type": "display_data"
    }
   ],
   "source": [
    "sns.displot(df[\"free sulfur dioxide\"])"
   ]
  },
  {
   "cell_type": "code",
   "execution_count": 37,
   "id": "7b4dd08a",
   "metadata": {},
   "outputs": [
    {
     "data": {
      "text/plain": [
       "<seaborn.axisgrid.FacetGrid at 0x206a3e81d90>"
      ]
     },
     "execution_count": 37,
     "metadata": {},
     "output_type": "execute_result"
    },
    {
     "data": {
      "image/png": "[encoded data removed]",
      "text/plain": [
       "<Figure size 360x360 with 1 Axes>"
      ]
     },
     "metadata": {
      "needs_background": "light"
     },
     "output_type": "display_data"
    }
   ],
   "source": [
    "sns.displot(df[\"total sulfur dioxide\"])"
   ]
  },
  {
   "cell_type": "code",
   "execution_count": 38,
   "id": "b7a4b3c4",
   "metadata": {},
   "outputs": [
    {
     "data": {
      "text/plain": [
       "<seaborn.axisgrid.FacetGrid at 0x206a40669d0>"
      ]
     },
     "execution_count": 38,
     "metadata": {},
     "output_type": "execute_result"
    },
    {
     "data": {
      "image/png": "[encoded data removed]",
      "text/plain": [
       "<Figure size 360x360 with 1 Axes>"
      ]
     },
     "metadata": {
      "needs_background": "light"
     },
     "output_type": "display_data"
    }
   ],
   "source": [
    "sns.displot(df[\"density\"])"
   ]
  },
  {
   "cell_type": "code",
   "execution_count": 39,
   "id": "f49ee5d1",
   "metadata": {},
   "outputs": [
    {
     "data": {
      "text/plain": [
       "<seaborn.axisgrid.FacetGrid at 0x206a3f50460>"
      ]
     },
     "execution_count": 39,
     "metadata": {},
     "output_type": "execute_result"
    },
    {
     "data": {
      "image/png": "[encoded data removed]",
      "text/plain": [
       "<Figure size 360x360 with 1 Axes>"
      ]
     },
     "metadata": {
      "needs_background": "light"
     },
     "output_type": "display_data"
    }
   ],
   "source": [
    "sns.displot(df[\"pH\"])"
   ]
  },
  {
   "cell_type": "code",
   "execution_count": 40,
   "id": "404c42be",
   "metadata": {},
   "outputs": [
    {
     "data": {
      "text/plain": [
       "<seaborn.axisgrid.FacetGrid at 0x206a3ef0af0>"
      ]
     },
     "execution_count": 40,
     "metadata": {},
     "output_type": "execute_result"
    },
    {
     "data": {
      "image/png": "[encoded data removed]",
      "text/plain": [
       "<Figure size 360x360 with 1 Axes>"
      ]
     },
     "metadata": {
      "needs_background": "light"
     },
     "output_type": "display_data"
    }
   ],
   "source": [
    "sns.displot(df[\"sulphates\"])"
   ]
  },
  {
   "cell_type": "code",
   "execution_count": 41,
   "id": "e976bdd7",
   "metadata": {},
   "outputs": [
    {
     "data": {
      "text/plain": [
       "<seaborn.axisgrid.FacetGrid at 0x206a533c9d0>"
      ]
     },
     "execution_count": 41,
     "metadata": {},
     "output_type": "execute_result"
    },
    {
     "data": {
      "image/png": "[encoded data removed]",
      "text/plain": [
       "<Figure size 360x360 with 1 Axes>"
      ]
     },
     "metadata": {
      "needs_background": "light"
     },
     "output_type": "display_data"
    }
   ],
   "source": [
    "sns.displot(df[\"alcohol\"])"
   ]
  },
  {
   "cell_type": "code",
   "execution_count": 42,
   "id": "1f89ea6a",
   "metadata": {},
   "outputs": [
    {
     "data": {
      "text/plain": [
       "fixed acidity           0.124052\n",
       "volatile acidity       -0.390558\n",
       "citric acid             0.226373\n",
       "residual sugar          0.013732\n",
       "chlorides              -0.128907\n",
       "free sulfur dioxide    -0.050656\n",
       "total sulfur dioxide   -0.185100\n",
       "density                -0.174919\n",
       "pH                     -0.057731\n",
       "sulphates               0.251397\n",
       "alcohol                 0.476166\n",
       "quality                 1.000000\n",
       "Name: quality, dtype: float64"
      ]
     },
     "execution_count": 42,
     "metadata": {},
     "output_type": "execute_result"
    }
   ],
   "source": [
    "df.corr()['quality']"
   ]
  },
  {
   "cell_type": "markdown",
   "id": "0f3b2061",
   "metadata": {},
   "source": [
    "since our threshold for skewness is +/-0.055,free sulfur dioxide and pH will be dropped from the data set "
   ]
  },
  {
   "cell_type": "code",
   "execution_count": 43,
   "id": "cc49632c",
   "metadata": {},
   "outputs": [
    {
     "data": {
      "text/html": [
       "<div>\n",
       "<style scoped>\n",
       "    .dataframe tbody tr th:only-of-type {\n",
       "        vertical-align: middle;\n",
       "    }\n",
       "\n",
       "    .dataframe tbody tr th {\n",
       "        vertical-align: top;\n",
       "    }\n",
       "\n",
       "    .dataframe thead th {\n",
       "        text-align: right;\n",
       "    }\n",
       "</style>\n",
       "<table border=\"1\" class=\"dataframe\">\n",
       "  <thead>\n",
       "    <tr style=\"text-align: right;\">\n",
       "      <th></th>\n",
       "      <th>Correlation with Target</th>\n",
       "      <th>Column Name</th>\n",
       "      <th>Normalised</th>\n",
       "      <th>Outliers</th>\n",
       "    </tr>\n",
       "  </thead>\n",
       "  <tbody>\n",
       "    <tr>\n",
       "      <th>0</th>\n",
       "      <td>-0.050656</td>\n",
       "      <td>free sulfur dioxide</td>\n",
       "      <td>No</td>\n",
       "      <td>Alot</td>\n",
       "    </tr>\n",
       "    <tr>\n",
       "      <th>1</th>\n",
       "      <td>-0.057731</td>\n",
       "      <td>pH</td>\n",
       "      <td>No</td>\n",
       "      <td>Alot</td>\n",
       "    </tr>\n",
       "  </tbody>\n",
       "</table>\n",
       "</div>"
      ],
      "text/plain": [
       "  Correlation with Target          Column Name Normalised Outliers\n",
       "0               -0.050656  free sulfur dioxide         No     Alot\n",
       "1               -0.057731                   pH         No     Alot"
      ]
     },
     "execution_count": 43,
     "metadata": {},
     "output_type": "execute_result"
    }
   ],
   "source": [
    "#Data Cleaning \n",
    "delete = pd.DataFrame([[\"-0.050656\",\"free sulfur dioxide\",\"No\",\"Alot\"],[\"-0.057731\",\"pH\",\"No\",\"Alot\"]], columns=[\"Correlation with Target\",\"Column Name\",\"Normalised\",\"Outliers\"]) \n",
    "delete"
   ]
  },
  {
   "cell_type": "markdown",
   "id": "1adbf639",
   "metadata": {},
   "source": [
    "after this, we are dropping these columns from the dataset"
   ]
  },
  {
   "cell_type": "code",
   "execution_count": 44,
   "id": "b68147fd",
   "metadata": {},
   "outputs": [
    {
     "data": {
      "text/html": [
       "<div>\n",
       "<style scoped>\n",
       "    .dataframe tbody tr th:only-of-type {\n",
       "        vertical-align: middle;\n",
       "    }\n",
       "\n",
       "    .dataframe tbody tr th {\n",
       "        vertical-align: top;\n",
       "    }\n",
       "\n",
       "    .dataframe thead th {\n",
       "        text-align: right;\n",
       "    }\n",
       "</style>\n",
       "<table border=\"1\" class=\"dataframe\">\n",
       "  <thead>\n",
       "    <tr style=\"text-align: right;\">\n",
       "      <th></th>\n",
       "      <th>fixed acidity</th>\n",
       "      <th>volatile acidity</th>\n",
       "      <th>citric acid</th>\n",
       "      <th>residual sugar</th>\n",
       "      <th>chlorides</th>\n",
       "      <th>total sulfur dioxide</th>\n",
       "      <th>density</th>\n",
       "      <th>sulphates</th>\n",
       "      <th>alcohol</th>\n",
       "      <th>quality</th>\n",
       "    </tr>\n",
       "  </thead>\n",
       "  <tbody>\n",
       "    <tr>\n",
       "      <th>0</th>\n",
       "      <td>7.4</td>\n",
       "      <td>0.700</td>\n",
       "      <td>0.00</td>\n",
       "      <td>1.9</td>\n",
       "      <td>0.076</td>\n",
       "      <td>34.0</td>\n",
       "      <td>0.99780</td>\n",
       "      <td>0.56</td>\n",
       "      <td>9.4</td>\n",
       "      <td>5</td>\n",
       "    </tr>\n",
       "    <tr>\n",
       "      <th>1</th>\n",
       "      <td>7.8</td>\n",
       "      <td>0.880</td>\n",
       "      <td>0.00</td>\n",
       "      <td>2.6</td>\n",
       "      <td>0.098</td>\n",
       "      <td>67.0</td>\n",
       "      <td>0.99680</td>\n",
       "      <td>0.68</td>\n",
       "      <td>9.8</td>\n",
       "      <td>5</td>\n",
       "    </tr>\n",
       "    <tr>\n",
       "      <th>2</th>\n",
       "      <td>7.8</td>\n",
       "      <td>0.760</td>\n",
       "      <td>0.04</td>\n",
       "      <td>2.3</td>\n",
       "      <td>0.092</td>\n",
       "      <td>54.0</td>\n",
       "      <td>0.99700</td>\n",
       "      <td>0.65</td>\n",
       "      <td>9.8</td>\n",
       "      <td>5</td>\n",
       "    </tr>\n",
       "    <tr>\n",
       "      <th>3</th>\n",
       "      <td>11.2</td>\n",
       "      <td>0.280</td>\n",
       "      <td>0.56</td>\n",
       "      <td>1.9</td>\n",
       "      <td>0.075</td>\n",
       "      <td>60.0</td>\n",
       "      <td>0.99800</td>\n",
       "      <td>0.58</td>\n",
       "      <td>9.8</td>\n",
       "      <td>6</td>\n",
       "    </tr>\n",
       "    <tr>\n",
       "      <th>4</th>\n",
       "      <td>7.4</td>\n",
       "      <td>0.700</td>\n",
       "      <td>0.00</td>\n",
       "      <td>1.9</td>\n",
       "      <td>0.076</td>\n",
       "      <td>34.0</td>\n",
       "      <td>0.99780</td>\n",
       "      <td>0.56</td>\n",
       "      <td>9.4</td>\n",
       "      <td>5</td>\n",
       "    </tr>\n",
       "    <tr>\n",
       "      <th>...</th>\n",
       "      <td>...</td>\n",
       "      <td>...</td>\n",
       "      <td>...</td>\n",
       "      <td>...</td>\n",
       "      <td>...</td>\n",
       "      <td>...</td>\n",
       "      <td>...</td>\n",
       "      <td>...</td>\n",
       "      <td>...</td>\n",
       "      <td>...</td>\n",
       "    </tr>\n",
       "    <tr>\n",
       "      <th>1594</th>\n",
       "      <td>6.2</td>\n",
       "      <td>0.600</td>\n",
       "      <td>0.08</td>\n",
       "      <td>2.0</td>\n",
       "      <td>0.090</td>\n",
       "      <td>44.0</td>\n",
       "      <td>0.99490</td>\n",
       "      <td>0.58</td>\n",
       "      <td>10.5</td>\n",
       "      <td>5</td>\n",
       "    </tr>\n",
       "    <tr>\n",
       "      <th>1595</th>\n",
       "      <td>5.9</td>\n",
       "      <td>0.550</td>\n",
       "      <td>0.10</td>\n",
       "      <td>2.2</td>\n",
       "      <td>0.062</td>\n",
       "      <td>51.0</td>\n",
       "      <td>0.99512</td>\n",
       "      <td>0.76</td>\n",
       "      <td>11.2</td>\n",
       "      <td>6</td>\n",
       "    </tr>\n",
       "    <tr>\n",
       "      <th>1596</th>\n",
       "      <td>6.3</td>\n",
       "      <td>0.510</td>\n",
       "      <td>0.13</td>\n",
       "      <td>2.3</td>\n",
       "      <td>0.076</td>\n",
       "      <td>40.0</td>\n",
       "      <td>0.99574</td>\n",
       "      <td>0.75</td>\n",
       "      <td>11.0</td>\n",
       "      <td>6</td>\n",
       "    </tr>\n",
       "    <tr>\n",
       "      <th>1597</th>\n",
       "      <td>5.9</td>\n",
       "      <td>0.645</td>\n",
       "      <td>0.12</td>\n",
       "      <td>2.0</td>\n",
       "      <td>0.075</td>\n",
       "      <td>44.0</td>\n",
       "      <td>0.99547</td>\n",
       "      <td>0.71</td>\n",
       "      <td>10.2</td>\n",
       "      <td>5</td>\n",
       "    </tr>\n",
       "    <tr>\n",
       "      <th>1598</th>\n",
       "      <td>6.0</td>\n",
       "      <td>0.310</td>\n",
       "      <td>0.47</td>\n",
       "      <td>3.6</td>\n",
       "      <td>0.067</td>\n",
       "      <td>42.0</td>\n",
       "      <td>0.99549</td>\n",
       "      <td>0.66</td>\n",
       "      <td>11.0</td>\n",
       "      <td>6</td>\n",
       "    </tr>\n",
       "  </tbody>\n",
       "</table>\n",
       "<p>1599 rows × 10 columns</p>\n",
       "</div>"
      ],
      "text/plain": [
       "      fixed acidity  volatile acidity  citric acid  residual sugar  chlorides  \\\n",
       "0               7.4             0.700         0.00             1.9      0.076   \n",
       "1               7.8             0.880         0.00             2.6      0.098   \n",
       "2               7.8             0.760         0.04             2.3      0.092   \n",
       "3              11.2             0.280         0.56             1.9      0.075   \n",
       "4               7.4             0.700         0.00             1.9      0.076   \n",
       "...             ...               ...          ...             ...        ...   \n",
       "1594            6.2             0.600         0.08             2.0      0.090   \n",
       "1595            5.9             0.550         0.10             2.2      0.062   \n",
       "1596            6.3             0.510         0.13             2.3      0.076   \n",
       "1597            5.9             0.645         0.12             2.0      0.075   \n",
       "1598            6.0             0.310         0.47             3.6      0.067   \n",
       "\n",
       "      total sulfur dioxide  density  sulphates  alcohol  quality  \n",
       "0                     34.0  0.99780       0.56      9.4        5  \n",
       "1                     67.0  0.99680       0.68      9.8        5  \n",
       "2                     54.0  0.99700       0.65      9.8        5  \n",
       "3                     60.0  0.99800       0.58      9.8        6  \n",
       "4                     34.0  0.99780       0.56      9.4        5  \n",
       "...                    ...      ...        ...      ...      ...  \n",
       "1594                  44.0  0.99490       0.58     10.5        5  \n",
       "1595                  51.0  0.99512       0.76     11.2        6  \n",
       "1596                  40.0  0.99574       0.75     11.0        6  \n",
       "1597                  44.0  0.99547       0.71     10.2        5  \n",
       "1598                  42.0  0.99549       0.66     11.0        6  \n",
       "\n",
       "[1599 rows x 10 columns]"
      ]
     },
     "execution_count": 44,
     "metadata": {},
     "output_type": "execute_result"
    }
   ],
   "source": [
    "#we'll set the threshold for correlation to +/-0.5\n",
    "#dropping the columns with little correlation and a lot of outliers \n",
    "df=df.drop([\"free sulfur dioxide\",\"pH\"],axis=1)\n",
    "df"
   ]
  },
  {
   "cell_type": "markdown",
   "id": "0a53124a",
   "metadata": {},
   "source": [
    "We can see now that our colums have become 10 instead of 12 and free sulphur dioxide and pH are no longer a part of our dataset. "
   ]
  },
  {
   "cell_type": "code",
   "execution_count": 45,
   "id": "af855d07",
   "metadata": {},
   "outputs": [
    {
     "data": {
      "text/plain": [
       "(1599, 10)"
      ]
     },
     "execution_count": 45,
     "metadata": {},
     "output_type": "execute_result"
    }
   ],
   "source": [
    "#removing outliers using z-score techniques\n",
    "from scipy.stats import zscore\n",
    "z=np.abs(zscore(df))\n",
    "z.shape"
   ]
  },
  {
   "cell_type": "code",
   "execution_count": 46,
   "id": "abb6ea91",
   "metadata": {},
   "outputs": [
    {
     "name": "stdout",
     "output_type": "stream",
     "text": [
      "(array([   0,    0,    0, ..., 1598, 1598, 1598], dtype=int64), array([0, 1, 2, ..., 7, 8, 9], dtype=int64))\n"
     ]
    }
   ],
   "source": [
    "#the threshold is 3\n",
    "print(np.where(z<3))"
   ]
  },
  {
   "cell_type": "code",
   "execution_count": 47,
   "id": "43164b73",
   "metadata": {},
   "outputs": [
    {
     "data": {
      "text/plain": [
       "15828"
      ]
     },
     "execution_count": 47,
     "metadata": {},
     "output_type": "execute_result"
    }
   ],
   "source": [
    "#to check the lenght of array\n",
    "len(np.where(z<3)[0])"
   ]
  },
  {
   "cell_type": "code",
   "execution_count": 48,
   "id": "9b4226ab",
   "metadata": {},
   "outputs": [
    {
     "name": "stdout",
     "output_type": "stream",
     "text": [
      "Old Datframe (1599, 10)\n",
      "New Dataframe (1471, 10)\n",
      "Total dropped rows 128\n"
     ]
    }
   ],
   "source": [
    "df_new=df[(z<3).all(axis=1)]\n",
    "print(\"Old Datframe\",df.shape)\n",
    "print(\"New Dataframe\",df_new.shape)\n",
    "print(\"Total dropped rows\",df.shape[0]-df_new.shape[0]) "
   ]
  },
  {
   "cell_type": "code",
   "execution_count": 49,
   "id": "298f59d3",
   "metadata": {},
   "outputs": [
    {
     "name": "stdout",
     "output_type": "stream",
     "text": [
      "The percentage loss is 1507.0050031269543 %\n"
     ]
    }
   ],
   "source": [
    "#to calculate the data loss \n",
    "loss_percent = (1599-1471/1599*100)\n",
    "print(\"The percentage loss is\",loss_percent,\"%\")"
   ]
  },
  {
   "cell_type": "code",
   "execution_count": 50,
   "id": "03bb9cad",
   "metadata": {},
   "outputs": [],
   "source": [
    "#dividing data into dependent and independent variables\n",
    "#independent column\n",
    "x=df_new.iloc[:,:-1]\n",
    "#dependent column\n",
    "y=df_new.iloc[:,-1]"
   ]
  },
  {
   "cell_type": "code",
   "execution_count": 51,
   "id": "3cbc8629",
   "metadata": {},
   "outputs": [
    {
     "data": {
      "text/plain": [
       "(1471, 9)"
      ]
     },
     "execution_count": 51,
     "metadata": {},
     "output_type": "execute_result"
    }
   ],
   "source": [
    "x.shape"
   ]
  },
  {
   "cell_type": "code",
   "execution_count": 52,
   "id": "99da5dbe",
   "metadata": {},
   "outputs": [
    {
     "data": {
      "text/plain": [
       "(1471,)"
      ]
     },
     "execution_count": 52,
     "metadata": {},
     "output_type": "execute_result"
    }
   ],
   "source": [
    "y.shape"
   ]
  },
  {
   "cell_type": "code",
   "execution_count": null,
   "id": "0feab891",
   "metadata": {},
   "outputs": [],
   "source": []
  },
  {
   "cell_type": "code",
   "execution_count": 53,
   "id": "4ce5b4d1",
   "metadata": {},
   "outputs": [
    {
     "data": {
      "text/plain": [
       "array([[-0.45201666,  1.05336539, -1.51633697, ...,  0.64465499,\n",
       "        -0.58974422, -1.12213951],\n",
       "       [-0.16343991,  1.92421624, -1.51633697, ...,  0.06885984,\n",
       "         0.44890432, -0.53576506],\n",
       "       [-0.16343991,  1.35652561, -1.23595304, ...,  0.18435446,\n",
       "         0.21772797, -0.53576506],\n",
       "       ...,\n",
       "       [-1.39250215, -0.00712586, -0.65507939, ..., -0.54607802,\n",
       "         0.92755272,  0.73068437],\n",
       "       [-1.80163612,  0.76293167, -0.71649215, ..., -0.70347338,\n",
       "         0.66384054, -0.04245099],\n",
       "       [-1.69536649, -1.33018678,  1.07893746, ..., -0.69180384,\n",
       "         0.29668378,  0.73068437]])"
      ]
     },
     "execution_count": 53,
     "metadata": {},
     "output_type": "execute_result"
    }
   ],
   "source": [
    "#transforming data to get rid of skewness using the power transform method\n",
    "from sklearn.preprocessing import power_transform\n",
    "x=power_transform(x,method='yeo-johnson')\n",
    "x"
   ]
  },
  {
   "cell_type": "code",
   "execution_count": 54,
   "id": "9945da9e",
   "metadata": {},
   "outputs": [],
   "source": [
    "#Binary classification model will be used because we only have two variables\n",
    "#import all the important libraries\n",
    "from sklearn.model_selection import train_test_split\n",
    "from sklearn.linear_model import LogisticRegression \n",
    "lr=LogisticRegression()\n",
    "from sklearn.metrics import accuracy_score"
   ]
  },
  {
   "cell_type": "code",
   "execution_count": 55,
   "id": "38443eb3",
   "metadata": {},
   "outputs": [
    {
     "name": "stdout",
     "output_type": "stream",
     "text": [
      "At random state 35 The model performs very well\n",
      "At random_state:- 35\n",
      "Training accuracy is:- 60.83408884859474\n",
      "Testing accuracy is:- 61.41304347826087\n",
      "At random state 41 The model performs very well\n",
      "At random_state:- 41\n",
      "Training accuracy is:- 62.37533998186764\n",
      "Testing accuracy is:- 62.5\n",
      "At random state 48 The model performs very well\n",
      "At random_state:- 48\n",
      "Training accuracy is:- 62.01269265639166\n",
      "Testing accuracy is:- 61.95652173913043\n",
      "At random state 68 The model performs very well\n",
      "At random_state:- 68\n",
      "Training accuracy is:- 60.924750679963736\n",
      "Testing accuracy is:- 60.86956521739131\n",
      "At random state 89 The model performs very well\n",
      "At random_state:- 89\n",
      "Training accuracy is:- 61.19673617407072\n",
      "Testing accuracy is:- 61.41304347826087\n",
      "At random state 92 The model performs very well\n",
      "At random_state:- 92\n",
      "Training accuracy is:- 60.83408884859474\n",
      "Testing accuracy is:- 61.41304347826087\n",
      "At random state 108 The model performs very well\n",
      "At random_state:- 108\n",
      "Training accuracy is:- 62.28467815049864\n",
      "Testing accuracy is:- 61.95652173913043\n",
      "At random state 110 The model performs very well\n",
      "At random_state:- 110\n",
      "Training accuracy is:- 62.01269265639166\n",
      "Testing accuracy is:- 62.5\n",
      "At random state 119 The model performs very well\n",
      "At random_state:- 119\n",
      "Training accuracy is:- 60.924750679963736\n",
      "Testing accuracy is:- 60.597826086956516\n",
      "At random state 133 The model performs very well\n",
      "At random_state:- 133\n",
      "Training accuracy is:- 61.46872166817769\n",
      "Testing accuracy is:- 61.141304347826086\n",
      "At random state 138 The model performs very well\n",
      "At random_state:- 138\n",
      "Training accuracy is:- 61.37805983680871\n",
      "Testing accuracy is:- 60.597826086956516\n",
      "At random state 139 The model performs very well\n",
      "At random_state:- 139\n",
      "Training accuracy is:- 61.83136899365367\n",
      "Testing accuracy is:- 62.22826086956522\n",
      "At random state 149 The model performs very well\n",
      "At random_state:- 149\n",
      "Training accuracy is:- 61.106074342701724\n",
      "Testing accuracy is:- 60.86956521739131\n",
      "At random state 160 The model performs very well\n",
      "At random_state:- 160\n",
      "Training accuracy is:- 60.74342701722575\n",
      "Testing accuracy is:- 60.597826086956516\n",
      "At random state 178 The model performs very well\n",
      "At random_state:- 178\n",
      "Training accuracy is:- 61.65004533091568\n",
      "Testing accuracy is:- 61.95652173913043\n",
      "At random state 186 The model performs very well\n",
      "At random_state:- 186\n",
      "Training accuracy is:- 61.287398005439705\n",
      "Testing accuracy is:- 60.86956521739131\n",
      "At random state 203 The model performs very well\n",
      "At random_state:- 203\n",
      "Training accuracy is:- 62.103354487760654\n",
      "Testing accuracy is:- 62.22826086956522\n",
      "At random state 231 The model performs very well\n",
      "At random_state:- 231\n",
      "Training accuracy is:- 61.55938349954669\n",
      "Testing accuracy is:- 62.22826086956522\n",
      "At random state 238 The model performs very well\n",
      "At random_state:- 238\n",
      "Training accuracy is:- 61.19673617407072\n",
      "Testing accuracy is:- 61.41304347826087\n",
      "At random state 240 The model performs very well\n",
      "At random_state:- 240\n",
      "Training accuracy is:- 62.28467815049864\n",
      "Testing accuracy is:- 61.684782608695656\n",
      "At random state 253 The model performs very well\n",
      "At random_state:- 253\n",
      "Training accuracy is:- 62.01269265639166\n",
      "Testing accuracy is:- 61.95652173913043\n",
      "At random state 288 The model performs very well\n",
      "At random_state:- 288\n",
      "Training accuracy is:- 61.46872166817769\n",
      "Testing accuracy is:- 61.141304347826086\n",
      "At random state 290 The model performs very well\n",
      "At random_state:- 290\n",
      "Training accuracy is:- 61.65004533091568\n",
      "Testing accuracy is:- 61.95652173913043\n",
      "At random state 293 The model performs very well\n",
      "At random_state:- 293\n",
      "Training accuracy is:- 60.83408884859474\n",
      "Testing accuracy is:- 61.141304347826086\n",
      "At random state 298 The model performs very well\n",
      "At random_state:- 298\n",
      "Training accuracy is:- 61.46872166817769\n",
      "Testing accuracy is:- 60.597826086956516\n",
      "At random state 302 The model performs very well\n",
      "At random_state:- 302\n",
      "Training accuracy is:- 61.287398005439705\n",
      "Testing accuracy is:- 60.597826086956516\n",
      "At random state 303 The model performs very well\n",
      "At random_state:- 303\n",
      "Training accuracy is:- 61.55938349954669\n",
      "Testing accuracy is:- 61.684782608695656\n",
      "At random state 322 The model performs very well\n",
      "At random_state:- 322\n",
      "Training accuracy is:- 61.46872166817769\n",
      "Testing accuracy is:- 60.86956521739131\n",
      "At random state 328 The model performs very well\n",
      "At random_state:- 328\n",
      "Training accuracy is:- 61.106074342701724\n",
      "Testing accuracy is:- 60.597826086956516\n",
      "At random state 341 The model performs very well\n",
      "At random_state:- 341\n",
      "Training accuracy is:- 61.19673617407072\n",
      "Testing accuracy is:- 61.41304347826087\n",
      "At random state 357 The model performs very well\n",
      "At random_state:- 357\n",
      "Training accuracy is:- 61.46872166817769\n",
      "Testing accuracy is:- 61.141304347826086\n",
      "At random state 358 The model performs very well\n",
      "At random_state:- 358\n",
      "Training accuracy is:- 61.83136899365367\n",
      "Testing accuracy is:- 61.684782608695656\n",
      "At random state 361 The model performs very well\n",
      "At random_state:- 361\n",
      "Training accuracy is:- 61.015412511332734\n",
      "Testing accuracy is:- 61.141304347826086\n",
      "At random state 368 The model performs very well\n",
      "At random_state:- 368\n",
      "Training accuracy is:- 60.65276518585675\n",
      "Testing accuracy is:- 60.597826086956516\n",
      "At random state 373 The model performs very well\n",
      "At random_state:- 373\n",
      "Training accuracy is:- 61.19673617407072\n",
      "Testing accuracy is:- 61.141304347826086\n",
      "At random state 374 The model performs very well\n",
      "At random_state:- 374\n",
      "Training accuracy is:- 61.015412511332734\n",
      "Testing accuracy is:- 61.41304347826087\n",
      "At random state 391 The model performs very well\n",
      "At random_state:- 391\n",
      "Training accuracy is:- 61.19673617407072\n",
      "Testing accuracy is:- 61.41304347826087\n",
      "At random state 392 The model performs very well\n",
      "At random_state:- 392\n",
      "Training accuracy is:- 62.01269265639166\n",
      "Testing accuracy is:- 62.5\n",
      "At random state 403 The model performs very well\n",
      "At random_state:- 403\n",
      "Training accuracy is:- 61.015412511332734\n",
      "Testing accuracy is:- 60.597826086956516\n",
      "At random state 431 The model performs very well\n",
      "At random_state:- 431\n",
      "Training accuracy is:- 61.106074342701724\n",
      "Testing accuracy is:- 60.86956521739131\n",
      "At random state 437 The model performs very well\n",
      "At random_state:- 437\n",
      "Training accuracy is:- 61.65004533091568\n",
      "Testing accuracy is:- 61.95652173913043\n",
      "At random state 445 The model performs very well\n",
      "At random_state:- 445\n",
      "Training accuracy is:- 61.46872166817769\n",
      "Testing accuracy is:- 61.41304347826087\n",
      "At random state 465 The model performs very well\n",
      "At random_state:- 465\n",
      "Training accuracy is:- 61.287398005439705\n",
      "Testing accuracy is:- 61.41304347826087\n",
      "At random state 470 The model performs very well\n",
      "At random_state:- 470\n",
      "Training accuracy is:- 61.46872166817769\n",
      "Testing accuracy is:- 61.41304347826087\n",
      "At random state 475 The model performs very well\n",
      "At random_state:- 475\n",
      "Training accuracy is:- 61.287398005439705\n",
      "Testing accuracy is:- 61.41304347826087\n",
      "At random state 481 The model performs very well\n",
      "At random_state:- 481\n",
      "Training accuracy is:- 61.287398005439705\n",
      "Testing accuracy is:- 61.141304347826086\n",
      "At random state 515 The model performs very well\n",
      "At random_state:- 515\n",
      "Training accuracy is:- 60.924750679963736\n",
      "Testing accuracy is:- 61.141304347826086\n",
      "At random state 528 The model performs very well\n",
      "At random_state:- 528\n",
      "Training accuracy is:- 61.015412511332734\n",
      "Testing accuracy is:- 60.597826086956516\n",
      "At random state 530 The model performs very well\n",
      "At random_state:- 530\n",
      "Training accuracy is:- 61.19673617407072\n",
      "Testing accuracy is:- 61.141304347826086\n",
      "At random state 531 The model performs very well\n",
      "At random_state:- 531\n",
      "Training accuracy is:- 61.37805983680871\n",
      "Testing accuracy is:- 61.141304347826086\n",
      "At random state 538 The model performs very well\n",
      "At random_state:- 538\n",
      "Training accuracy is:- 60.924750679963736\n",
      "Testing accuracy is:- 60.86956521739131\n",
      "At random state 542 The model performs very well\n",
      "At random_state:- 542\n",
      "Training accuracy is:- 62.28467815049864\n",
      "Testing accuracy is:- 62.5\n",
      "At random state 543 The model performs very well\n",
      "At random_state:- 543\n",
      "Training accuracy is:- 60.19945602901179\n",
      "Testing accuracy is:- 60.32608695652174\n",
      "At random state 562 The model performs very well\n",
      "At random_state:- 562\n",
      "Training accuracy is:- 61.83136899365367\n",
      "Testing accuracy is:- 61.684782608695656\n",
      "At random state 573 The model performs very well\n",
      "At random_state:- 573\n",
      "Training accuracy is:- 62.103354487760654\n",
      "Testing accuracy is:- 61.95652173913043\n",
      "At random state 590 The model performs very well\n",
      "At random_state:- 590\n",
      "Training accuracy is:- 61.46872166817769\n",
      "Testing accuracy is:- 61.141304347826086\n",
      "At random state 594 The model performs very well\n",
      "At random_state:- 594\n",
      "Training accuracy is:- 61.65004533091568\n",
      "Testing accuracy is:- 61.684782608695656\n",
      "At random state 597 The model performs very well\n",
      "At random_state:- 597\n",
      "Training accuracy is:- 61.106074342701724\n",
      "Testing accuracy is:- 60.597826086956516\n",
      "At random state 603 The model performs very well\n",
      "At random_state:- 603\n",
      "Training accuracy is:- 61.83136899365367\n",
      "Testing accuracy is:- 61.684782608695656\n",
      "At random state 627 The model performs very well\n",
      "At random_state:- 627\n",
      "Training accuracy is:- 62.103354487760654\n",
      "Testing accuracy is:- 61.95652173913043\n",
      "At random state 635 The model performs very well\n",
      "At random_state:- 635\n",
      "Training accuracy is:- 60.924750679963736\n",
      "Testing accuracy is:- 61.141304347826086\n",
      "At random state 641 The model performs very well\n",
      "At random_state:- 641\n",
      "Training accuracy is:- 60.924750679963736\n",
      "Testing accuracy is:- 61.41304347826087\n",
      "At random state 644 The model performs very well\n",
      "At random_state:- 644\n",
      "Training accuracy is:- 61.55938349954669\n",
      "Testing accuracy is:- 62.5\n",
      "At random state 651 The model performs very well\n",
      "At random_state:- 651\n",
      "Training accuracy is:- 61.92203082502267\n",
      "Testing accuracy is:- 62.22826086956522\n",
      "At random state 653 The model performs very well\n",
      "At random_state:- 653\n",
      "Training accuracy is:- 61.015412511332734\n",
      "Testing accuracy is:- 61.41304347826087\n",
      "At random state 655 The model performs very well\n",
      "At random_state:- 655\n",
      "Training accuracy is:- 62.103354487760654\n",
      "Testing accuracy is:- 61.684782608695656\n",
      "At random state 661 The model performs very well\n",
      "At random_state:- 661\n",
      "Training accuracy is:- 60.74342701722575\n",
      "Testing accuracy is:- 61.41304347826087\n",
      "At random state 667 The model performs very well\n",
      "At random_state:- 667\n",
      "Training accuracy is:- 62.28467815049864\n",
      "Testing accuracy is:- 61.684782608695656\n",
      "At random state 680 The model performs very well\n",
      "At random_state:- 680\n",
      "Training accuracy is:- 61.19673617407072\n",
      "Testing accuracy is:- 60.86956521739131\n",
      "At random state 681 The model performs very well\n",
      "At random_state:- 681\n",
      "Training accuracy is:- 61.287398005439705\n",
      "Testing accuracy is:- 61.41304347826087\n",
      "At random state 688 The model performs very well\n",
      "At random_state:- 688\n",
      "Training accuracy is:- 61.19673617407072\n",
      "Testing accuracy is:- 61.141304347826086\n",
      "At random state 692 The model performs very well\n",
      "At random_state:- 692\n",
      "Training accuracy is:- 61.106074342701724\n",
      "Testing accuracy is:- 60.86956521739131\n",
      "At random state 694 The model performs very well\n",
      "At random_state:- 694\n",
      "Training accuracy is:- 61.55938349954669\n",
      "Testing accuracy is:- 62.5\n",
      "At random state 696 The model performs very well\n",
      "At random_state:- 696\n",
      "Training accuracy is:- 60.74342701722575\n",
      "Testing accuracy is:- 61.41304347826087\n",
      "At random state 699 The model performs very well\n",
      "At random_state:- 699\n",
      "Training accuracy is:- 61.106074342701724\n",
      "Testing accuracy is:- 61.141304347826086\n",
      "At random state 701 The model performs very well\n",
      "At random_state:- 701\n",
      "Training accuracy is:- 61.65004533091568\n",
      "Testing accuracy is:- 61.684782608695656\n",
      "At random state 703 The model performs very well\n",
      "At random_state:- 703\n",
      "Training accuracy is:- 61.46872166817769\n",
      "Testing accuracy is:- 61.141304347826086\n",
      "At random state 717 The model performs very well\n",
      "At random_state:- 717\n",
      "Training accuracy is:- 60.65276518585675\n",
      "Testing accuracy is:- 61.41304347826087\n",
      "At random state 745 The model performs very well\n",
      "At random_state:- 745\n",
      "Training accuracy is:- 60.56210335448776\n",
      "Testing accuracy is:- 61.41304347826087\n",
      "At random state 756 The model performs very well\n",
      "At random_state:- 756\n",
      "Training accuracy is:- 61.015412511332734\n",
      "Testing accuracy is:- 61.41304347826087\n",
      "At random state 772 The model performs very well\n",
      "At random_state:- 772\n",
      "Training accuracy is:- 61.19673617407072\n",
      "Testing accuracy is:- 61.41304347826087\n",
      "At random state 773 The model performs very well\n",
      "At random_state:- 773\n",
      "Training accuracy is:- 61.106074342701724\n",
      "Testing accuracy is:- 60.86956521739131\n",
      "At random state 794 The model performs very well\n",
      "At random_state:- 794\n",
      "Training accuracy is:- 61.19673617407072\n",
      "Testing accuracy is:- 61.141304347826086\n",
      "At random state 796 The model performs very well\n",
      "At random_state:- 796\n",
      "Training accuracy is:- 61.287398005439705\n",
      "Testing accuracy is:- 60.597826086956516\n",
      "At random state 805 The model performs very well\n",
      "At random_state:- 805\n",
      "Training accuracy is:- 61.83136899365367\n",
      "Testing accuracy is:- 62.22826086956522\n",
      "At random state 837 The model performs very well\n",
      "At random_state:- 837\n",
      "Training accuracy is:- 61.287398005439705\n",
      "Testing accuracy is:- 60.597826086956516\n",
      "At random state 844 The model performs very well\n",
      "At random_state:- 844\n",
      "Training accuracy is:- 61.287398005439705\n",
      "Testing accuracy is:- 61.41304347826087\n",
      "At random state 850 The model performs very well\n",
      "At random_state:- 850\n",
      "Training accuracy is:- 60.74342701722575\n",
      "Testing accuracy is:- 60.597826086956516\n",
      "At random state 851 The model performs very well\n",
      "At random_state:- 851\n",
      "Training accuracy is:- 61.46872166817769\n",
      "Testing accuracy is:- 61.41304347826087\n",
      "At random state 860 The model performs very well\n",
      "At random_state:- 860\n",
      "Training accuracy is:- 61.19673617407072\n",
      "Testing accuracy is:- 60.86956521739131\n",
      "At random state 878 The model performs very well\n",
      "At random_state:- 878\n",
      "Training accuracy is:- 62.28467815049864\n",
      "Testing accuracy is:- 61.684782608695656\n",
      "At random state 891 The model performs very well\n",
      "At random_state:- 891\n",
      "Training accuracy is:- 61.65004533091568\n",
      "Testing accuracy is:- 62.5\n",
      "At random state 894 The model performs very well\n",
      "At random_state:- 894\n",
      "Training accuracy is:- 61.19673617407072\n",
      "Testing accuracy is:- 61.41304347826087\n",
      "At random state 906 The model performs very well\n",
      "At random_state:- 906\n",
      "Training accuracy is:- 61.92203082502267\n",
      "Testing accuracy is:- 62.22826086956522\n",
      "At random state 907 The model performs very well\n",
      "At random_state:- 907\n",
      "Training accuracy is:- 60.56210335448776\n",
      "Testing accuracy is:- 61.141304347826086\n",
      "At random state 910 The model performs very well\n",
      "At random_state:- 910\n",
      "Training accuracy is:- 62.28467815049864\n",
      "Testing accuracy is:- 61.684782608695656\n",
      "At random state 918 The model performs very well\n",
      "At random_state:- 918\n",
      "Training accuracy is:- 61.46872166817769\n",
      "Testing accuracy is:- 61.41304347826087\n",
      "At random state 920 The model performs very well\n",
      "At random_state:- 920\n",
      "Training accuracy is:- 61.92203082502267\n",
      "Testing accuracy is:- 62.5\n",
      "At random state 932 The model performs very well\n",
      "At random_state:- 932\n",
      "Training accuracy is:- 60.83408884859474\n",
      "Testing accuracy is:- 61.141304347826086\n",
      "At random state 933 The model performs very well\n",
      "At random_state:- 933\n",
      "Training accuracy is:- 61.55938349954669\n",
      "Testing accuracy is:- 61.684782608695656\n",
      "At random state 938 The model performs very well\n",
      "At random_state:- 938\n",
      "Training accuracy is:- 60.924750679963736\n",
      "Testing accuracy is:- 60.86956521739131\n",
      "At random state 941 The model performs very well\n",
      "At random_state:- 941\n",
      "Training accuracy is:- 62.01269265639166\n",
      "Testing accuracy is:- 61.95652173913043\n",
      "At random state 942 The model performs very well\n",
      "At random_state:- 942\n",
      "Training accuracy is:- 60.38077969174977\n",
      "Testing accuracy is:- 60.32608695652174\n",
      "At random state 943 The model performs very well\n",
      "At random_state:- 943\n",
      "Training accuracy is:- 61.55938349954669\n",
      "Testing accuracy is:- 61.684782608695656\n",
      "At random state 951 The model performs very well\n",
      "At random_state:- 951\n",
      "Training accuracy is:- 61.106074342701724\n",
      "Testing accuracy is:- 60.597826086956516\n",
      "At random state 958 The model performs very well\n",
      "At random_state:- 958\n",
      "Training accuracy is:- 61.55938349954669\n",
      "Testing accuracy is:- 61.684782608695656\n",
      "At random state 964 The model performs very well\n",
      "At random_state:- 964\n",
      "Training accuracy is:- 61.19673617407072\n",
      "Testing accuracy is:- 61.41304347826087\n",
      "At random state 967 The model performs very well\n",
      "At random_state:- 967\n",
      "Training accuracy is:- 61.46872166817769\n",
      "Testing accuracy is:- 60.86956521739131\n",
      "At random state 970 The model performs very well\n",
      "At random_state:- 970\n",
      "Training accuracy is:- 61.74070716228468\n",
      "Testing accuracy is:- 61.684782608695656\n",
      "At random state 995 The model performs very well\n",
      "At random_state:- 995\n",
      "Training accuracy is:- 61.37805983680871\n",
      "Testing accuracy is:- 60.597826086956516\n"
     ]
    }
   ],
   "source": [
    "#slpitting the dataframe for an effective mapping and hyper parameter model\n",
    "for i in range(0,1000):\n",
    "    x_train,x_test,y_train,y_test=train_test_split(x,y,random_state=i,test_size=0.25)\n",
    "    lr.fit(x_train,y_train)\n",
    "    pred_train=lr.predict(x_train)\n",
    "    pred_test=lr.predict(x_test)\n",
    "    if round(accuracy_score(y_train,pred_train)*100)==round(accuracy_score(y_test,pred_test)*100):\n",
    "        print(\"At random state\",i,\"The model performs very well\")\n",
    "        print(\"At random_state:-\",i)\n",
    "        print(\"Training accuracy is:-\",accuracy_score(y_train,pred_train)*100)\n",
    "        print(\"Testing accuracy is:-\",accuracy_score(y_test,pred_test)*100)"
   ]
  },
  {
   "cell_type": "code",
   "execution_count": 56,
   "id": "db41bf93",
   "metadata": {},
   "outputs": [],
   "source": [
    "#The training model \n",
    "x_train,x_test,y_train,y_test=train_test_split(x,y,test_size=.25,random_state=995)"
   ]
  },
  {
   "cell_type": "code",
   "execution_count": 57,
   "id": "28af8753",
   "metadata": {},
   "outputs": [
    {
     "name": "stdout",
     "output_type": "stream",
     "text": [
      "              precision    recall  f1-score   support\n",
      "\n",
      "           4       0.00      0.00      0.00         9\n",
      "           5       0.42      0.46      0.44       156\n",
      "           6       0.39      0.41      0.40       153\n",
      "           7       0.18      0.14      0.16        43\n",
      "           8       0.00      0.00      0.00         7\n",
      "\n",
      "    accuracy                           0.38       368\n",
      "   macro avg       0.20      0.20      0.20       368\n",
      "weighted avg       0.36      0.38      0.37       368\n",
      "\n"
     ]
    }
   ],
   "source": [
    "#classification reports for perfomance evaluation \n",
    "from sklearn.metrics import classification_report\n",
    "print(classification_report(y_test,pred_test))"
   ]
  },
  {
   "cell_type": "code",
   "execution_count": 58,
   "id": "b306b105",
   "metadata": {},
   "outputs": [
    {
     "data": {
      "text/plain": [
       "array([5, 6, 6, 6, 6, 6, 7, 5, 5, 5, 5, 5, 6, 5, 5, 5, 5, 5, 5, 5, 7, 6,\n",
       "       6, 6, 5, 5, 6, 6, 6, 6, 6, 5, 7, 5, 5, 6, 5, 6, 6, 5, 5, 6, 7, 6,\n",
       "       7, 5, 6, 6, 5, 6, 6, 5, 5, 6, 6, 5, 5, 6, 5, 5, 6, 6, 5, 6, 6, 7,\n",
       "       6, 6, 5, 5, 5, 5, 5, 5, 5, 7, 5, 6, 5, 6, 5, 7, 6, 5, 5, 6, 6, 7,\n",
       "       6, 6, 5, 6, 6, 5, 6, 7, 6, 6, 6, 7, 6, 5, 6, 5, 6, 5, 5, 6, 6, 6,\n",
       "       7, 5, 5, 6, 6, 6, 7, 5, 5, 5, 5, 5, 7, 6, 6, 6, 6, 5, 5, 6, 7, 5,\n",
       "       5, 5, 6, 6, 5, 6, 6, 5, 5, 5, 5, 5, 5, 5, 5, 6, 5, 6, 5, 5, 6, 5,\n",
       "       6, 6, 6, 6, 5, 5, 6, 6, 5, 5, 5, 5, 6, 5, 5, 5, 5, 5, 5, 5, 5, 7,\n",
       "       6, 5, 6, 7, 6, 6, 5, 6, 6, 5, 6, 6, 7, 7, 6, 5, 6, 6, 5, 7, 5, 5,\n",
       "       7, 6, 5, 7, 6, 5, 5, 6, 7, 5, 5, 5, 6, 5, 5, 6, 5, 5, 5, 6, 5, 6,\n",
       "       7, 6, 5, 5, 6, 5, 5, 6, 5, 5, 6, 6, 6, 5, 6, 5, 5, 6, 5, 5, 6, 5,\n",
       "       5, 6, 5, 6, 5, 6, 6, 5, 6, 5, 5, 5, 5, 5, 6, 6, 6, 5, 6, 6, 6, 5,\n",
       "       6, 7, 7, 5, 7, 6, 6, 6, 5, 6, 5, 6, 5, 6, 6, 5, 6, 6, 5, 6, 7, 6,\n",
       "       6, 5, 6, 5, 6, 6, 5, 5, 5, 6, 5, 5, 6, 5, 6, 6, 5, 6, 6, 5, 6, 6,\n",
       "       5, 5, 7, 6, 5, 5, 6, 5, 6, 5, 5, 5, 7, 6, 6, 5, 7, 6, 6, 6, 6, 5,\n",
       "       6, 5, 5, 6, 5, 5, 5, 5, 6, 5, 5, 7, 6, 6, 6, 5, 6, 6, 5, 5, 6, 5,\n",
       "       5, 6, 5, 7, 6, 5, 5, 6, 6, 6, 6, 5, 6, 6, 6, 7], dtype=int64)"
      ]
     },
     "execution_count": 58,
     "metadata": {},
     "output_type": "execute_result"
    }
   ],
   "source": [
    "pred_test"
   ]
  },
  {
   "cell_type": "code",
   "execution_count": 59,
   "id": "3dc9a7ab",
   "metadata": {},
   "outputs": [
    {
     "data": {
      "text/plain": [
       "array([[5],\n",
       "       [6],\n",
       "       [6],\n",
       "       [6],\n",
       "       [6],\n",
       "       [6],\n",
       "       [7],\n",
       "       [5],\n",
       "       [5],\n",
       "       [5],\n",
       "       [5],\n",
       "       [5],\n",
       "       [6],\n",
       "       [5],\n",
       "       [5],\n",
       "       [5],\n",
       "       [5],\n",
       "       [5],\n",
       "       [5],\n",
       "       [5],\n",
       "       [7],\n",
       "       [6],\n",
       "       [6],\n",
       "       [6],\n",
       "       [5],\n",
       "       [5],\n",
       "       [6],\n",
       "       [6],\n",
       "       [6],\n",
       "       [6],\n",
       "       [6],\n",
       "       [5],\n",
       "       [7],\n",
       "       [5],\n",
       "       [5],\n",
       "       [6],\n",
       "       [5],\n",
       "       [6],\n",
       "       [6],\n",
       "       [5],\n",
       "       [5],\n",
       "       [6],\n",
       "       [7],\n",
       "       [6],\n",
       "       [7],\n",
       "       [5],\n",
       "       [6],\n",
       "       [6],\n",
       "       [5],\n",
       "       [6],\n",
       "       [6],\n",
       "       [5],\n",
       "       [5],\n",
       "       [6],\n",
       "       [6],\n",
       "       [5],\n",
       "       [5],\n",
       "       [6],\n",
       "       [5],\n",
       "       [5],\n",
       "       [6],\n",
       "       [6],\n",
       "       [5],\n",
       "       [6],\n",
       "       [6],\n",
       "       [7],\n",
       "       [6],\n",
       "       [6],\n",
       "       [5],\n",
       "       [5],\n",
       "       [5],\n",
       "       [5],\n",
       "       [5],\n",
       "       [5],\n",
       "       [5],\n",
       "       [7],\n",
       "       [5],\n",
       "       [6],\n",
       "       [5],\n",
       "       [6],\n",
       "       [5],\n",
       "       [7],\n",
       "       [6],\n",
       "       [5],\n",
       "       [5],\n",
       "       [6],\n",
       "       [6],\n",
       "       [7],\n",
       "       [6],\n",
       "       [6],\n",
       "       [5],\n",
       "       [6],\n",
       "       [6],\n",
       "       [5],\n",
       "       [6],\n",
       "       [7],\n",
       "       [6],\n",
       "       [6],\n",
       "       [6],\n",
       "       [7],\n",
       "       [6],\n",
       "       [5],\n",
       "       [6],\n",
       "       [5],\n",
       "       [6],\n",
       "       [5],\n",
       "       [5],\n",
       "       [6],\n",
       "       [6],\n",
       "       [6],\n",
       "       [7],\n",
       "       [5],\n",
       "       [5],\n",
       "       [6],\n",
       "       [6],\n",
       "       [6],\n",
       "       [7],\n",
       "       [5],\n",
       "       [5],\n",
       "       [5],\n",
       "       [5],\n",
       "       [5],\n",
       "       [7],\n",
       "       [6],\n",
       "       [6],\n",
       "       [6],\n",
       "       [6],\n",
       "       [5],\n",
       "       [5],\n",
       "       [6],\n",
       "       [7],\n",
       "       [5],\n",
       "       [5],\n",
       "       [5],\n",
       "       [6],\n",
       "       [6],\n",
       "       [5],\n",
       "       [6],\n",
       "       [6],\n",
       "       [5],\n",
       "       [5],\n",
       "       [5],\n",
       "       [5],\n",
       "       [5],\n",
       "       [5],\n",
       "       [5],\n",
       "       [5],\n",
       "       [6],\n",
       "       [5],\n",
       "       [6],\n",
       "       [5],\n",
       "       [5],\n",
       "       [6],\n",
       "       [5],\n",
       "       [6],\n",
       "       [6],\n",
       "       [6],\n",
       "       [6],\n",
       "       [5],\n",
       "       [5],\n",
       "       [6],\n",
       "       [6],\n",
       "       [5],\n",
       "       [5],\n",
       "       [5],\n",
       "       [5],\n",
       "       [6],\n",
       "       [5],\n",
       "       [5],\n",
       "       [5],\n",
       "       [5],\n",
       "       [5],\n",
       "       [5],\n",
       "       [5],\n",
       "       [5],\n",
       "       [7],\n",
       "       [6],\n",
       "       [5],\n",
       "       [6],\n",
       "       [7],\n",
       "       [6],\n",
       "       [6],\n",
       "       [5],\n",
       "       [6],\n",
       "       [6],\n",
       "       [5],\n",
       "       [6],\n",
       "       [6],\n",
       "       [7],\n",
       "       [7],\n",
       "       [6],\n",
       "       [5],\n",
       "       [6],\n",
       "       [6],\n",
       "       [5],\n",
       "       [7],\n",
       "       [5],\n",
       "       [5],\n",
       "       [7],\n",
       "       [6],\n",
       "       [5],\n",
       "       [7],\n",
       "       [6],\n",
       "       [5],\n",
       "       [5],\n",
       "       [6],\n",
       "       [7],\n",
       "       [5],\n",
       "       [5],\n",
       "       [5],\n",
       "       [6],\n",
       "       [5],\n",
       "       [5],\n",
       "       [6],\n",
       "       [5],\n",
       "       [5],\n",
       "       [5],\n",
       "       [6],\n",
       "       [5],\n",
       "       [6],\n",
       "       [7],\n",
       "       [6],\n",
       "       [5],\n",
       "       [5],\n",
       "       [6],\n",
       "       [5],\n",
       "       [5],\n",
       "       [6],\n",
       "       [5],\n",
       "       [5],\n",
       "       [6],\n",
       "       [6],\n",
       "       [6],\n",
       "       [5],\n",
       "       [6],\n",
       "       [5],\n",
       "       [5],\n",
       "       [6],\n",
       "       [5],\n",
       "       [5],\n",
       "       [6],\n",
       "       [5],\n",
       "       [5],\n",
       "       [6],\n",
       "       [5],\n",
       "       [6],\n",
       "       [5],\n",
       "       [6],\n",
       "       [6],\n",
       "       [5],\n",
       "       [6],\n",
       "       [5],\n",
       "       [5],\n",
       "       [5],\n",
       "       [5],\n",
       "       [5],\n",
       "       [6],\n",
       "       [6],\n",
       "       [6],\n",
       "       [5],\n",
       "       [6],\n",
       "       [6],\n",
       "       [6],\n",
       "       [5],\n",
       "       [6],\n",
       "       [7],\n",
       "       [7],\n",
       "       [5],\n",
       "       [7],\n",
       "       [6],\n",
       "       [6],\n",
       "       [6],\n",
       "       [5],\n",
       "       [6],\n",
       "       [5],\n",
       "       [6],\n",
       "       [5],\n",
       "       [6],\n",
       "       [6],\n",
       "       [5],\n",
       "       [6],\n",
       "       [6],\n",
       "       [5],\n",
       "       [6],\n",
       "       [7],\n",
       "       [6],\n",
       "       [6],\n",
       "       [5],\n",
       "       [6],\n",
       "       [5],\n",
       "       [6],\n",
       "       [6],\n",
       "       [5],\n",
       "       [5],\n",
       "       [5],\n",
       "       [6],\n",
       "       [5],\n",
       "       [5],\n",
       "       [6],\n",
       "       [5],\n",
       "       [6],\n",
       "       [6],\n",
       "       [5],\n",
       "       [6],\n",
       "       [6],\n",
       "       [5],\n",
       "       [6],\n",
       "       [6],\n",
       "       [5],\n",
       "       [5],\n",
       "       [7],\n",
       "       [6],\n",
       "       [5],\n",
       "       [5],\n",
       "       [6],\n",
       "       [5],\n",
       "       [6],\n",
       "       [5],\n",
       "       [5],\n",
       "       [5],\n",
       "       [7],\n",
       "       [6],\n",
       "       [6],\n",
       "       [5],\n",
       "       [7],\n",
       "       [6],\n",
       "       [6],\n",
       "       [6],\n",
       "       [6],\n",
       "       [5],\n",
       "       [6],\n",
       "       [5],\n",
       "       [5],\n",
       "       [6],\n",
       "       [5],\n",
       "       [5],\n",
       "       [5],\n",
       "       [5],\n",
       "       [6],\n",
       "       [5],\n",
       "       [5],\n",
       "       [7],\n",
       "       [6],\n",
       "       [6],\n",
       "       [6],\n",
       "       [5],\n",
       "       [6],\n",
       "       [6],\n",
       "       [5],\n",
       "       [5],\n",
       "       [6],\n",
       "       [5],\n",
       "       [5],\n",
       "       [6],\n",
       "       [5],\n",
       "       [7],\n",
       "       [6],\n",
       "       [5],\n",
       "       [5],\n",
       "       [6],\n",
       "       [6],\n",
       "       [6],\n",
       "       [6],\n",
       "       [5],\n",
       "       [6],\n",
       "       [6],\n",
       "       [6],\n",
       "       [7]], dtype=int64)"
      ]
     },
     "execution_count": 59,
     "metadata": {},
     "output_type": "execute_result"
    }
   ],
   "source": [
    "pre_test=pred_test.reshape(-1, 1)\n",
    "pre_test"
   ]
  },
  {
   "cell_type": "code",
   "execution_count": 60,
   "id": "2a0b5fb0",
   "metadata": {},
   "outputs": [
    {
     "data": {
      "text/plain": [
       "1584    7\n",
       "711     5\n",
       "353     5\n",
       "484     6\n",
       "1332    6\n",
       "       ..\n",
       "676     6\n",
       "439     5\n",
       "399     5\n",
       "498     8\n",
       "563     6\n",
       "Name: quality, Length: 368, dtype: int64"
      ]
     },
     "execution_count": 60,
     "metadata": {},
     "output_type": "execute_result"
    }
   ],
   "source": [
    "y_test"
   ]
  },
  {
   "cell_type": "code",
   "execution_count": 61,
   "id": "9b579ff1",
   "metadata": {},
   "outputs": [
    {
     "name": "stdout",
     "output_type": "stream",
     "text": [
      "When cv is: 2\n",
      "Cross validation score is: 55.337640490979\n",
      "Accuracy score is: 62.22826086956522\n",
      "\n",
      "When cv is: 3\n",
      "Cross validation score is: 58.398935949125075\n",
      "Accuracy score is: 62.22826086956522\n",
      "\n",
      "When cv is: 4\n",
      "Cross validation score is: 57.71809471626585\n",
      "Accuracy score is: 62.22826086956522\n",
      "\n",
      "When cv is: 5\n",
      "Cross validation score is: 58.53637726276951\n",
      "Accuracy score is: 62.22826086956522\n",
      "\n",
      "When cv is: 6\n",
      "Cross validation score is: 58.6048891101156\n",
      "Accuracy score is: 62.22826086956522\n",
      "\n",
      "When cv is: 7\n",
      "Cross validation score is: 59.082761066511914\n",
      "Accuracy score is: 62.22826086956522\n",
      "\n",
      "When cv is: 8\n",
      "Cross validation score is: 59.346415419339515\n",
      "Accuracy score is: 62.22826086956522\n",
      "\n",
      "When cv is: 9\n",
      "Cross validation score is: 59.22697723909754\n",
      "Accuracy score is: 62.22826086956522\n",
      "\n"
     ]
    }
   ],
   "source": [
    "#cross validation for results of statistical analysis of Logistic Regression \n",
    "pred_lr=lr.predict(x_test)\n",
    "from sklearn.model_selection import cross_val_score\n",
    "lss=accuracy_score(y_test,pred_lr)\n",
    "for m in range(2,10):\n",
    "    lsscore=cross_val_score(lr,x,y,cv=m)\n",
    "    lsc=lsscore.mean()\n",
    "    print(\"When cv is:\",m)\n",
    "    print(\"Cross validation score is:\", lsc*100)\n",
    "    print(\"Accuracy score is:\",lss*100)\n",
    "    print(\"\")"
   ]
  },
  {
   "cell_type": "markdown",
   "id": "92215c22",
   "metadata": {},
   "source": [
    "#From the cross validation report above,our accuracy is very similar to the cross validation, thus we are on the right track "
   ]
  },
  {
   "cell_type": "code",
   "execution_count": 62,
   "id": "834af8a1",
   "metadata": {},
   "outputs": [
    {
     "name": "stdout",
     "output_type": "stream",
     "text": [
      "The total cross validation score is: 0.5922697723909754  The Accuracy score is: 0.6222826086956522\n"
     ]
    }
   ],
   "source": [
    "#Total cross validation and total accuracy\n",
    "lsscore_selected=cross_val_score(lr,x,y,cv=9).mean()\n",
    "print(\"The total cross validation score is:\",lsscore_selected,\"\",\"The Accuracy score is:\",lss)"
   ]
  },
  {
   "cell_type": "code",
   "execution_count": 65,
   "id": "46dca47f",
   "metadata": {},
   "outputs": [],
   "source": [
    "#save model \n",
    "import pickle \n",
    "filename='redwine.pkl'\n",
    "pickle.dump(lr,open(filename,'wb')) "
   ]
  }
 ],
 "metadata": {
  "kernelspec": {
   "display_name": "Python 3 (ipykernel)",
   "language": "python",
   "name": "python3"
  },
  "language_info": {
   "codemirror_mode": {
    "name": "ipython",
    "version": 3
   },
   "file_extension": ".py",
   "mimetype": "text/x-python",
   "name": "python",
   "nbconvert_exporter": "python",
   "pygments_lexer": "ipython3",
   "version": "3.9.7"
  }
 },
 "nbformat": 4,
 "nbformat_minor": 5
}
